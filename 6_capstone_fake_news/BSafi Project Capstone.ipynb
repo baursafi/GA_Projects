{
 "cells": [
  {
   "cell_type": "markdown",
   "metadata": {},
   "source": [
    "# Fake News: From Definition to Identification"
   ]
  },
  {
   "cell_type": "markdown",
   "metadata": {},
   "source": [
    "<h1> <font color = \"green\"> Executive Summary </font></h1>\n",
    "\n",
    "### Introduction\n",
    "The aim of my project is to explore algorythms to help identify fake news from real news. The subject of fake news became popular in connection with the recent US presidential elections and with possible Russian meddling into elections in the US, France, and Germany. The topic has become so hot that several crowdsourced groups composed a dataset that has about 13,000 articles published on various web-sites and categorized them between \"bs\" (as totally fake), just fake, conspiracy, hate, junksci, and bias.\n",
    "\n",
    "### Methods and Results\n",
    "I selected only the ones classified as 'bs' and only in English language to see what makes them stand aside and how I would be able to predict how likely the fresh news be credible or not. In order to compare the set with the credible news, I used a news web scraper package called \"newspaper\". It helped me to add 6000 credible news from the left, center and the right wings of the political specter. \n",
    "\n",
    "Having successfully trained the model on DataCamp's dataset produced interesting results on the data scraped from web and the data set I borrowed on Kaggle.com. This article has its own data set of about six thousand English language news, marked as fake or true. The article uses Multinomial Naive Bayes classifier and fits a model with .858 accuracy score. \n",
    "\n",
    "I intend to use the model that has been fit and tested on Datacamp's data and see if it is applicable to an independent dataset that I am creating in this notebook. Additionally, I want to see how using this model will result in credibility for the news from different political specters. \n",
    "\n",
    "Since applying MultinomialNB algorythm produced results that made me question the common sense, I decided to use other algorithms and finally went with RandomForest. It produced the most reliable results and proved strong through thrain/test split.\n",
    "\n",
    "### Interpretation Results\n",
    "\n",
    "- Using bag-of-words approach in identification of fake/real news proved as a valid approach for the given dataset and the dataset obtained through web-scraping. \n",
    "- Stemming and lemmatization decreases accuracy of prediction.\n",
    "- Multinomial Naive Bayes, although proven effective for predicting spam emails, did not show its effectiveness predicting fake news from real. \n",
    "- RandomForest algorithm showed better results and performed well on a wide range of features. \n",
    "- Imporance features showed a strong influence of 2016 presidential elections.\n",
    "\n",
    "### Recommendation/Next Steps\n",
    "\n",
    "- I did not exclude satire and conspiracy news from the set. Mostly because they are popular on social networks. I think that in the future those two subcategories shall be studied separately. \n",
    "- It would also be interesting to re-approach this subject with word vectorizing techniques and see what topics can be identified in respect to political affiliation of a news source."
   ]
  },
  {
   "cell_type": "markdown",
   "metadata": {},
   "source": [
    "<h2><font color = \"green\"> Part 1: Datacamp's Dataset </font></h2>\n",
    "\n",
    "Instead of introduction, I decided to use the dataset from Datacamp.com website and based on the model they develop,  use it to check on the datasets I have from Kaggle.com and the one I've scraped.\n",
    "(https://www.datacamp.com/community/tutorials/scikit-learn-fake-news#gs.664H2N0) "
   ]
  },
  {
   "cell_type": "code",
   "execution_count": 470,
   "metadata": {
    "collapsed": true
   },
   "outputs": [],
   "source": [
    "import pandas as pd\n",
    "import matplotlib.pyplot as plt"
   ]
  },
  {
   "cell_type": "code",
   "execution_count": 488,
   "metadata": {
    "collapsed": true
   },
   "outputs": [],
   "source": [
    "dt = pd.read_csv(\"data/fake_or_real_news.csv\")"
   ]
  },
  {
   "cell_type": "code",
   "execution_count": 489,
   "metadata": {},
   "outputs": [
    {
     "name": "stdout",
     "output_type": "stream",
     "text": [
      "<class 'pandas.core.frame.DataFrame'>\n",
      "RangeIndex: 6335 entries, 0 to 6334\n",
      "Data columns (total 4 columns):\n",
      "Unnamed: 0    6335 non-null int64\n",
      "title         6335 non-null object\n",
      "text          6335 non-null object\n",
      "label         6335 non-null object\n",
      "dtypes: int64(1), object(3)\n",
      "memory usage: 198.0+ KB\n"
     ]
    }
   ],
   "source": [
    "dt.info()"
   ]
  },
  {
   "cell_type": "code",
   "execution_count": 490,
   "metadata": {},
   "outputs": [
    {
     "data": {
      "text/html": [
       "<div>\n",
       "<style>\n",
       "    .dataframe thead tr:only-child th {\n",
       "        text-align: right;\n",
       "    }\n",
       "\n",
       "    .dataframe thead th {\n",
       "        text-align: left;\n",
       "    }\n",
       "\n",
       "    .dataframe tbody tr th {\n",
       "        vertical-align: top;\n",
       "    }\n",
       "</style>\n",
       "<table border=\"1\" class=\"dataframe\">\n",
       "  <thead>\n",
       "    <tr style=\"text-align: right;\">\n",
       "      <th></th>\n",
       "      <th>Unnamed: 0</th>\n",
       "      <th>title</th>\n",
       "      <th>text</th>\n",
       "      <th>label</th>\n",
       "    </tr>\n",
       "  </thead>\n",
       "  <tbody>\n",
       "    <tr>\n",
       "      <th>0</th>\n",
       "      <td>8476</td>\n",
       "      <td>You Can Smell Hillary’s Fear</td>\n",
       "      <td>Daniel Greenfield, a Shillman Journalism Fello...</td>\n",
       "      <td>FAKE</td>\n",
       "    </tr>\n",
       "    <tr>\n",
       "      <th>1</th>\n",
       "      <td>10294</td>\n",
       "      <td>Watch The Exact Moment Paul Ryan Committed Pol...</td>\n",
       "      <td>Google Pinterest Digg Linkedin Reddit Stumbleu...</td>\n",
       "      <td>FAKE</td>\n",
       "    </tr>\n",
       "    <tr>\n",
       "      <th>2</th>\n",
       "      <td>3608</td>\n",
       "      <td>Kerry to go to Paris in gesture of sympathy</td>\n",
       "      <td>U.S. Secretary of State John F. Kerry said Mon...</td>\n",
       "      <td>REAL</td>\n",
       "    </tr>\n",
       "    <tr>\n",
       "      <th>3</th>\n",
       "      <td>10142</td>\n",
       "      <td>Bernie supporters on Twitter erupt in anger ag...</td>\n",
       "      <td>— Kaydee King (@KaydeeKing) November 9, 2016 T...</td>\n",
       "      <td>FAKE</td>\n",
       "    </tr>\n",
       "    <tr>\n",
       "      <th>4</th>\n",
       "      <td>875</td>\n",
       "      <td>The Battle of New York: Why This Primary Matters</td>\n",
       "      <td>It's primary day in New York and front-runners...</td>\n",
       "      <td>REAL</td>\n",
       "    </tr>\n",
       "  </tbody>\n",
       "</table>\n",
       "</div>"
      ],
      "text/plain": [
       "   Unnamed: 0                                              title  \\\n",
       "0        8476                       You Can Smell Hillary’s Fear   \n",
       "1       10294  Watch The Exact Moment Paul Ryan Committed Pol...   \n",
       "2        3608        Kerry to go to Paris in gesture of sympathy   \n",
       "3       10142  Bernie supporters on Twitter erupt in anger ag...   \n",
       "4         875   The Battle of New York: Why This Primary Matters   \n",
       "\n",
       "                                                text label  \n",
       "0  Daniel Greenfield, a Shillman Journalism Fello...  FAKE  \n",
       "1  Google Pinterest Digg Linkedin Reddit Stumbleu...  FAKE  \n",
       "2  U.S. Secretary of State John F. Kerry said Mon...  REAL  \n",
       "3  — Kaydee King (@KaydeeKing) November 9, 2016 T...  FAKE  \n",
       "4  It's primary day in New York and front-runners...  REAL  "
      ]
     },
     "execution_count": 490,
     "metadata": {},
     "output_type": "execute_result"
    }
   ],
   "source": [
    "dt.head()"
   ]
  },
  {
   "cell_type": "code",
   "execution_count": 491,
   "metadata": {
    "collapsed": true
   },
   "outputs": [],
   "source": [
    "dt = dt.set_index(\"Unnamed: 0\") "
   ]
  },
  {
   "cell_type": "code",
   "execution_count": 492,
   "metadata": {},
   "outputs": [
    {
     "data": {
      "text/html": [
       "<div>\n",
       "<style>\n",
       "    .dataframe thead tr:only-child th {\n",
       "        text-align: right;\n",
       "    }\n",
       "\n",
       "    .dataframe thead th {\n",
       "        text-align: left;\n",
       "    }\n",
       "\n",
       "    .dataframe tbody tr th {\n",
       "        vertical-align: top;\n",
       "    }\n",
       "</style>\n",
       "<table border=\"1\" class=\"dataframe\">\n",
       "  <thead>\n",
       "    <tr style=\"text-align: right;\">\n",
       "      <th></th>\n",
       "      <th>title</th>\n",
       "      <th>text</th>\n",
       "      <th>label</th>\n",
       "    </tr>\n",
       "    <tr>\n",
       "      <th>Unnamed: 0</th>\n",
       "      <th></th>\n",
       "      <th></th>\n",
       "      <th></th>\n",
       "    </tr>\n",
       "  </thead>\n",
       "  <tbody>\n",
       "    <tr>\n",
       "      <th>8476</th>\n",
       "      <td>You Can Smell Hillary’s Fear</td>\n",
       "      <td>Daniel Greenfield, a Shillman Journalism Fello...</td>\n",
       "      <td>FAKE</td>\n",
       "    </tr>\n",
       "    <tr>\n",
       "      <th>10294</th>\n",
       "      <td>Watch The Exact Moment Paul Ryan Committed Pol...</td>\n",
       "      <td>Google Pinterest Digg Linkedin Reddit Stumbleu...</td>\n",
       "      <td>FAKE</td>\n",
       "    </tr>\n",
       "    <tr>\n",
       "      <th>3608</th>\n",
       "      <td>Kerry to go to Paris in gesture of sympathy</td>\n",
       "      <td>U.S. Secretary of State John F. Kerry said Mon...</td>\n",
       "      <td>REAL</td>\n",
       "    </tr>\n",
       "    <tr>\n",
       "      <th>10142</th>\n",
       "      <td>Bernie supporters on Twitter erupt in anger ag...</td>\n",
       "      <td>— Kaydee King (@KaydeeKing) November 9, 2016 T...</td>\n",
       "      <td>FAKE</td>\n",
       "    </tr>\n",
       "    <tr>\n",
       "      <th>875</th>\n",
       "      <td>The Battle of New York: Why This Primary Matters</td>\n",
       "      <td>It's primary day in New York and front-runners...</td>\n",
       "      <td>REAL</td>\n",
       "    </tr>\n",
       "  </tbody>\n",
       "</table>\n",
       "</div>"
      ],
      "text/plain": [
       "                                                        title  \\\n",
       "Unnamed: 0                                                      \n",
       "8476                             You Can Smell Hillary’s Fear   \n",
       "10294       Watch The Exact Moment Paul Ryan Committed Pol...   \n",
       "3608              Kerry to go to Paris in gesture of sympathy   \n",
       "10142       Bernie supporters on Twitter erupt in anger ag...   \n",
       "875          The Battle of New York: Why This Primary Matters   \n",
       "\n",
       "                                                         text label  \n",
       "Unnamed: 0                                                           \n",
       "8476        Daniel Greenfield, a Shillman Journalism Fello...  FAKE  \n",
       "10294       Google Pinterest Digg Linkedin Reddit Stumbleu...  FAKE  \n",
       "3608        U.S. Secretary of State John F. Kerry said Mon...  REAL  \n",
       "10142       — Kaydee King (@KaydeeKing) November 9, 2016 T...  FAKE  \n",
       "875         It's primary day in New York and front-runners...  REAL  "
      ]
     },
     "execution_count": 492,
     "metadata": {},
     "output_type": "execute_result"
    }
   ],
   "source": [
    "dt.head()"
   ]
  },
  {
   "cell_type": "code",
   "execution_count": 493,
   "metadata": {},
   "outputs": [
    {
     "data": {
      "text/plain": [
       "REAL    3171\n",
       "FAKE    3164\n",
       "Name: label, dtype: int64"
      ]
     },
     "execution_count": 493,
     "metadata": {},
     "output_type": "execute_result"
    }
   ],
   "source": [
    "# Checking how balanced the observation groups are.\n",
    "dt.label.value_counts()"
   ]
  },
  {
   "cell_type": "code",
   "execution_count": 494,
   "metadata": {
    "collapsed": true
   },
   "outputs": [],
   "source": [
    "from sklearn.model_selection import train_test_split"
   ]
  },
  {
   "cell_type": "code",
   "execution_count": 495,
   "metadata": {
    "collapsed": true
   },
   "outputs": [],
   "source": [
    "#Set `y` \n",
    "y = dt.label \n",
    " \n",
    "# Drop the `label` column \n",
    "dt.drop(\"label\", axis=1) \n",
    " \n",
    "# Make training and test sets \n",
    "X_train, X_test, y_train, y_test = train_test_split(dt['text'], y, test_size=0.33, random_state=53)"
   ]
  },
  {
   "cell_type": "code",
   "execution_count": 496,
   "metadata": {
    "collapsed": true
   },
   "outputs": [],
   "source": [
    "# Originally the article on Datacamp uses both Countvectorizer and Tfid Vectorizer. \n",
    "# I just decided to go with the latter as for the large dataset and given the different size of articles\n",
    "# would be a better decision on MultinomialNB \n",
    "from sklearn.feature_extraction.text import TfidfVectorizer, CountVectorizer"
   ]
  },
  {
   "cell_type": "code",
   "execution_count": 497,
   "metadata": {
    "collapsed": true
   },
   "outputs": [],
   "source": [
    "# Initialize the `tfidf_vectorizer`\n",
    "tfidf_vectorizer = TfidfVectorizer(stop_words='english', max_df=0.8) \n",
    "\n",
    "# Fit and transform the training data \n",
    "tfidf_train = tfidf_vectorizer.fit_transform(X_train) \n",
    "\n",
    "# Transform the test set \n",
    "tfidf_test = tfidf_vectorizer.transform(X_test)"
   ]
  },
  {
   "cell_type": "code",
   "execution_count": 498,
   "metadata": {},
   "outputs": [
    {
     "name": "stdout",
     "output_type": "stream",
     "text": [
      "[u'\\u062d\\u0644\\u0628', u'\\u0639\\u0631\\u0628\\u064a', u'\\u0639\\u0646', u'\\u0644\\u0645', u'\\u0645\\u0627', u'\\u0645\\u062d\\u0627\\u0648\\u0644\\u0627\\u062a', u'\\u0645\\u0646', u'\\u0647\\u0630\\u0627', u'\\u0648\\u0627\\u0644\\u0645\\u0631\\u0636\\u0649', u'\\u0e22\\u0e07ade']\n"
     ]
    }
   ],
   "source": [
    "# Get the feature names of `tfidf_vectorizer` \n",
    "print(tfidf_vectorizer.get_feature_names()[-10:])"
   ]
  },
  {
   "cell_type": "code",
   "execution_count": 499,
   "metadata": {},
   "outputs": [
    {
     "data": {
      "text/html": [
       "<div>\n",
       "<style>\n",
       "    .dataframe thead tr:only-child th {\n",
       "        text-align: right;\n",
       "    }\n",
       "\n",
       "    .dataframe thead th {\n",
       "        text-align: left;\n",
       "    }\n",
       "\n",
       "    .dataframe tbody tr th {\n",
       "        vertical-align: top;\n",
       "    }\n",
       "</style>\n",
       "<table border=\"1\" class=\"dataframe\">\n",
       "  <thead>\n",
       "    <tr style=\"text-align: right;\">\n",
       "      <th></th>\n",
       "      <th>00</th>\n",
       "      <th>000</th>\n",
       "      <th>0000</th>\n",
       "      <th>00000031</th>\n",
       "      <th>000035</th>\n",
       "      <th>00006</th>\n",
       "      <th>0001</th>\n",
       "      <th>0001pt</th>\n",
       "      <th>000ft</th>\n",
       "      <th>000km</th>\n",
       "      <th>...</th>\n",
       "      <th>حلب</th>\n",
       "      <th>عربي</th>\n",
       "      <th>عن</th>\n",
       "      <th>لم</th>\n",
       "      <th>ما</th>\n",
       "      <th>محاولات</th>\n",
       "      <th>من</th>\n",
       "      <th>هذا</th>\n",
       "      <th>والمرضى</th>\n",
       "      <th>ยงade</th>\n",
       "    </tr>\n",
       "  </thead>\n",
       "  <tbody>\n",
       "    <tr>\n",
       "      <th>0</th>\n",
       "      <td>0.0</td>\n",
       "      <td>0.0</td>\n",
       "      <td>0.0</td>\n",
       "      <td>0.0</td>\n",
       "      <td>0.0</td>\n",
       "      <td>0.0</td>\n",
       "      <td>0.0</td>\n",
       "      <td>0.0</td>\n",
       "      <td>0.0</td>\n",
       "      <td>0.0</td>\n",
       "      <td>...</td>\n",
       "      <td>0.0</td>\n",
       "      <td>0.0</td>\n",
       "      <td>0.0</td>\n",
       "      <td>0.0</td>\n",
       "      <td>0.0</td>\n",
       "      <td>0.0</td>\n",
       "      <td>0.0</td>\n",
       "      <td>0.0</td>\n",
       "      <td>0.0</td>\n",
       "      <td>0.0</td>\n",
       "    </tr>\n",
       "    <tr>\n",
       "      <th>1</th>\n",
       "      <td>0.0</td>\n",
       "      <td>0.0</td>\n",
       "      <td>0.0</td>\n",
       "      <td>0.0</td>\n",
       "      <td>0.0</td>\n",
       "      <td>0.0</td>\n",
       "      <td>0.0</td>\n",
       "      <td>0.0</td>\n",
       "      <td>0.0</td>\n",
       "      <td>0.0</td>\n",
       "      <td>...</td>\n",
       "      <td>0.0</td>\n",
       "      <td>0.0</td>\n",
       "      <td>0.0</td>\n",
       "      <td>0.0</td>\n",
       "      <td>0.0</td>\n",
       "      <td>0.0</td>\n",
       "      <td>0.0</td>\n",
       "      <td>0.0</td>\n",
       "      <td>0.0</td>\n",
       "      <td>0.0</td>\n",
       "    </tr>\n",
       "    <tr>\n",
       "      <th>2</th>\n",
       "      <td>0.0</td>\n",
       "      <td>0.0</td>\n",
       "      <td>0.0</td>\n",
       "      <td>0.0</td>\n",
       "      <td>0.0</td>\n",
       "      <td>0.0</td>\n",
       "      <td>0.0</td>\n",
       "      <td>0.0</td>\n",
       "      <td>0.0</td>\n",
       "      <td>0.0</td>\n",
       "      <td>...</td>\n",
       "      <td>0.0</td>\n",
       "      <td>0.0</td>\n",
       "      <td>0.0</td>\n",
       "      <td>0.0</td>\n",
       "      <td>0.0</td>\n",
       "      <td>0.0</td>\n",
       "      <td>0.0</td>\n",
       "      <td>0.0</td>\n",
       "      <td>0.0</td>\n",
       "      <td>0.0</td>\n",
       "    </tr>\n",
       "    <tr>\n",
       "      <th>3</th>\n",
       "      <td>0.0</td>\n",
       "      <td>0.0</td>\n",
       "      <td>0.0</td>\n",
       "      <td>0.0</td>\n",
       "      <td>0.0</td>\n",
       "      <td>0.0</td>\n",
       "      <td>0.0</td>\n",
       "      <td>0.0</td>\n",
       "      <td>0.0</td>\n",
       "      <td>0.0</td>\n",
       "      <td>...</td>\n",
       "      <td>0.0</td>\n",
       "      <td>0.0</td>\n",
       "      <td>0.0</td>\n",
       "      <td>0.0</td>\n",
       "      <td>0.0</td>\n",
       "      <td>0.0</td>\n",
       "      <td>0.0</td>\n",
       "      <td>0.0</td>\n",
       "      <td>0.0</td>\n",
       "      <td>0.0</td>\n",
       "    </tr>\n",
       "    <tr>\n",
       "      <th>4</th>\n",
       "      <td>0.0</td>\n",
       "      <td>0.0</td>\n",
       "      <td>0.0</td>\n",
       "      <td>0.0</td>\n",
       "      <td>0.0</td>\n",
       "      <td>0.0</td>\n",
       "      <td>0.0</td>\n",
       "      <td>0.0</td>\n",
       "      <td>0.0</td>\n",
       "      <td>0.0</td>\n",
       "      <td>...</td>\n",
       "      <td>0.0</td>\n",
       "      <td>0.0</td>\n",
       "      <td>0.0</td>\n",
       "      <td>0.0</td>\n",
       "      <td>0.0</td>\n",
       "      <td>0.0</td>\n",
       "      <td>0.0</td>\n",
       "      <td>0.0</td>\n",
       "      <td>0.0</td>\n",
       "      <td>0.0</td>\n",
       "    </tr>\n",
       "  </tbody>\n",
       "</table>\n",
       "<p>5 rows × 56922 columns</p>\n",
       "</div>"
      ],
      "text/plain": [
       "    00  000  0000  00000031  000035  00006  0001  0001pt  000ft  000km  ...    \\\n",
       "0  0.0  0.0   0.0       0.0     0.0    0.0   0.0     0.0    0.0    0.0  ...     \n",
       "1  0.0  0.0   0.0       0.0     0.0    0.0   0.0     0.0    0.0    0.0  ...     \n",
       "2  0.0  0.0   0.0       0.0     0.0    0.0   0.0     0.0    0.0    0.0  ...     \n",
       "3  0.0  0.0   0.0       0.0     0.0    0.0   0.0     0.0    0.0    0.0  ...     \n",
       "4  0.0  0.0   0.0       0.0     0.0    0.0   0.0     0.0    0.0    0.0  ...     \n",
       "\n",
       "   حلب  عربي   عن   لم   ما  محاولات   من  هذا  والمرضى  ยงade  \n",
       "0  0.0   0.0  0.0  0.0  0.0      0.0  0.0  0.0      0.0    0.0  \n",
       "1  0.0   0.0  0.0  0.0  0.0      0.0  0.0  0.0      0.0    0.0  \n",
       "2  0.0   0.0  0.0  0.0  0.0      0.0  0.0  0.0      0.0    0.0  \n",
       "3  0.0   0.0  0.0  0.0  0.0      0.0  0.0  0.0      0.0    0.0  \n",
       "4  0.0   0.0  0.0  0.0  0.0      0.0  0.0  0.0      0.0    0.0  \n",
       "\n",
       "[5 rows x 56922 columns]"
      ]
     },
     "execution_count": 499,
     "metadata": {},
     "output_type": "execute_result"
    }
   ],
   "source": [
    "tfidf_df = pd.DataFrame(tfidf_train.A, columns=tfidf_vectorizer.get_feature_names())\n",
    "tfidf_df.head()"
   ]
  },
  {
   "cell_type": "code",
   "execution_count": 500,
   "metadata": {
    "collapsed": true
   },
   "outputs": [],
   "source": [
    "def plot_confusion_matrix(cm, classes,\n",
    "                          normalize=False,\n",
    "                          title='Confusion matrix',\n",
    "                          cmap=plt.cm.Blues):\n",
    "    \"\"\"\n",
    "    See full source and example: \n",
    "    http://scikit-learn.org/stable/auto_examples/model_selection/plot_confusion_matrix.html\n",
    "    \n",
    "    This function prints and plots the confusion matrix.\n",
    "    Normalization can be applied by setting `normalize=True`.\n",
    "    \"\"\"\n",
    "    plt.imshow(cm, interpolation='nearest', cmap=cmap)\n",
    "    plt.title(title)\n",
    "    plt.colorbar()\n",
    "    tick_marks = np.arange(len(classes))\n",
    "    plt.xticks(tick_marks, classes, rotation=45)\n",
    "    plt.yticks(tick_marks, classes)\n",
    "\n",
    "    if normalize:\n",
    "        cm = cm.astype('float') / cm.sum(axis=1)[:, np.newaxis]\n",
    "        print(\"Normalized confusion matrix\")\n",
    "    else:\n",
    "        print('Confusion matrix, without normalization')\n",
    "\n",
    "    thresh = cm.max() / 2.\n",
    "    for i, j in itertools.product(range(cm.shape[0]), range(cm.shape[1])):\n",
    "        plt.text(j, i, cm[i, j],\n",
    "                 horizontalalignment=\"center\",\n",
    "                 color=\"white\" if cm[i, j] > thresh else \"black\")\n",
    "\n",
    "    plt.tight_layout()\n",
    "    plt.ylabel('True label')\n",
    "    plt.xlabel('Predicted label')"
   ]
  },
  {
   "cell_type": "code",
   "execution_count": 501,
   "metadata": {
    "collapsed": true
   },
   "outputs": [],
   "source": [
    "from sklearn.naive_bayes import MultinomialNB\n",
    "from sklearn import metrics\n",
    "import numpy as np\n",
    "import itertools"
   ]
  },
  {
   "cell_type": "code",
   "execution_count": 502,
   "metadata": {
    "collapsed": true
   },
   "outputs": [],
   "source": [
    "clf = MultinomialNB() "
   ]
  },
  {
   "cell_type": "code",
   "execution_count": 503,
   "metadata": {},
   "outputs": [
    {
     "name": "stdout",
     "output_type": "stream",
     "text": [
      "accuracy:   0.857\n",
      "Confusion matrix, without normalization\n"
     ]
    },
    {
     "data": {
      "image/png": "[encoded data removed]",
      "text/plain": [
       "<matplotlib.figure.Figure at 0x19a991fd0>"
      ]
     },
     "metadata": {},
     "output_type": "display_data"
    }
   ],
   "source": [
    "clf.fit(tfidf_train, y_train)\n",
    "pred = clf.predict(tfidf_test)\n",
    "score = metrics.accuracy_score(y_test, pred)\n",
    "#rocauc = metrics.roc_auc_score(y_test, pred, average='weighted')\n",
    "print (\"accuracy:   %0.3f\" % score)\n",
    "#print (\"ROC_AUC score:  %.3f\" % rocauc)\n",
    "cm = metrics.confusion_matrix(y_test, pred, labels=['FAKE', 'REAL'])\n",
    "plot_confusion_matrix(cm, classes=['FAKE', 'REAL'])"
   ]
  },
  {
   "cell_type": "markdown",
   "metadata": {},
   "source": [
    "<font color = \"grey\"> So the model is fit and I will use it later on the Kaggle's dataset of fake news and the set of scraped news. </font>"
   ]
  },
  {
   "cell_type": "markdown",
   "metadata": {},
   "source": [
    "<h2><font color = \"green\">Part 2: Kaggle.com dataset</font></h2>\n",
    "\n",
    "In this part I import the dataset that was kindly crowdsourced and shared on Kaggle.com. I used this set also to try and identify what political wing the news sources belong to and try to identify any commonalities. I also will test this set on model fit above in Part 1."
   ]
  },
  {
   "cell_type": "code",
   "execution_count": 504,
   "metadata": {
    "collapsed": true
   },
   "outputs": [],
   "source": [
    "%matplotlib inline\n",
    "import time\n",
    "import re\n",
    "import tldextract"
   ]
  },
  {
   "cell_type": "code",
   "execution_count": 505,
   "metadata": {
    "collapsed": true
   },
   "outputs": [],
   "source": [
    "f = pd.read_csv('data/fake.csv')"
   ]
  },
  {
   "cell_type": "markdown",
   "metadata": {},
   "source": [
    "In case you decide to upload the data from the Internet, you may have \n",
    "challenges with parsing the file. "
   ]
  },
  {
   "cell_type": "code",
   "execution_count": 506,
   "metadata": {
    "collapsed": true
   },
   "outputs": [],
   "source": [
    "# url_ = 'https://github.com/baursafi/GA_DSI5_Capstone_Data/blob/master/fake.csv'\n",
    "# a = pd.read_csv(url_)"
   ]
  },
  {
   "cell_type": "code",
   "execution_count": 507,
   "metadata": {},
   "outputs": [
    {
     "name": "stdout",
     "output_type": "stream",
     "text": [
      "(12999, 20)\n"
     ]
    },
    {
     "data": {
      "text/html": [
       "<div>\n",
       "<style>\n",
       "    .dataframe thead tr:only-child th {\n",
       "        text-align: right;\n",
       "    }\n",
       "\n",
       "    .dataframe thead th {\n",
       "        text-align: left;\n",
       "    }\n",
       "\n",
       "    .dataframe tbody tr th {\n",
       "        vertical-align: top;\n",
       "    }\n",
       "</style>\n",
       "<table border=\"1\" class=\"dataframe\">\n",
       "  <thead>\n",
       "    <tr style=\"text-align: right;\">\n",
       "      <th></th>\n",
       "      <th>uuid</th>\n",
       "      <th>ord_in_thread</th>\n",
       "      <th>author</th>\n",
       "      <th>published</th>\n",
       "      <th>title</th>\n",
       "      <th>text</th>\n",
       "      <th>language</th>\n",
       "      <th>crawled</th>\n",
       "      <th>site_url</th>\n",
       "      <th>country</th>\n",
       "      <th>domain_rank</th>\n",
       "      <th>thread_title</th>\n",
       "      <th>spam_score</th>\n",
       "      <th>main_img_url</th>\n",
       "      <th>replies_count</th>\n",
       "      <th>participants_count</th>\n",
       "      <th>likes</th>\n",
       "      <th>comments</th>\n",
       "      <th>shares</th>\n",
       "      <th>type</th>\n",
       "    </tr>\n",
       "  </thead>\n",
       "  <tbody>\n",
       "    <tr>\n",
       "      <th>0</th>\n",
       "      <td>6a175f46bcd24d39b3e962ad0f29936721db70db</td>\n",
       "      <td>0</td>\n",
       "      <td>Barracuda Brigade</td>\n",
       "      <td>2016-10-26T21:41:00.000+03:00</td>\n",
       "      <td>Muslims BUSTED: They Stole Millions In Gov’t B...</td>\n",
       "      <td>Print They should pay all the back all the mon...</td>\n",
       "      <td>english</td>\n",
       "      <td>2016-10-27T01:49:27.168+03:00</td>\n",
       "      <td>100percentfedup.com</td>\n",
       "      <td>US</td>\n",
       "      <td>25689.0</td>\n",
       "      <td>Muslims BUSTED: They Stole Millions In Gov’t B...</td>\n",
       "      <td>0.000</td>\n",
       "      <td>http://bb4sp.com/wp-content/uploads/2016/10/Fu...</td>\n",
       "      <td>0</td>\n",
       "      <td>1</td>\n",
       "      <td>0</td>\n",
       "      <td>0</td>\n",
       "      <td>0</td>\n",
       "      <td>bias</td>\n",
       "    </tr>\n",
       "    <tr>\n",
       "      <th>1</th>\n",
       "      <td>2bdc29d12605ef9cf3f09f9875040a7113be5d5b</td>\n",
       "      <td>0</td>\n",
       "      <td>reasoning with facts</td>\n",
       "      <td>2016-10-29T08:47:11.259+03:00</td>\n",
       "      <td>Re: Why Did Attorney General Loretta Lynch Ple...</td>\n",
       "      <td>Why Did Attorney General Loretta Lynch Plead T...</td>\n",
       "      <td>english</td>\n",
       "      <td>2016-10-29T08:47:11.259+03:00</td>\n",
       "      <td>100percentfedup.com</td>\n",
       "      <td>US</td>\n",
       "      <td>25689.0</td>\n",
       "      <td>Re: Why Did Attorney General Loretta Lynch Ple...</td>\n",
       "      <td>0.000</td>\n",
       "      <td>http://bb4sp.com/wp-content/uploads/2016/10/Fu...</td>\n",
       "      <td>0</td>\n",
       "      <td>1</td>\n",
       "      <td>0</td>\n",
       "      <td>0</td>\n",
       "      <td>0</td>\n",
       "      <td>bias</td>\n",
       "    </tr>\n",
       "    <tr>\n",
       "      <th>2</th>\n",
       "      <td>c70e149fdd53de5e61c29281100b9de0ed268bc3</td>\n",
       "      <td>0</td>\n",
       "      <td>Barracuda Brigade</td>\n",
       "      <td>2016-10-31T01:41:49.479+02:00</td>\n",
       "      <td>BREAKING: Weiner Cooperating With FBI On Hilla...</td>\n",
       "      <td>Red State : \\nFox News Sunday reported this mo...</td>\n",
       "      <td>english</td>\n",
       "      <td>2016-10-31T01:41:49.479+02:00</td>\n",
       "      <td>100percentfedup.com</td>\n",
       "      <td>US</td>\n",
       "      <td>25689.0</td>\n",
       "      <td>BREAKING: Weiner Cooperating With FBI On Hilla...</td>\n",
       "      <td>0.000</td>\n",
       "      <td>http://bb4sp.com/wp-content/uploads/2016/10/Fu...</td>\n",
       "      <td>0</td>\n",
       "      <td>1</td>\n",
       "      <td>0</td>\n",
       "      <td>0</td>\n",
       "      <td>0</td>\n",
       "      <td>bias</td>\n",
       "    </tr>\n",
       "    <tr>\n",
       "      <th>3</th>\n",
       "      <td>7cf7c15731ac2a116dd7f629bd57ea468ed70284</td>\n",
       "      <td>0</td>\n",
       "      <td>Fed Up</td>\n",
       "      <td>2016-11-01T05:22:00.000+02:00</td>\n",
       "      <td>PIN DROP SPEECH BY FATHER OF DAUGHTER Kidnappe...</td>\n",
       "      <td>Email Kayla Mueller was a prisoner and torture...</td>\n",
       "      <td>english</td>\n",
       "      <td>2016-11-01T15:46:26.304+02:00</td>\n",
       "      <td>100percentfedup.com</td>\n",
       "      <td>US</td>\n",
       "      <td>25689.0</td>\n",
       "      <td>PIN DROP SPEECH BY FATHER OF DAUGHTER Kidnappe...</td>\n",
       "      <td>0.068</td>\n",
       "      <td>http://100percentfedup.com/wp-content/uploads/...</td>\n",
       "      <td>0</td>\n",
       "      <td>0</td>\n",
       "      <td>0</td>\n",
       "      <td>0</td>\n",
       "      <td>0</td>\n",
       "      <td>bias</td>\n",
       "    </tr>\n",
       "    <tr>\n",
       "      <th>4</th>\n",
       "      <td>0206b54719c7e241ffe0ad4315b808290dbe6c0f</td>\n",
       "      <td>0</td>\n",
       "      <td>Fed Up</td>\n",
       "      <td>2016-11-01T21:56:00.000+02:00</td>\n",
       "      <td>FANTASTIC! TRUMP'S 7 POINT PLAN To Reform Heal...</td>\n",
       "      <td>Email HEALTHCARE REFORM TO MAKE AMERICA GREAT ...</td>\n",
       "      <td>english</td>\n",
       "      <td>2016-11-01T23:59:42.266+02:00</td>\n",
       "      <td>100percentfedup.com</td>\n",
       "      <td>US</td>\n",
       "      <td>25689.0</td>\n",
       "      <td>FANTASTIC! TRUMP'S 7 POINT PLAN To Reform Heal...</td>\n",
       "      <td>0.865</td>\n",
       "      <td>http://100percentfedup.com/wp-content/uploads/...</td>\n",
       "      <td>0</td>\n",
       "      <td>0</td>\n",
       "      <td>0</td>\n",
       "      <td>0</td>\n",
       "      <td>0</td>\n",
       "      <td>bias</td>\n",
       "    </tr>\n",
       "  </tbody>\n",
       "</table>\n",
       "</div>"
      ],
      "text/plain": [
       "                                       uuid  ord_in_thread  \\\n",
       "0  6a175f46bcd24d39b3e962ad0f29936721db70db              0   \n",
       "1  2bdc29d12605ef9cf3f09f9875040a7113be5d5b              0   \n",
       "2  c70e149fdd53de5e61c29281100b9de0ed268bc3              0   \n",
       "3  7cf7c15731ac2a116dd7f629bd57ea468ed70284              0   \n",
       "4  0206b54719c7e241ffe0ad4315b808290dbe6c0f              0   \n",
       "\n",
       "                 author                      published  \\\n",
       "0     Barracuda Brigade  2016-10-26T21:41:00.000+03:00   \n",
       "1  reasoning with facts  2016-10-29T08:47:11.259+03:00   \n",
       "2     Barracuda Brigade  2016-10-31T01:41:49.479+02:00   \n",
       "3                Fed Up  2016-11-01T05:22:00.000+02:00   \n",
       "4                Fed Up  2016-11-01T21:56:00.000+02:00   \n",
       "\n",
       "                                               title  \\\n",
       "0  Muslims BUSTED: They Stole Millions In Gov’t B...   \n",
       "1  Re: Why Did Attorney General Loretta Lynch Ple...   \n",
       "2  BREAKING: Weiner Cooperating With FBI On Hilla...   \n",
       "3  PIN DROP SPEECH BY FATHER OF DAUGHTER Kidnappe...   \n",
       "4  FANTASTIC! TRUMP'S 7 POINT PLAN To Reform Heal...   \n",
       "\n",
       "                                                text language  \\\n",
       "0  Print They should pay all the back all the mon...  english   \n",
       "1  Why Did Attorney General Loretta Lynch Plead T...  english   \n",
       "2  Red State : \\nFox News Sunday reported this mo...  english   \n",
       "3  Email Kayla Mueller was a prisoner and torture...  english   \n",
       "4  Email HEALTHCARE REFORM TO MAKE AMERICA GREAT ...  english   \n",
       "\n",
       "                         crawled             site_url country  domain_rank  \\\n",
       "0  2016-10-27T01:49:27.168+03:00  100percentfedup.com      US      25689.0   \n",
       "1  2016-10-29T08:47:11.259+03:00  100percentfedup.com      US      25689.0   \n",
       "2  2016-10-31T01:41:49.479+02:00  100percentfedup.com      US      25689.0   \n",
       "3  2016-11-01T15:46:26.304+02:00  100percentfedup.com      US      25689.0   \n",
       "4  2016-11-01T23:59:42.266+02:00  100percentfedup.com      US      25689.0   \n",
       "\n",
       "                                        thread_title  spam_score  \\\n",
       "0  Muslims BUSTED: They Stole Millions In Gov’t B...       0.000   \n",
       "1  Re: Why Did Attorney General Loretta Lynch Ple...       0.000   \n",
       "2  BREAKING: Weiner Cooperating With FBI On Hilla...       0.000   \n",
       "3  PIN DROP SPEECH BY FATHER OF DAUGHTER Kidnappe...       0.068   \n",
       "4  FANTASTIC! TRUMP'S 7 POINT PLAN To Reform Heal...       0.865   \n",
       "\n",
       "                                        main_img_url  replies_count  \\\n",
       "0  http://bb4sp.com/wp-content/uploads/2016/10/Fu...              0   \n",
       "1  http://bb4sp.com/wp-content/uploads/2016/10/Fu...              0   \n",
       "2  http://bb4sp.com/wp-content/uploads/2016/10/Fu...              0   \n",
       "3  http://100percentfedup.com/wp-content/uploads/...              0   \n",
       "4  http://100percentfedup.com/wp-content/uploads/...              0   \n",
       "\n",
       "   participants_count  likes  comments  shares  type  \n",
       "0                   1      0         0       0  bias  \n",
       "1                   1      0         0       0  bias  \n",
       "2                   1      0         0       0  bias  \n",
       "3                   0      0         0       0  bias  \n",
       "4                   0      0         0       0  bias  "
      ]
     },
     "execution_count": 507,
     "metadata": {},
     "output_type": "execute_result"
    }
   ],
   "source": [
    "print f.shape\n",
    "f.head()"
   ]
  },
  {
   "cell_type": "code",
   "execution_count": 508,
   "metadata": {},
   "outputs": [
    {
     "data": {
      "text/plain": [
       "bs            11492\n",
       "bias            443\n",
       "conspiracy      430\n",
       "hate            246\n",
       "satire          146\n",
       "state           121\n",
       "junksci         102\n",
       "fake             19\n",
       "Name: type, dtype: int64"
      ]
     },
     "execution_count": 508,
     "metadata": {},
     "output_type": "execute_result"
    }
   ],
   "source": [
    "f.type.value_counts()"
   ]
  },
  {
   "cell_type": "code",
   "execution_count": 509,
   "metadata": {},
   "outputs": [
    {
     "data": {
      "text/plain": [
       "<matplotlib.axes._subplots.AxesSubplot at 0x19885ec50>"
      ]
     },
     "execution_count": 509,
     "metadata": {},
     "output_type": "execute_result"
    },
    {
     "data": {
      "image/png": "[encoded data removed]",
      "text/plain": [
       "<matplotlib.figure.Figure at 0x19885ecd0>"
      ]
     },
     "metadata": {},
     "output_type": "display_data"
    }
   ],
   "source": [
    "plt.figure(figsize=(10,6))\n",
    "f.type.value_counts().plot(kind='bar',title = 'Frequency of Observations by Type', grid = True)"
   ]
  },
  {
   "cell_type": "code",
   "execution_count": 510,
   "metadata": {},
   "outputs": [
    {
     "data": {
      "text/plain": [
       "16"
      ]
     },
     "execution_count": 510,
     "metadata": {},
     "output_type": "execute_result"
    }
   ],
   "source": [
    "len(f.language.unique())"
   ]
  },
  {
   "cell_type": "code",
   "execution_count": 511,
   "metadata": {},
   "outputs": [
    {
     "data": {
      "text/plain": [
       "<matplotlib.axes._subplots.AxesSubplot at 0x19a89f150>"
      ]
     },
     "execution_count": 511,
     "metadata": {},
     "output_type": "execute_result"
    },
    {
     "data": {
      "image/png": "[encoded data removed]",
      "text/plain": [
       "<matplotlib.figure.Figure at 0x19a991c50>"
      ]
     },
     "metadata": {},
     "output_type": "display_data"
    }
   ],
   "source": [
    "plt.figure(figsize=(10,6))\n",
    "f.language.value_counts().plot(kind='bar',title = 'Frequency of Observations by Language', grid = True)"
   ]
  },
  {
   "cell_type": "code",
   "execution_count": 512,
   "metadata": {
    "collapsed": true
   },
   "outputs": [],
   "source": [
    "l = []\n",
    "for i in range(len(f.text)):\n",
    "    l.append(len(str(f.text[i])))\n",
    "l = pd.DataFrame(l)\n",
    "f['textlen'] = l"
   ]
  },
  {
   "cell_type": "code",
   "execution_count": 513,
   "metadata": {},
   "outputs": [
    {
     "data": {
      "text/plain": [
       "<matplotlib.axes._subplots.AxesSubplot at 0x1972b4a50>"
      ]
     },
     "execution_count": 513,
     "metadata": {},
     "output_type": "execute_result"
    },
    {
     "data": {
      "image/png": "[encoded data removed]",
      "text/plain": [
       "<matplotlib.figure.Figure at 0x1972b4f90>"
      ]
     },
     "metadata": {},
     "output_type": "display_data"
    }
   ],
   "source": [
    "plt.figure(figsize=(10,6))\n",
    "f.textlen.hist(bins = 100)"
   ]
  },
  {
   "cell_type": "markdown",
   "metadata": {},
   "source": [
    "<h3>I decided to drop all observations with:</h3>\n",
    "\n",
    "    - in other languages except English\n",
    "    - only identified as 'bs' or 'fake'\n",
    "    - only with lengh of more than 500 and less than 12,000 signs"
   ]
  },
  {
   "cell_type": "code",
   "execution_count": 514,
   "metadata": {},
   "outputs": [
    {
     "name": "stdout",
     "output_type": "stream",
     "text": [
      "(9925, 3)\n"
     ]
    },
    {
     "data": {
      "text/html": [
       "<div>\n",
       "<style>\n",
       "    .dataframe thead tr:only-child th {\n",
       "        text-align: right;\n",
       "    }\n",
       "\n",
       "    .dataframe thead th {\n",
       "        text-align: left;\n",
       "    }\n",
       "\n",
       "    .dataframe tbody tr th {\n",
       "        vertical-align: top;\n",
       "    }\n",
       "</style>\n",
       "<table border=\"1\" class=\"dataframe\">\n",
       "  <thead>\n",
       "    <tr style=\"text-align: right;\">\n",
       "      <th></th>\n",
       "      <th>url</th>\n",
       "      <th>title</th>\n",
       "      <th>text</th>\n",
       "    </tr>\n",
       "  </thead>\n",
       "  <tbody>\n",
       "    <tr>\n",
       "      <th>0</th>\n",
       "      <td>100percentfedup.com</td>\n",
       "      <td>Muslims BUSTED: They Stole Millions In Gov’t B...</td>\n",
       "      <td>Print They should pay all the back all the mon...</td>\n",
       "    </tr>\n",
       "    <tr>\n",
       "      <th>1</th>\n",
       "      <td>100percentfedup.com</td>\n",
       "      <td>Re: Why Did Attorney General Loretta Lynch Ple...</td>\n",
       "      <td>Why Did Attorney General Loretta Lynch Plead T...</td>\n",
       "    </tr>\n",
       "    <tr>\n",
       "      <th>2</th>\n",
       "      <td>100percentfedup.com</td>\n",
       "      <td>BREAKING: Weiner Cooperating With FBI On Hilla...</td>\n",
       "      <td>Red State : \\nFox News Sunday reported this mo...</td>\n",
       "    </tr>\n",
       "    <tr>\n",
       "      <th>3</th>\n",
       "      <td>100percentfedup.com</td>\n",
       "      <td>FANTASTIC! TRUMP'S 7 POINT PLAN To Reform Heal...</td>\n",
       "      <td>Email HEALTHCARE REFORM TO MAKE AMERICA GREAT ...</td>\n",
       "    </tr>\n",
       "    <tr>\n",
       "      <th>4</th>\n",
       "      <td>100percentfedup.com</td>\n",
       "      <td>Hillary Goes Absolutely Berserk On Protester A...</td>\n",
       "      <td>Print Hillary goes absolutely berserk! She exp...</td>\n",
       "    </tr>\n",
       "  </tbody>\n",
       "</table>\n",
       "</div>"
      ],
      "text/plain": [
       "                   url                                              title  \\\n",
       "0  100percentfedup.com  Muslims BUSTED: They Stole Millions In Gov’t B...   \n",
       "1  100percentfedup.com  Re: Why Did Attorney General Loretta Lynch Ple...   \n",
       "2  100percentfedup.com  BREAKING: Weiner Cooperating With FBI On Hilla...   \n",
       "3  100percentfedup.com  FANTASTIC! TRUMP'S 7 POINT PLAN To Reform Heal...   \n",
       "4  100percentfedup.com  Hillary Goes Absolutely Berserk On Protester A...   \n",
       "\n",
       "                                                text  \n",
       "0  Print They should pay all the back all the mon...  \n",
       "1  Why Did Attorney General Loretta Lynch Plead T...  \n",
       "2  Red State : \\nFox News Sunday reported this mo...  \n",
       "3  Email HEALTHCARE REFORM TO MAKE AMERICA GREAT ...  \n",
       "4  Print Hillary goes absolutely berserk! She exp...  "
      ]
     },
     "execution_count": 514,
     "metadata": {},
     "output_type": "execute_result"
    }
   ],
   "source": [
    "#f = f[(f.type == 'bs')|(f.type == 'fake')]\n",
    "f = f[f.language == 'english']\n",
    "f = f[(f.textlen > 500)&(f.textlen < 12000)]\n",
    "f = f[['site_url', 'title', 'text']]\n",
    "f.reset_index(drop = 'index', inplace=True)\n",
    "f.rename(columns = {'site_url':'url'}, inplace=True)\n",
    "print f.shape\n",
    "f.head()"
   ]
  },
  {
   "cell_type": "markdown",
   "metadata": {},
   "source": [
    "<font color = \"red\"><b>NOTE:</b></font>\n",
    "\n",
    "I will go with only those news that come from more or less established news agencies and agglomerators. I decided to take the first 200 web-sites. It looks like they have the vast majority of all the fake news (9885 news left after trimming off the blogs and long papers that hardly fall into the news category)"
   ]
  },
  {
   "cell_type": "code",
   "execution_count": 515,
   "metadata": {},
   "outputs": [
    {
     "data": {
      "text/plain": [
       "9885L"
      ]
     },
     "execution_count": 515,
     "metadata": {},
     "output_type": "execute_result"
    }
   ],
   "source": [
    "f.url.value_counts()[:200].sum()"
   ]
  },
  {
   "cell_type": "code",
   "execution_count": 516,
   "metadata": {
    "collapsed": true
   },
   "outputs": [],
   "source": [
    "#At this stage I can add 'label' of 'FAKE' news to the fake part of the dataset\n",
    "f['label'] = 'FAKE'"
   ]
  },
  {
   "cell_type": "code",
   "execution_count": 517,
   "metadata": {},
   "outputs": [
    {
     "data": {
      "text/html": [
       "<div>\n",
       "<style>\n",
       "    .dataframe thead tr:only-child th {\n",
       "        text-align: right;\n",
       "    }\n",
       "\n",
       "    .dataframe thead th {\n",
       "        text-align: left;\n",
       "    }\n",
       "\n",
       "    .dataframe tbody tr th {\n",
       "        vertical-align: top;\n",
       "    }\n",
       "</style>\n",
       "<table border=\"1\" class=\"dataframe\">\n",
       "  <thead>\n",
       "    <tr style=\"text-align: right;\">\n",
       "      <th></th>\n",
       "      <th>url</th>\n",
       "      <th>title</th>\n",
       "      <th>text</th>\n",
       "      <th>label</th>\n",
       "    </tr>\n",
       "  </thead>\n",
       "  <tbody>\n",
       "    <tr>\n",
       "      <th>0</th>\n",
       "      <td>100percentfedup.com</td>\n",
       "      <td>Muslims BUSTED: They Stole Millions In Gov’t B...</td>\n",
       "      <td>Print They should pay all the back all the mon...</td>\n",
       "      <td>FAKE</td>\n",
       "    </tr>\n",
       "    <tr>\n",
       "      <th>1</th>\n",
       "      <td>100percentfedup.com</td>\n",
       "      <td>Re: Why Did Attorney General Loretta Lynch Ple...</td>\n",
       "      <td>Why Did Attorney General Loretta Lynch Plead T...</td>\n",
       "      <td>FAKE</td>\n",
       "    </tr>\n",
       "  </tbody>\n",
       "</table>\n",
       "</div>"
      ],
      "text/plain": [
       "                   url                                              title  \\\n",
       "0  100percentfedup.com  Muslims BUSTED: They Stole Millions In Gov’t B...   \n",
       "1  100percentfedup.com  Re: Why Did Attorney General Loretta Lynch Ple...   \n",
       "\n",
       "                                                text label  \n",
       "0  Print They should pay all the back all the mon...  FAKE  \n",
       "1  Why Did Attorney General Loretta Lynch Plead T...  FAKE  "
      ]
     },
     "execution_count": 517,
     "metadata": {},
     "output_type": "execute_result"
    }
   ],
   "source": [
    "f.head(2)"
   ]
  },
  {
   "cell_type": "markdown",
   "metadata": {},
   "source": [
    "<font color = \"red\"><h3>Note to political affiliations of the news sources</h3></font>\n",
    "\n",
    "I checked as many as possible from https://mediabiasfactcheck.com  \n",
    "Out of 215 news resources, 60 remain unidentified by their political affiliation. But a great part of them either totally into conspiracy or satire. "
   ]
  },
  {
   "cell_type": "code",
   "execution_count": 518,
   "metadata": {
    "collapsed": true
   },
   "outputs": [],
   "source": [
    "f['wing'] = '0-unknown'\n",
    "f['conspiracy'] = 0\n",
    "f['satire'] = 0"
   ]
  },
  {
   "cell_type": "code",
   "execution_count": 519,
   "metadata": {},
   "outputs": [
    {
     "data": {
      "text/html": [
       "<div>\n",
       "<style>\n",
       "    .dataframe thead tr:only-child th {\n",
       "        text-align: right;\n",
       "    }\n",
       "\n",
       "    .dataframe thead th {\n",
       "        text-align: left;\n",
       "    }\n",
       "\n",
       "    .dataframe tbody tr th {\n",
       "        vertical-align: top;\n",
       "    }\n",
       "</style>\n",
       "<table border=\"1\" class=\"dataframe\">\n",
       "  <thead>\n",
       "    <tr style=\"text-align: right;\">\n",
       "      <th></th>\n",
       "      <th>url</th>\n",
       "      <th>title</th>\n",
       "      <th>text</th>\n",
       "      <th>label</th>\n",
       "      <th>wing</th>\n",
       "      <th>conspiracy</th>\n",
       "      <th>satire</th>\n",
       "    </tr>\n",
       "  </thead>\n",
       "  <tbody>\n",
       "    <tr>\n",
       "      <th>0</th>\n",
       "      <td>100percentfedup.com</td>\n",
       "      <td>Muslims BUSTED: They Stole Millions In Gov’t B...</td>\n",
       "      <td>Print They should pay all the back all the mon...</td>\n",
       "      <td>FAKE</td>\n",
       "      <td>0-unknown</td>\n",
       "      <td>0</td>\n",
       "      <td>0</td>\n",
       "    </tr>\n",
       "  </tbody>\n",
       "</table>\n",
       "</div>"
      ],
      "text/plain": [
       "                   url                                              title  \\\n",
       "0  100percentfedup.com  Muslims BUSTED: They Stole Millions In Gov’t B...   \n",
       "\n",
       "                                                text label       wing  \\\n",
       "0  Print They should pay all the back all the mon...  FAKE  0-unknown   \n",
       "\n",
       "   conspiracy  satire  \n",
       "0           0       0  "
      ]
     },
     "execution_count": 519,
     "metadata": {},
     "output_type": "execute_result"
    }
   ],
   "source": [
    "f.head(1)"
   ]
  },
  {
   "cell_type": "code",
   "execution_count": 520,
   "metadata": {
    "collapsed": true
   },
   "outputs": [],
   "source": [
    "# below I have checked 215 news resources at https://mediabiasfactcheck.com to identify the political affiliation\n",
    "# for each of the news aggregator or the news agency\n",
    "\n",
    "f.loc[f.url.str.contains('consortiumnews|usatoday|politifact|sctimes|timesofsandiego'),'wing'] = '4-center'\n",
    "f.loc[f.url.str.contains('presstv|mintpressnews|latimes|chicagotribune|bustle|natmonitor|politico'),'wing'] = '3-center left'\n",
    "f.loc[f.url.str.contains('antiwar|russia-insider|sputniknews|strategic-culture|postbulletin|hpenews|ustfactsdaily'),'wing'] = '5-center right'\n",
    "f.loc[f.url.str.contains('politicususa|opednews|liberalamerica|truthdig|counterpunch|blackagendareport|guardianlv|ahtribune|intrepidreport|wakingtimes|addictinginfo|activistpost|other98|countercurrents|huffingtonpost|rabble|cnn'),'wing'] = '2-left'\n",
    "f.loc[f.url.str.contains('naturalnews|ijr|wearechange|awdnews|twitchy|thenewamerican|amtvmedia|abovetopsecret|nowtheendbegins|thecommonsenseshow|fromthetrenchesworldreport|nakedcapitalism|prisonplanet|investmentwatchblog|ronpaulinst|thecontroversialfiles|gulagbound|rt|thedailybell|corbettreport|zerohedge|whatreally|wikileaks|newstarg|regated|southfront'),'wing'] = '6-right'\n",
    "f.loc[f.url.str.contains('occupydemocrats|ifyouonlynews|pravdareport|usuncut|newcenturytimes|trueactivist|dailynewsbin'),'wing'] = '1-extreme left'\n",
    "f.loc[f.url.str.contains('madworldnews|thefederalistpapers|conservativetribune|libertyunyielding|truthfeed|freedomoutpost|frontpagemag|dccl|othesline|wnd|ihavethetruth|amren|barenakedislam|returnofkings|trunews|jewsnews|shtfplan|lewrockwell|dailystormer|libertynews|endingthefield|dailywire|vdare|100percentfedup|21stcenturywire|westernjournalism|redflagnews|libertywritersnews|conservativedailypost|departed|breitbart|donaldtrumpnews.co|bipartisanreport|americanlookout|spinzon|usapoliticsnow|usanewsflash|hangthebankers|toprightnews|usasupreme|americasfreedomfighters|viralliberty'),'wing'] = '7-extreme right'\n",
    "\n"
   ]
  },
  {
   "cell_type": "code",
   "execution_count": 521,
   "metadata": {
    "collapsed": true
   },
   "outputs": [],
   "source": [
    "# below, similarly to the cell above the code assigns whether the news agency or agregator \n",
    "# publishes conspiracy/pseudoscience news / information\n",
    "\n",
    "f.loc[f.url.str.contains('yournewswire|trunews|naturalnews|infowars|eutimes|truthfeed|topinfopost|thedailysheeple|jewsnews|wearechange|awdnews|worldtruth|govtslaves|thetruthseeker.co|amtvmedia|sott|abovetopsecret.com|collective-evolution.com|shtfplan.com|theeventchronicle.com|thefreethoughtproject.com|humansarefree.com|veteranstoday.com|lewrockwell.com|nowtheendbegins.com|thecommonsenseshow.com|themindunleashed.comfromthetrenchesworldreport.com|intellihub.com|realfarmacy.com|greanvillepost.com|dailystormer.com|disclose.tv|whydontyoutrythis.com|prisonplanet.com|investmentwatchblog.com|thecontroversialfiles.net|godlikeproductions.com|anonhq.com|abeldanger.net|wakingtimes.com |gulagbound.com|endingthefed.com|healthimpactnews.com|truthbroadcastnetwork.com|21stcenturywire.com|corbettreport.com|undergroundhealth.com|zerohedge.com|geoengineeringwatch.org|conservativedailypost.com|pakalertpress.com|whatreallyhappened.com|coasttocoastam.com|trueactivist.com|activistpost.com|theantimedia.org|usapoliticsnow.com|newstarget.com|theearthchild.co.za|anonews.co|southfront.org|americasfreedomfighters.com|davidwolfe.com|vigilantcitizen.com'),'conspiracy'] = 1\n"
   ]
  },
  {
   "cell_type": "code",
   "execution_count": 522,
   "metadata": {
    "collapsed": true
   },
   "outputs": [],
   "source": [
    "f.loc[f.url.str.contains('waterfordwhispersnews|theonion|thedailymash|thespoof|clickhole|newsthump|newsbiscuit|theunrealtimes|dailysquib|adobochronicles|gomerblog|thelastlineofdefense|satirewire|reductress'),'satire'] = 1\n"
   ]
  },
  {
   "cell_type": "markdown",
   "metadata": {},
   "source": [
    "Thus the news that belong to those news sources split between the political affiliations in the following manner"
   ]
  },
  {
   "cell_type": "code",
   "execution_count": 523,
   "metadata": {},
   "outputs": [
    {
     "data": {
      "text/plain": [
       "0-unknown          4718\n",
       "7-extreme right    2034\n",
       "6-right            1770\n",
       "2-left              677\n",
       "5-center right      273\n",
       "1-extreme left      249\n",
       "3-center left       204\n",
       "Name: wing, dtype: int64"
      ]
     },
     "execution_count": 523,
     "metadata": {},
     "output_type": "execute_result"
    }
   ],
   "source": [
    "f.wing.value_counts()"
   ]
  },
  {
   "cell_type": "code",
   "execution_count": 524,
   "metadata": {},
   "outputs": [
    {
     "data": {
      "text/html": [
       "<div>\n",
       "<style>\n",
       "    .dataframe thead tr:only-child th {\n",
       "        text-align: right;\n",
       "    }\n",
       "\n",
       "    .dataframe thead th {\n",
       "        text-align: left;\n",
       "    }\n",
       "\n",
       "    .dataframe tbody tr th {\n",
       "        vertical-align: top;\n",
       "    }\n",
       "</style>\n",
       "<table border=\"1\" class=\"dataframe\">\n",
       "  <thead>\n",
       "    <tr style=\"text-align: right;\">\n",
       "      <th></th>\n",
       "      <th>url</th>\n",
       "      <th>title</th>\n",
       "      <th>text</th>\n",
       "      <th>label</th>\n",
       "      <th>wing</th>\n",
       "      <th>conspiracy</th>\n",
       "      <th>satire</th>\n",
       "    </tr>\n",
       "  </thead>\n",
       "  <tbody>\n",
       "    <tr>\n",
       "      <th>0</th>\n",
       "      <td>100percentfedup.com</td>\n",
       "      <td>Muslims BUSTED: They Stole Millions In Gov’t B...</td>\n",
       "      <td>Print They should pay all the back all the mon...</td>\n",
       "      <td>FAKE</td>\n",
       "      <td>7-extreme right</td>\n",
       "      <td>0</td>\n",
       "      <td>0</td>\n",
       "    </tr>\n",
       "    <tr>\n",
       "      <th>1</th>\n",
       "      <td>100percentfedup.com</td>\n",
       "      <td>Re: Why Did Attorney General Loretta Lynch Ple...</td>\n",
       "      <td>Why Did Attorney General Loretta Lynch Plead T...</td>\n",
       "      <td>FAKE</td>\n",
       "      <td>7-extreme right</td>\n",
       "      <td>0</td>\n",
       "      <td>0</td>\n",
       "    </tr>\n",
       "    <tr>\n",
       "      <th>2</th>\n",
       "      <td>100percentfedup.com</td>\n",
       "      <td>BREAKING: Weiner Cooperating With FBI On Hilla...</td>\n",
       "      <td>Red State : \\nFox News Sunday reported this mo...</td>\n",
       "      <td>FAKE</td>\n",
       "      <td>7-extreme right</td>\n",
       "      <td>0</td>\n",
       "      <td>0</td>\n",
       "    </tr>\n",
       "    <tr>\n",
       "      <th>3</th>\n",
       "      <td>100percentfedup.com</td>\n",
       "      <td>FANTASTIC! TRUMP'S 7 POINT PLAN To Reform Heal...</td>\n",
       "      <td>Email HEALTHCARE REFORM TO MAKE AMERICA GREAT ...</td>\n",
       "      <td>FAKE</td>\n",
       "      <td>7-extreme right</td>\n",
       "      <td>0</td>\n",
       "      <td>0</td>\n",
       "    </tr>\n",
       "    <tr>\n",
       "      <th>4</th>\n",
       "      <td>100percentfedup.com</td>\n",
       "      <td>Hillary Goes Absolutely Berserk On Protester A...</td>\n",
       "      <td>Print Hillary goes absolutely berserk! She exp...</td>\n",
       "      <td>FAKE</td>\n",
       "      <td>7-extreme right</td>\n",
       "      <td>0</td>\n",
       "      <td>0</td>\n",
       "    </tr>\n",
       "  </tbody>\n",
       "</table>\n",
       "</div>"
      ],
      "text/plain": [
       "                   url                                              title  \\\n",
       "0  100percentfedup.com  Muslims BUSTED: They Stole Millions In Gov’t B...   \n",
       "1  100percentfedup.com  Re: Why Did Attorney General Loretta Lynch Ple...   \n",
       "2  100percentfedup.com  BREAKING: Weiner Cooperating With FBI On Hilla...   \n",
       "3  100percentfedup.com  FANTASTIC! TRUMP'S 7 POINT PLAN To Reform Heal...   \n",
       "4  100percentfedup.com  Hillary Goes Absolutely Berserk On Protester A...   \n",
       "\n",
       "                                                text label             wing  \\\n",
       "0  Print They should pay all the back all the mon...  FAKE  7-extreme right   \n",
       "1  Why Did Attorney General Loretta Lynch Plead T...  FAKE  7-extreme right   \n",
       "2  Red State : \\nFox News Sunday reported this mo...  FAKE  7-extreme right   \n",
       "3  Email HEALTHCARE REFORM TO MAKE AMERICA GREAT ...  FAKE  7-extreme right   \n",
       "4  Print Hillary goes absolutely berserk! She exp...  FAKE  7-extreme right   \n",
       "\n",
       "   conspiracy  satire  \n",
       "0           0       0  \n",
       "1           0       0  \n",
       "2           0       0  \n",
       "3           0       0  \n",
       "4           0       0  "
      ]
     },
     "execution_count": 524,
     "metadata": {},
     "output_type": "execute_result"
    }
   ],
   "source": [
    "f.head()"
   ]
  },
  {
   "cell_type": "code",
   "execution_count": 525,
   "metadata": {},
   "outputs": [
    {
     "data": {
      "text/plain": [
       "0-unknown          4718\n",
       "7-extreme right    2034\n",
       "6-right            1770\n",
       "2-left              677\n",
       "5-center right      273\n",
       "1-extreme left      249\n",
       "3-center left       204\n",
       "Name: wing, dtype: int64"
      ]
     },
     "execution_count": 525,
     "metadata": {},
     "output_type": "execute_result"
    },
    {
     "data": {
      "image/png": "[encoded data removed]",
      "text/plain": [
       "<matplotlib.figure.Figure at 0x1972edc90>"
      ]
     },
     "metadata": {},
     "output_type": "display_data"
    }
   ],
   "source": [
    "# I could only identify about 140 resources by their political wing affiliation. The rest 60 remained unknown. \n",
    "# The great part of those are satirical resource. So I decided to keep them. \n",
    "\n",
    "f.wing.value_counts().plot(kind = 'bar')\n",
    "f.wing.value_counts()"
   ]
  },
  {
   "cell_type": "markdown",
   "metadata": {},
   "source": [
    "### Top 10 most popular words from the list of 100 for each political affiliation:"
   ]
  },
  {
   "cell_type": "code",
   "execution_count": 526,
   "metadata": {
    "collapsed": true
   },
   "outputs": [],
   "source": [
    "# z_ = pd.DataFrame(z_)\n",
    "# z_.columns = i\n",
    "# z_"
   ]
  },
  {
   "cell_type": "code",
   "execution_count": 527,
   "metadata": {},
   "outputs": [
    {
     "name": "stdout",
     "output_type": "stream",
     "text": [
      "(29, 7)\n"
     ]
    }
   ],
   "source": [
    "z_z = pd.DataFrame()\n",
    "z_ = []\n",
    "for i in sorted(f.wing.unique()):\n",
    "    cvec = CountVectorizer(stop_words='english')\n",
    "    cvec.fit(f[f.wing == i].text)\n",
    "    cvecdata = cvec.transform(f[f.wing == i].text)\n",
    "    df = pd.DataFrame(cvecdata.todense(),\n",
    "                     columns = cvec.get_feature_names())\n",
    "    z_ = pd.DataFrame(df.sum())\n",
    "    z_.columns = [\"sums\"]\n",
    "    z_ = pd.DataFrame(z_.sums.sort_values(ascending=False)[:100]/float(z_.sum())*100)\n",
    "    z_z = pd.concat([z_z,z_], axis = 1)\n",
    "z_z.columns = f.wing.unique()\n",
    "z_z.dropna(inplace = True)\n",
    "print z_z.shape"
   ]
  },
  {
   "cell_type": "code",
   "execution_count": 528,
   "metadata": {},
   "outputs": [
    {
     "data": {
      "text/html": [
       "<div>\n",
       "<style>\n",
       "    .dataframe thead tr:only-child th {\n",
       "        text-align: right;\n",
       "    }\n",
       "\n",
       "    .dataframe thead th {\n",
       "        text-align: left;\n",
       "    }\n",
       "\n",
       "    .dataframe tbody tr th {\n",
       "        vertical-align: top;\n",
       "    }\n",
       "</style>\n",
       "<table border=\"1\" class=\"dataframe\">\n",
       "  <thead>\n",
       "    <tr style=\"text-align: right;\">\n",
       "      <th></th>\n",
       "      <th>0-unknown</th>\n",
       "      <th>1-extreme left</th>\n",
       "      <th>2-left</th>\n",
       "      <th>3-center left</th>\n",
       "      <th>5-center right</th>\n",
       "      <th>6-right</th>\n",
       "      <th>7-extreme right</th>\n",
       "      <th>mean</th>\n",
       "    </tr>\n",
       "  </thead>\n",
       "  <tbody>\n",
       "    <tr>\n",
       "      <th>trump</th>\n",
       "      <td>2.383475</td>\n",
       "      <td>0.737667</td>\n",
       "      <td>0.345683</td>\n",
       "      <td>0.899887</td>\n",
       "      <td>0.296505</td>\n",
       "      <td>0.930368</td>\n",
       "      <td>0.529518</td>\n",
       "      <td>0.874729</td>\n",
       "    </tr>\n",
       "    <tr>\n",
       "      <th>clinton</th>\n",
       "      <td>0.720949</td>\n",
       "      <td>0.711559</td>\n",
       "      <td>0.626210</td>\n",
       "      <td>0.991944</td>\n",
       "      <td>0.395339</td>\n",
       "      <td>0.587203</td>\n",
       "      <td>0.536496</td>\n",
       "      <td>0.652814</td>\n",
       "    </tr>\n",
       "    <tr>\n",
       "      <th>said</th>\n",
       "      <td>0.463840</td>\n",
       "      <td>0.409189</td>\n",
       "      <td>0.892259</td>\n",
       "      <td>0.509110</td>\n",
       "      <td>0.413436</td>\n",
       "      <td>0.294597</td>\n",
       "      <td>0.382422</td>\n",
       "      <td>0.480693</td>\n",
       "    </tr>\n",
       "    <tr>\n",
       "      <th>people</th>\n",
       "      <td>0.444730</td>\n",
       "      <td>0.489048</td>\n",
       "      <td>0.508570</td>\n",
       "      <td>0.457677</td>\n",
       "      <td>0.324345</td>\n",
       "      <td>0.534255</td>\n",
       "      <td>0.444190</td>\n",
       "      <td>0.457545</td>\n",
       "    </tr>\n",
       "    <tr>\n",
       "      <th>hillary</th>\n",
       "      <td>0.531591</td>\n",
       "      <td>0.427618</td>\n",
       "      <td>0.231662</td>\n",
       "      <td>0.788636</td>\n",
       "      <td>0.224118</td>\n",
       "      <td>0.298179</td>\n",
       "      <td>0.338963</td>\n",
       "      <td>0.405824</td>\n",
       "    </tr>\n",
       "    <tr>\n",
       "      <th>2016</th>\n",
       "      <td>0.436044</td>\n",
       "      <td>0.371137</td>\n",
       "      <td>0.571915</td>\n",
       "      <td>0.331704</td>\n",
       "      <td>0.199062</td>\n",
       "      <td>0.235279</td>\n",
       "      <td>0.254257</td>\n",
       "      <td>0.342771</td>\n",
       "    </tr>\n",
       "    <tr>\n",
       "      <th>election</th>\n",
       "      <td>0.644511</td>\n",
       "      <td>0.267389</td>\n",
       "      <td>0.244331</td>\n",
       "      <td>0.377360</td>\n",
       "      <td>0.136420</td>\n",
       "      <td>0.322862</td>\n",
       "      <td>0.271668</td>\n",
       "      <td>0.323506</td>\n",
       "    </tr>\n",
       "    <tr>\n",
       "      <th>new</th>\n",
       "      <td>0.307489</td>\n",
       "      <td>0.309025</td>\n",
       "      <td>0.298626</td>\n",
       "      <td>0.307665</td>\n",
       "      <td>0.328522</td>\n",
       "      <td>0.325649</td>\n",
       "      <td>0.318236</td>\n",
       "      <td>0.313602</td>\n",
       "    </tr>\n",
       "    <tr>\n",
       "      <th>president</th>\n",
       "      <td>0.408248</td>\n",
       "      <td>0.296568</td>\n",
       "      <td>0.238901</td>\n",
       "      <td>0.294248</td>\n",
       "      <td>0.300681</td>\n",
       "      <td>0.273497</td>\n",
       "      <td>0.222544</td>\n",
       "      <td>0.290670</td>\n",
       "    </tr>\n",
       "    <tr>\n",
       "      <th>just</th>\n",
       "      <td>0.491635</td>\n",
       "      <td>0.265683</td>\n",
       "      <td>0.166507</td>\n",
       "      <td>0.355930</td>\n",
       "      <td>0.158693</td>\n",
       "      <td>0.258369</td>\n",
       "      <td>0.331432</td>\n",
       "      <td>0.289750</td>\n",
       "    </tr>\n",
       "  </tbody>\n",
       "</table>\n",
       "</div>"
      ],
      "text/plain": [
       "           0-unknown  1-extreme left    2-left  3-center left  5-center right  \\\n",
       "trump       2.383475        0.737667  0.345683       0.899887        0.296505   \n",
       "clinton     0.720949        0.711559  0.626210       0.991944        0.395339   \n",
       "said        0.463840        0.409189  0.892259       0.509110        0.413436   \n",
       "people      0.444730        0.489048  0.508570       0.457677        0.324345   \n",
       "hillary     0.531591        0.427618  0.231662       0.788636        0.224118   \n",
       "2016        0.436044        0.371137  0.571915       0.331704        0.199062   \n",
       "election    0.644511        0.267389  0.244331       0.377360        0.136420   \n",
       "new         0.307489        0.309025  0.298626       0.307665        0.328522   \n",
       "president   0.408248        0.296568  0.238901       0.294248        0.300681   \n",
       "just        0.491635        0.265683  0.166507       0.355930        0.158693   \n",
       "\n",
       "            6-right  7-extreme right      mean  \n",
       "trump      0.930368         0.529518  0.874729  \n",
       "clinton    0.587203         0.536496  0.652814  \n",
       "said       0.294597         0.382422  0.480693  \n",
       "people     0.534255         0.444190  0.457545  \n",
       "hillary    0.298179         0.338963  0.405824  \n",
       "2016       0.235279         0.254257  0.342771  \n",
       "election   0.322862         0.271668  0.323506  \n",
       "new        0.325649         0.318236  0.313602  \n",
       "president  0.273497         0.222544  0.290670  \n",
       "just       0.258369         0.331432  0.289750  "
      ]
     },
     "execution_count": 528,
     "metadata": {},
     "output_type": "execute_result"
    }
   ],
   "source": [
    "z_z = z_z[sorted(f.wing.unique())]\n",
    "z_z['mean'] = z_z.mean(axis=1)\n",
    "z_z = z_z.sort_values(by = \"mean\", ascending=False)[:10]\n",
    "z_z.to_csv(\"data/fake_word_freq.csv\")\n",
    "z_z"
   ]
  },
  {
   "cell_type": "code",
   "execution_count": 529,
   "metadata": {
    "scrolled": true
   },
   "outputs": [
    {
     "data": {
      "text/html": [
       "<div>\n",
       "<style>\n",
       "    .dataframe thead tr:only-child th {\n",
       "        text-align: right;\n",
       "    }\n",
       "\n",
       "    .dataframe thead th {\n",
       "        text-align: left;\n",
       "    }\n",
       "\n",
       "    .dataframe tbody tr th {\n",
       "        vertical-align: top;\n",
       "    }\n",
       "</style>\n",
       "<table border=\"1\" class=\"dataframe\">\n",
       "  <thead>\n",
       "    <tr style=\"text-align: right;\">\n",
       "      <th></th>\n",
       "      <th>00</th>\n",
       "      <th>000</th>\n",
       "      <th>000km</th>\n",
       "      <th>001</th>\n",
       "      <th>007</th>\n",
       "      <th>00o</th>\n",
       "      <th>01</th>\n",
       "      <th>015</th>\n",
       "      <th>018</th>\n",
       "      <th>02</th>\n",
       "      <th>...</th>\n",
       "      <th>ź300</th>\n",
       "      <th>ź4</th>\n",
       "      <th>ź50</th>\n",
       "      <th>за</th>\n",
       "      <th>эa</th>\n",
       "      <th>эin</th>\n",
       "      <th>эthe</th>\n",
       "      <th>إنفوجرافيك</th>\n",
       "      <th>السعودية</th>\n",
       "      <th>ノhillbro</th>\n",
       "    </tr>\n",
       "  </thead>\n",
       "  <tbody>\n",
       "    <tr>\n",
       "      <th>0</th>\n",
       "      <td>0</td>\n",
       "      <td>0</td>\n",
       "      <td>0</td>\n",
       "      <td>0</td>\n",
       "      <td>0</td>\n",
       "      <td>0</td>\n",
       "      <td>0</td>\n",
       "      <td>0</td>\n",
       "      <td>0</td>\n",
       "      <td>0</td>\n",
       "      <td>...</td>\n",
       "      <td>0</td>\n",
       "      <td>0</td>\n",
       "      <td>0</td>\n",
       "      <td>0</td>\n",
       "      <td>0</td>\n",
       "      <td>0</td>\n",
       "      <td>0</td>\n",
       "      <td>0</td>\n",
       "      <td>0</td>\n",
       "      <td>0</td>\n",
       "    </tr>\n",
       "    <tr>\n",
       "      <th>1</th>\n",
       "      <td>0</td>\n",
       "      <td>0</td>\n",
       "      <td>0</td>\n",
       "      <td>0</td>\n",
       "      <td>0</td>\n",
       "      <td>0</td>\n",
       "      <td>0</td>\n",
       "      <td>0</td>\n",
       "      <td>0</td>\n",
       "      <td>0</td>\n",
       "      <td>...</td>\n",
       "      <td>0</td>\n",
       "      <td>0</td>\n",
       "      <td>0</td>\n",
       "      <td>0</td>\n",
       "      <td>0</td>\n",
       "      <td>0</td>\n",
       "      <td>0</td>\n",
       "      <td>0</td>\n",
       "      <td>0</td>\n",
       "      <td>0</td>\n",
       "    </tr>\n",
       "    <tr>\n",
       "      <th>2</th>\n",
       "      <td>0</td>\n",
       "      <td>0</td>\n",
       "      <td>0</td>\n",
       "      <td>0</td>\n",
       "      <td>0</td>\n",
       "      <td>0</td>\n",
       "      <td>0</td>\n",
       "      <td>0</td>\n",
       "      <td>0</td>\n",
       "      <td>0</td>\n",
       "      <td>...</td>\n",
       "      <td>0</td>\n",
       "      <td>0</td>\n",
       "      <td>0</td>\n",
       "      <td>0</td>\n",
       "      <td>0</td>\n",
       "      <td>0</td>\n",
       "      <td>0</td>\n",
       "      <td>0</td>\n",
       "      <td>0</td>\n",
       "      <td>0</td>\n",
       "    </tr>\n",
       "    <tr>\n",
       "      <th>3</th>\n",
       "      <td>0</td>\n",
       "      <td>0</td>\n",
       "      <td>0</td>\n",
       "      <td>0</td>\n",
       "      <td>0</td>\n",
       "      <td>0</td>\n",
       "      <td>0</td>\n",
       "      <td>0</td>\n",
       "      <td>0</td>\n",
       "      <td>0</td>\n",
       "      <td>...</td>\n",
       "      <td>0</td>\n",
       "      <td>0</td>\n",
       "      <td>0</td>\n",
       "      <td>0</td>\n",
       "      <td>0</td>\n",
       "      <td>0</td>\n",
       "      <td>0</td>\n",
       "      <td>0</td>\n",
       "      <td>0</td>\n",
       "      <td>0</td>\n",
       "    </tr>\n",
       "    <tr>\n",
       "      <th>4</th>\n",
       "      <td>0</td>\n",
       "      <td>0</td>\n",
       "      <td>0</td>\n",
       "      <td>0</td>\n",
       "      <td>0</td>\n",
       "      <td>0</td>\n",
       "      <td>0</td>\n",
       "      <td>0</td>\n",
       "      <td>0</td>\n",
       "      <td>0</td>\n",
       "      <td>...</td>\n",
       "      <td>0</td>\n",
       "      <td>0</td>\n",
       "      <td>0</td>\n",
       "      <td>0</td>\n",
       "      <td>0</td>\n",
       "      <td>0</td>\n",
       "      <td>0</td>\n",
       "      <td>0</td>\n",
       "      <td>0</td>\n",
       "      <td>0</td>\n",
       "    </tr>\n",
       "  </tbody>\n",
       "</table>\n",
       "<p>5 rows × 33194 columns</p>\n",
       "</div>"
      ],
      "text/plain": [
       "   00  000  000km  001  007  00o  01  015  018  02    ...     ź300  ź4  ź50  \\\n",
       "0   0    0      0    0    0    0   0    0    0   0    ...        0   0    0   \n",
       "1   0    0      0    0    0    0   0    0    0   0    ...        0   0    0   \n",
       "2   0    0      0    0    0    0   0    0    0   0    ...        0   0    0   \n",
       "3   0    0      0    0    0    0   0    0    0   0    ...        0   0    0   \n",
       "4   0    0      0    0    0    0   0    0    0   0    ...        0   0    0   \n",
       "\n",
       "   за  эa  эin  эthe  إنفوجرافيك  السعودية  ノhillbro  \n",
       "0   0   0    0     0           0         0         0  \n",
       "1   0   0    0     0           0         0         0  \n",
       "2   0   0    0     0           0         0         0  \n",
       "3   0   0    0     0           0         0         0  \n",
       "4   0   0    0     0           0         0         0  \n",
       "\n",
       "[5 rows x 33194 columns]"
      ]
     },
     "execution_count": 529,
     "metadata": {},
     "output_type": "execute_result"
    }
   ],
   "source": [
    "df.head()"
   ]
  },
  {
   "cell_type": "code",
   "execution_count": 530,
   "metadata": {},
   "outputs": [
    {
     "data": {
      "text/html": [
       "<div>\n",
       "<style>\n",
       "    .dataframe thead tr:only-child th {\n",
       "        text-align: right;\n",
       "    }\n",
       "\n",
       "    .dataframe thead th {\n",
       "        text-align: left;\n",
       "    }\n",
       "\n",
       "    .dataframe tbody tr th {\n",
       "        vertical-align: top;\n",
       "    }\n",
       "</style>\n",
       "<table border=\"1\" class=\"dataframe\">\n",
       "  <thead>\n",
       "    <tr style=\"text-align: right;\">\n",
       "      <th></th>\n",
       "      <th>conspiracy</th>\n",
       "      <th>satire</th>\n",
       "    </tr>\n",
       "    <tr>\n",
       "      <th>wing</th>\n",
       "      <th></th>\n",
       "      <th></th>\n",
       "    </tr>\n",
       "  </thead>\n",
       "  <tbody>\n",
       "    <tr>\n",
       "      <th>0-unknown</th>\n",
       "      <td>1903</td>\n",
       "      <td>741</td>\n",
       "    </tr>\n",
       "    <tr>\n",
       "      <th>1-extreme left</th>\n",
       "      <td>9</td>\n",
       "      <td>0</td>\n",
       "    </tr>\n",
       "    <tr>\n",
       "      <th>2-left</th>\n",
       "      <td>8</td>\n",
       "      <td>0</td>\n",
       "    </tr>\n",
       "    <tr>\n",
       "      <th>3-center left</th>\n",
       "      <td>0</td>\n",
       "      <td>0</td>\n",
       "    </tr>\n",
       "    <tr>\n",
       "      <th>5-center right</th>\n",
       "      <td>0</td>\n",
       "      <td>0</td>\n",
       "    </tr>\n",
       "    <tr>\n",
       "      <th>6-right</th>\n",
       "      <td>902</td>\n",
       "      <td>0</td>\n",
       "    </tr>\n",
       "    <tr>\n",
       "      <th>7-extreme right</th>\n",
       "      <td>567</td>\n",
       "      <td>0</td>\n",
       "    </tr>\n",
       "  </tbody>\n",
       "</table>\n",
       "</div>"
      ],
      "text/plain": [
       "                 conspiracy  satire\n",
       "wing                               \n",
       "0-unknown              1903     741\n",
       "1-extreme left            9       0\n",
       "2-left                    8       0\n",
       "3-center left             0       0\n",
       "5-center right            0       0\n",
       "6-right                 902       0\n",
       "7-extreme right         567       0"
      ]
     },
     "execution_count": 530,
     "metadata": {},
     "output_type": "execute_result"
    }
   ],
   "source": [
    "f.groupby('wing').sum()"
   ]
  },
  {
   "cell_type": "markdown",
   "metadata": {},
   "source": [
    "### Satirical articles have the whole story out of the most frequent words."
   ]
  },
  {
   "cell_type": "code",
   "execution_count": 531,
   "metadata": {},
   "outputs": [
    {
     "data": {
      "text/html": [
       "<div>\n",
       "<style>\n",
       "    .dataframe thead tr:only-child th {\n",
       "        text-align: right;\n",
       "    }\n",
       "\n",
       "    .dataframe thead th {\n",
       "        text-align: left;\n",
       "    }\n",
       "\n",
       "    .dataframe tbody tr th {\n",
       "        vertical-align: top;\n",
       "    }\n",
       "</style>\n",
       "<table border=\"1\" class=\"dataframe\">\n",
       "  <thead>\n",
       "    <tr style=\"text-align: right;\">\n",
       "      <th></th>\n",
       "      <th>percent</th>\n",
       "    </tr>\n",
       "  </thead>\n",
       "  <tbody>\n",
       "    <tr>\n",
       "      <th>trump</th>\n",
       "      <td>0.769656</td>\n",
       "    </tr>\n",
       "    <tr>\n",
       "      <th>just</th>\n",
       "      <td>0.656520</td>\n",
       "    </tr>\n",
       "    <tr>\n",
       "      <th>said</th>\n",
       "      <td>0.539255</td>\n",
       "    </tr>\n",
       "    <tr>\n",
       "      <th>like</th>\n",
       "      <td>0.451719</td>\n",
       "    </tr>\n",
       "    <tr>\n",
       "      <th>2016</th>\n",
       "      <td>0.442635</td>\n",
       "    </tr>\n",
       "    <tr>\n",
       "      <th>people</th>\n",
       "      <td>0.425293</td>\n",
       "    </tr>\n",
       "    <tr>\n",
       "      <th>time</th>\n",
       "      <td>0.407125</td>\n",
       "    </tr>\n",
       "    <tr>\n",
       "      <th>new</th>\n",
       "      <td>0.403822</td>\n",
       "    </tr>\n",
       "    <tr>\n",
       "      <th>election</th>\n",
       "      <td>0.346015</td>\n",
       "    </tr>\n",
       "    <tr>\n",
       "      <th>day</th>\n",
       "      <td>0.331150</td>\n",
       "    </tr>\n",
       "  </tbody>\n",
       "</table>\n",
       "</div>"
      ],
      "text/plain": [
       "           percent\n",
       "trump     0.769656\n",
       "just      0.656520\n",
       "said      0.539255\n",
       "like      0.451719\n",
       "2016      0.442635\n",
       "people    0.425293\n",
       "time      0.407125\n",
       "new       0.403822\n",
       "election  0.346015\n",
       "day       0.331150"
      ]
     },
     "execution_count": 531,
     "metadata": {},
     "output_type": "execute_result"
    }
   ],
   "source": [
    "cvec = CountVectorizer(stop_words='english')\n",
    "cvec.fit(f[f.satire == 1].text)\n",
    "cvecdata = cvec.transform(f[f.satire == 1].text)\n",
    "df = pd.DataFrame(cvecdata.todense(),\n",
    "                 columns = cvec.get_feature_names())\n",
    "z_ = pd.DataFrame(df.sum())\n",
    "z_.columns = [\"percent\"]\n",
    "z_ = pd.DataFrame(z_.percent.sort_values(ascending=False)[:100]/float(z_.sum())*100)\n",
    "z_.head(10)"
   ]
  },
  {
   "cell_type": "markdown",
   "metadata": {},
   "source": [
    "### Now, let's run the \"FAKE\" dataset on the model I earlier fit on DataCamp.com"
   ]
  },
  {
   "cell_type": "code",
   "execution_count": 532,
   "metadata": {
    "collapsed": true
   },
   "outputs": [],
   "source": [
    "# Transform the test set \n",
    "tfidf_test = tfidf_vectorizer.transform(f.text)\n",
    "y = f.label"
   ]
  },
  {
   "cell_type": "code",
   "execution_count": 533,
   "metadata": {},
   "outputs": [
    {
     "name": "stdout",
     "output_type": "stream",
     "text": [
      "[u'\\u062d\\u0644\\u0628', u'\\u0639\\u0631\\u0628\\u064a', u'\\u0639\\u0646', u'\\u0644\\u0645', u'\\u0645\\u0627', u'\\u0645\\u062d\\u0627\\u0648\\u0644\\u0627\\u062a', u'\\u0645\\u0646', u'\\u0647\\u0630\\u0627', u'\\u0648\\u0627\\u0644\\u0645\\u0631\\u0636\\u0649', u'\\u0e22\\u0e07ade']\n"
     ]
    }
   ],
   "source": [
    "# Get the feature names of `tfidf_vectorizer` \n",
    "print(tfidf_vectorizer.get_feature_names()[-10:])"
   ]
  },
  {
   "cell_type": "code",
   "execution_count": 534,
   "metadata": {
    "collapsed": true
   },
   "outputs": [],
   "source": [
    "pred = clf.predict(tfidf_test)"
   ]
  },
  {
   "cell_type": "code",
   "execution_count": 535,
   "metadata": {},
   "outputs": [
    {
     "data": {
      "text/plain": [
       "FAKE    7348\n",
       "REAL    2577\n",
       "Name: 0, dtype: int64"
      ]
     },
     "execution_count": 535,
     "metadata": {},
     "output_type": "execute_result"
    }
   ],
   "source": [
    "pred_df = pd.DataFrame(pred)\n",
    "pred_df[0].value_counts()"
   ]
  },
  {
   "cell_type": "code",
   "execution_count": 536,
   "metadata": {},
   "outputs": [
    {
     "name": "stdout",
     "output_type": "stream",
     "text": [
      "accuracy:   0.740\n"
     ]
    }
   ],
   "source": [
    "score = metrics.accuracy_score(y, pred)\n",
    "print(\"accuracy:   %0.3f\" % score)"
   ]
  },
  {
   "cell_type": "markdown",
   "metadata": {},
   "source": [
    "Not a bad result for the FAKE news"
   ]
  },
  {
   "cell_type": "markdown",
   "metadata": {},
   "source": [
    "<h2><font color = \"green\"> Let's first preprocess the text and rerun transform with help of the model and check the results again"
   ]
  },
  {
   "cell_type": "markdown",
   "metadata": {},
   "source": [
    "Code is borrowed from Evann Smith's LDA presentation\n",
    "https://github.com/baursafi/GA/blob/master/modeling_text_data.ipynb\n",
    "\n",
    "### Preprocess the Data\n",
    "- Lowercase\n",
    "- Tokenize\n",
    "- Remove stop words and punctuation\n",
    "- Remove words with fewer than 2 characters\n",
    "- Stem"
   ]
  },
  {
   "cell_type": "code",
   "execution_count": 537,
   "metadata": {
    "collapsed": true
   },
   "outputs": [],
   "source": [
    "import random\n",
    "import string\n",
    "import re\n",
    "import nltk\n",
    "from nltk import word_tokenize\n",
    "from nltk.corpus import stopwords\n",
    "from nltk.stem.porter import PorterStemmer\n",
    "from tqdm import tqdm\n",
    "tqdm.pandas(desc='progress-bar')"
   ]
  },
  {
   "cell_type": "code",
   "execution_count": 538,
   "metadata": {
    "collapsed": true
   },
   "outputs": [],
   "source": [
    "stop = set(stopwords.words('english') + list(string.punctuation))\n",
    "stemmer = PorterStemmer()\n",
    "re_punct = re.compile('[' + ''.join(string.punctuation) + ']')"
   ]
  },
  {
   "cell_type": "code",
   "execution_count": 539,
   "metadata": {
    "collapsed": true
   },
   "outputs": [],
   "source": [
    "def preprocess(text):\n",
    "    try:\n",
    "        text = text.lower()\n",
    "        tokens = word_tokenize(text)\n",
    "        tokens = [t for t in tokens if not t in stop]\n",
    "        tokens = [re.sub(re_punct, '', t) for t in tokens]\n",
    "        tokens = [t for t in tokens if len(t) > 2]\n",
    "        tokens = [stemmer.stem(t) for t in tokens]\n",
    "        if len(tokens) == 0:\n",
    "            return None\n",
    "        else:\n",
    "            return ' '.join(tokens)\n",
    "    except:\n",
    "        return None"
   ]
  },
  {
   "cell_type": "code",
   "execution_count": 540,
   "metadata": {},
   "outputs": [
    {
     "name": "stdout",
     "output_type": "stream",
     "text": [
      "(9925, 6)\n"
     ]
    },
    {
     "data": {
      "text/html": [
       "<div>\n",
       "<style>\n",
       "    .dataframe thead tr:only-child th {\n",
       "        text-align: right;\n",
       "    }\n",
       "\n",
       "    .dataframe thead th {\n",
       "        text-align: left;\n",
       "    }\n",
       "\n",
       "    .dataframe tbody tr th {\n",
       "        vertical-align: top;\n",
       "    }\n",
       "</style>\n",
       "<table border=\"1\" class=\"dataframe\">\n",
       "  <thead>\n",
       "    <tr style=\"text-align: right;\">\n",
       "      <th></th>\n",
       "      <th>url</th>\n",
       "      <th>title</th>\n",
       "      <th>text</th>\n",
       "      <th>wing</th>\n",
       "      <th>conspiracy</th>\n",
       "      <th>label</th>\n",
       "    </tr>\n",
       "  </thead>\n",
       "  <tbody>\n",
       "    <tr>\n",
       "      <th>0</th>\n",
       "      <td>100percentfedup.com</td>\n",
       "      <td>Muslims BUSTED: They Stole Millions In Gov’t B...</td>\n",
       "      <td>Print They should pay all the back all the mon...</td>\n",
       "      <td>7-extreme right</td>\n",
       "      <td>0</td>\n",
       "      <td>FAKE</td>\n",
       "    </tr>\n",
       "    <tr>\n",
       "      <th>1</th>\n",
       "      <td>100percentfedup.com</td>\n",
       "      <td>Re: Why Did Attorney General Loretta Lynch Ple...</td>\n",
       "      <td>Why Did Attorney General Loretta Lynch Plead T...</td>\n",
       "      <td>7-extreme right</td>\n",
       "      <td>0</td>\n",
       "      <td>FAKE</td>\n",
       "    </tr>\n",
       "    <tr>\n",
       "      <th>2</th>\n",
       "      <td>100percentfedup.com</td>\n",
       "      <td>BREAKING: Weiner Cooperating With FBI On Hilla...</td>\n",
       "      <td>Red State : \\nFox News Sunday reported this mo...</td>\n",
       "      <td>7-extreme right</td>\n",
       "      <td>0</td>\n",
       "      <td>FAKE</td>\n",
       "    </tr>\n",
       "    <tr>\n",
       "      <th>3</th>\n",
       "      <td>100percentfedup.com</td>\n",
       "      <td>FANTASTIC! TRUMP'S 7 POINT PLAN To Reform Heal...</td>\n",
       "      <td>Email HEALTHCARE REFORM TO MAKE AMERICA GREAT ...</td>\n",
       "      <td>7-extreme right</td>\n",
       "      <td>0</td>\n",
       "      <td>FAKE</td>\n",
       "    </tr>\n",
       "    <tr>\n",
       "      <th>4</th>\n",
       "      <td>100percentfedup.com</td>\n",
       "      <td>Hillary Goes Absolutely Berserk On Protester A...</td>\n",
       "      <td>Print Hillary goes absolutely berserk! She exp...</td>\n",
       "      <td>7-extreme right</td>\n",
       "      <td>0</td>\n",
       "      <td>FAKE</td>\n",
       "    </tr>\n",
       "  </tbody>\n",
       "</table>\n",
       "</div>"
      ],
      "text/plain": [
       "                   url                                              title  \\\n",
       "0  100percentfedup.com  Muslims BUSTED: They Stole Millions In Gov’t B...   \n",
       "1  100percentfedup.com  Re: Why Did Attorney General Loretta Lynch Ple...   \n",
       "2  100percentfedup.com  BREAKING: Weiner Cooperating With FBI On Hilla...   \n",
       "3  100percentfedup.com  FANTASTIC! TRUMP'S 7 POINT PLAN To Reform Heal...   \n",
       "4  100percentfedup.com  Hillary Goes Absolutely Berserk On Protester A...   \n",
       "\n",
       "                                                text             wing  \\\n",
       "0  Print They should pay all the back all the mon...  7-extreme right   \n",
       "1  Why Did Attorney General Loretta Lynch Plead T...  7-extreme right   \n",
       "2  Red State : \\nFox News Sunday reported this mo...  7-extreme right   \n",
       "3  Email HEALTHCARE REFORM TO MAKE AMERICA GREAT ...  7-extreme right   \n",
       "4  Print Hillary goes absolutely berserk! She exp...  7-extreme right   \n",
       "\n",
       "   conspiracy label  \n",
       "0           0  FAKE  \n",
       "1           0  FAKE  \n",
       "2           0  FAKE  \n",
       "3           0  FAKE  \n",
       "4           0  FAKE  "
      ]
     },
     "execution_count": 540,
     "metadata": {},
     "output_type": "execute_result"
    }
   ],
   "source": [
    "data_f = f[['url','title','text','wing', 'conspiracy', 'label']]\n",
    "print data_f.shape\n",
    "data_f.head()"
   ]
  },
  {
   "cell_type": "code",
   "execution_count": 541,
   "metadata": {},
   "outputs": [
    {
     "name": "stderr",
     "output_type": "stream",
     "text": [
      "progress-bar: 100%|██████████| 9925/9925 [01:18<00:00, 126.07it/s]\n"
     ]
    }
   ],
   "source": [
    "data_f['tokens'] = data_f['text'].progress_map(preprocess)\n",
    "data_f = data_f[data_f['tokens'].notnull()]\n",
    "data_f.reset_index(inplace=True)\n",
    "data_f.drop('index', inplace=True, axis=1)"
   ]
  },
  {
   "cell_type": "code",
   "execution_count": 542,
   "metadata": {},
   "outputs": [
    {
     "name": "stdout",
     "output_type": "stream",
     "text": [
      "9925 text\n"
     ]
    },
    {
     "data": {
      "text/html": [
       "<div>\n",
       "<style>\n",
       "    .dataframe thead tr:only-child th {\n",
       "        text-align: right;\n",
       "    }\n",
       "\n",
       "    .dataframe thead th {\n",
       "        text-align: left;\n",
       "    }\n",
       "\n",
       "    .dataframe tbody tr th {\n",
       "        vertical-align: top;\n",
       "    }\n",
       "</style>\n",
       "<table border=\"1\" class=\"dataframe\">\n",
       "  <thead>\n",
       "    <tr style=\"text-align: right;\">\n",
       "      <th></th>\n",
       "      <th>url</th>\n",
       "      <th>title</th>\n",
       "      <th>text</th>\n",
       "      <th>wing</th>\n",
       "      <th>conspiracy</th>\n",
       "      <th>label</th>\n",
       "      <th>tokens</th>\n",
       "    </tr>\n",
       "  </thead>\n",
       "  <tbody>\n",
       "    <tr>\n",
       "      <th>0</th>\n",
       "      <td>100percentfedup.com</td>\n",
       "      <td>Muslims BUSTED: They Stole Millions In Gov’t B...</td>\n",
       "      <td>Print They should pay all the back all the mon...</td>\n",
       "      <td>7-extreme right</td>\n",
       "      <td>0</td>\n",
       "      <td>FAKE</td>\n",
       "      <td>print pay back money plu interest entir famili...</td>\n",
       "    </tr>\n",
       "    <tr>\n",
       "      <th>1</th>\n",
       "      <td>100percentfedup.com</td>\n",
       "      <td>Re: Why Did Attorney General Loretta Lynch Ple...</td>\n",
       "      <td>Why Did Attorney General Loretta Lynch Plead T...</td>\n",
       "      <td>7-extreme right</td>\n",
       "      <td>0</td>\n",
       "      <td>FAKE</td>\n",
       "      <td>attorney gener loretta lynch plead fifth barra...</td>\n",
       "    </tr>\n",
       "    <tr>\n",
       "      <th>2</th>\n",
       "      <td>100percentfedup.com</td>\n",
       "      <td>BREAKING: Weiner Cooperating With FBI On Hilla...</td>\n",
       "      <td>Red State : \\nFox News Sunday reported this mo...</td>\n",
       "      <td>7-extreme right</td>\n",
       "      <td>0</td>\n",
       "      <td>FAKE</td>\n",
       "      <td>red state fox news sunday report morn anthoni ...</td>\n",
       "    </tr>\n",
       "    <tr>\n",
       "      <th>3</th>\n",
       "      <td>100percentfedup.com</td>\n",
       "      <td>FANTASTIC! TRUMP'S 7 POINT PLAN To Reform Heal...</td>\n",
       "      <td>Email HEALTHCARE REFORM TO MAKE AMERICA GREAT ...</td>\n",
       "      <td>7-extreme right</td>\n",
       "      <td>0</td>\n",
       "      <td>FAKE</td>\n",
       "      <td>email healthcar reform make america great sinc...</td>\n",
       "    </tr>\n",
       "    <tr>\n",
       "      <th>4</th>\n",
       "      <td>100percentfedup.com</td>\n",
       "      <td>Hillary Goes Absolutely Berserk On Protester A...</td>\n",
       "      <td>Print Hillary goes absolutely berserk! She exp...</td>\n",
       "      <td>7-extreme right</td>\n",
       "      <td>0</td>\n",
       "      <td>FAKE</td>\n",
       "      <td>print hillari goe absolut berserk explod bill ...</td>\n",
       "    </tr>\n",
       "  </tbody>\n",
       "</table>\n",
       "</div>"
      ],
      "text/plain": [
       "                   url                                              title  \\\n",
       "0  100percentfedup.com  Muslims BUSTED: They Stole Millions In Gov’t B...   \n",
       "1  100percentfedup.com  Re: Why Did Attorney General Loretta Lynch Ple...   \n",
       "2  100percentfedup.com  BREAKING: Weiner Cooperating With FBI On Hilla...   \n",
       "3  100percentfedup.com  FANTASTIC! TRUMP'S 7 POINT PLAN To Reform Heal...   \n",
       "4  100percentfedup.com  Hillary Goes Absolutely Berserk On Protester A...   \n",
       "\n",
       "                                                text             wing  \\\n",
       "0  Print They should pay all the back all the mon...  7-extreme right   \n",
       "1  Why Did Attorney General Loretta Lynch Plead T...  7-extreme right   \n",
       "2  Red State : \\nFox News Sunday reported this mo...  7-extreme right   \n",
       "3  Email HEALTHCARE REFORM TO MAKE AMERICA GREAT ...  7-extreme right   \n",
       "4  Print Hillary goes absolutely berserk! She exp...  7-extreme right   \n",
       "\n",
       "   conspiracy label                                             tokens  \n",
       "0           0  FAKE  print pay back money plu interest entir famili...  \n",
       "1           0  FAKE  attorney gener loretta lynch plead fifth barra...  \n",
       "2           0  FAKE  red state fox news sunday report morn anthoni ...  \n",
       "3           0  FAKE  email healthcar reform make america great sinc...  \n",
       "4           0  FAKE  print hillari goe absolut berserk explod bill ...  "
      ]
     },
     "execution_count": 542,
     "metadata": {},
     "output_type": "execute_result"
    }
   ],
   "source": [
    "print('{} text'.format(len(data_f)))\n",
    "data_f.head()"
   ]
  },
  {
   "cell_type": "markdown",
   "metadata": {},
   "source": [
    "Now I can run the tokenized preprocessed news in the model fit on the DataCamp dataset."
   ]
  },
  {
   "cell_type": "code",
   "execution_count": 543,
   "metadata": {
    "collapsed": true
   },
   "outputs": [],
   "source": [
    "# Transform the test set \n",
    "tfidf_test_tokens = tfidf_vectorizer.transform(data_f.tokens)\n",
    "y = data_f.label"
   ]
  },
  {
   "cell_type": "code",
   "execution_count": 544,
   "metadata": {},
   "outputs": [
    {
     "name": "stdout",
     "output_type": "stream",
     "text": [
      "[u'\\u062d\\u0644\\u0628', u'\\u0639\\u0631\\u0628\\u064a', u'\\u0639\\u0646', u'\\u0644\\u0645', u'\\u0645\\u0627', u'\\u0645\\u062d\\u0627\\u0648\\u0644\\u0627\\u062a', u'\\u0645\\u0646', u'\\u0647\\u0630\\u0627', u'\\u0648\\u0627\\u0644\\u0645\\u0631\\u0636\\u0649', u'\\u0e22\\u0e07ade']\n"
     ]
    }
   ],
   "source": [
    "# Get the feature names of `tfidf_vectorizer` \n",
    "print(tfidf_vectorizer.get_feature_names()[-10:])"
   ]
  },
  {
   "cell_type": "code",
   "execution_count": 545,
   "metadata": {
    "collapsed": true
   },
   "outputs": [],
   "source": [
    "pred = clf.predict(tfidf_test_tokens)"
   ]
  },
  {
   "cell_type": "code",
   "execution_count": 546,
   "metadata": {},
   "outputs": [
    {
     "data": {
      "text/plain": [
       "FAKE    6947\n",
       "REAL    2978\n",
       "Name: 0, dtype: int64"
      ]
     },
     "execution_count": 546,
     "metadata": {},
     "output_type": "execute_result"
    }
   ],
   "source": [
    "pred_f = pd.DataFrame(pred)\n",
    "pred_f[0].value_counts()"
   ]
  },
  {
   "cell_type": "code",
   "execution_count": 547,
   "metadata": {},
   "outputs": [
    {
     "name": "stdout",
     "output_type": "stream",
     "text": [
      "accuracy:   0.700\n"
     ]
    }
   ],
   "source": [
    "score = metrics.accuracy_score(y, pred)\n",
    "print(\"accuracy:   %0.3f\" % score)"
   ]
  },
  {
   "cell_type": "code",
   "execution_count": 548,
   "metadata": {},
   "outputs": [
    {
     "data": {
      "text/html": [
       "<div>\n",
       "<style>\n",
       "    .dataframe thead tr:only-child th {\n",
       "        text-align: right;\n",
       "    }\n",
       "\n",
       "    .dataframe thead th {\n",
       "        text-align: left;\n",
       "    }\n",
       "\n",
       "    .dataframe tbody tr th {\n",
       "        vertical-align: top;\n",
       "    }\n",
       "</style>\n",
       "<table border=\"1\" class=\"dataframe\">\n",
       "  <thead>\n",
       "    <tr style=\"text-align: right;\">\n",
       "      <th></th>\n",
       "      <th>url</th>\n",
       "      <th>title</th>\n",
       "      <th>text</th>\n",
       "      <th>wing</th>\n",
       "      <th>conspiracy</th>\n",
       "      <th>label</th>\n",
       "      <th>tokens</th>\n",
       "      <th>pred</th>\n",
       "    </tr>\n",
       "  </thead>\n",
       "  <tbody>\n",
       "    <tr>\n",
       "      <th>0</th>\n",
       "      <td>100percentfedup.com</td>\n",
       "      <td>Muslims BUSTED: They Stole Millions In Gov’t B...</td>\n",
       "      <td>Print They should pay all the back all the mon...</td>\n",
       "      <td>7-extreme right</td>\n",
       "      <td>0</td>\n",
       "      <td>FAKE</td>\n",
       "      <td>print pay back money plu interest entir famili...</td>\n",
       "      <td>FAKE</td>\n",
       "    </tr>\n",
       "    <tr>\n",
       "      <th>1</th>\n",
       "      <td>100percentfedup.com</td>\n",
       "      <td>Re: Why Did Attorney General Loretta Lynch Ple...</td>\n",
       "      <td>Why Did Attorney General Loretta Lynch Plead T...</td>\n",
       "      <td>7-extreme right</td>\n",
       "      <td>0</td>\n",
       "      <td>FAKE</td>\n",
       "      <td>attorney gener loretta lynch plead fifth barra...</td>\n",
       "      <td>REAL</td>\n",
       "    </tr>\n",
       "    <tr>\n",
       "      <th>2</th>\n",
       "      <td>100percentfedup.com</td>\n",
       "      <td>BREAKING: Weiner Cooperating With FBI On Hilla...</td>\n",
       "      <td>Red State : \\nFox News Sunday reported this mo...</td>\n",
       "      <td>7-extreme right</td>\n",
       "      <td>0</td>\n",
       "      <td>FAKE</td>\n",
       "      <td>red state fox news sunday report morn anthoni ...</td>\n",
       "      <td>FAKE</td>\n",
       "    </tr>\n",
       "    <tr>\n",
       "      <th>3</th>\n",
       "      <td>100percentfedup.com</td>\n",
       "      <td>FANTASTIC! TRUMP'S 7 POINT PLAN To Reform Heal...</td>\n",
       "      <td>Email HEALTHCARE REFORM TO MAKE AMERICA GREAT ...</td>\n",
       "      <td>7-extreme right</td>\n",
       "      <td>0</td>\n",
       "      <td>FAKE</td>\n",
       "      <td>email healthcar reform make america great sinc...</td>\n",
       "      <td>REAL</td>\n",
       "    </tr>\n",
       "    <tr>\n",
       "      <th>4</th>\n",
       "      <td>100percentfedup.com</td>\n",
       "      <td>Hillary Goes Absolutely Berserk On Protester A...</td>\n",
       "      <td>Print Hillary goes absolutely berserk! She exp...</td>\n",
       "      <td>7-extreme right</td>\n",
       "      <td>0</td>\n",
       "      <td>FAKE</td>\n",
       "      <td>print hillari goe absolut berserk explod bill ...</td>\n",
       "      <td>FAKE</td>\n",
       "    </tr>\n",
       "  </tbody>\n",
       "</table>\n",
       "</div>"
      ],
      "text/plain": [
       "                   url                                              title  \\\n",
       "0  100percentfedup.com  Muslims BUSTED: They Stole Millions In Gov’t B...   \n",
       "1  100percentfedup.com  Re: Why Did Attorney General Loretta Lynch Ple...   \n",
       "2  100percentfedup.com  BREAKING: Weiner Cooperating With FBI On Hilla...   \n",
       "3  100percentfedup.com  FANTASTIC! TRUMP'S 7 POINT PLAN To Reform Heal...   \n",
       "4  100percentfedup.com  Hillary Goes Absolutely Berserk On Protester A...   \n",
       "\n",
       "                                                text             wing  \\\n",
       "0  Print They should pay all the back all the mon...  7-extreme right   \n",
       "1  Why Did Attorney General Loretta Lynch Plead T...  7-extreme right   \n",
       "2  Red State : \\nFox News Sunday reported this mo...  7-extreme right   \n",
       "3  Email HEALTHCARE REFORM TO MAKE AMERICA GREAT ...  7-extreme right   \n",
       "4  Print Hillary goes absolutely berserk! She exp...  7-extreme right   \n",
       "\n",
       "   conspiracy label                                             tokens  pred  \n",
       "0           0  FAKE  print pay back money plu interest entir famili...  FAKE  \n",
       "1           0  FAKE  attorney gener loretta lynch plead fifth barra...  REAL  \n",
       "2           0  FAKE  red state fox news sunday report morn anthoni ...  FAKE  \n",
       "3           0  FAKE  email healthcar reform make america great sinc...  REAL  \n",
       "4           0  FAKE  print hillari goe absolut berserk explod bill ...  FAKE  "
      ]
     },
     "execution_count": 548,
     "metadata": {},
     "output_type": "execute_result"
    }
   ],
   "source": [
    "data_f['pred'] = pred\n",
    "data_f.head()"
   ]
  },
  {
   "cell_type": "code",
   "execution_count": 551,
   "metadata": {
    "collapsed": true
   },
   "outputs": [],
   "source": [
    "# Here I decided to build a little table of how each wing of political affiliation performs on the FAKE/REAL model \n",
    "# trained on the DataCamp.com dataset.\n",
    "\n",
    "z_f = pd.concat([data_f[data_f.pred == \"FAKE\"].wing.value_counts(),data_f[data_f.pred == \"REAL\"].wing.value_counts()], join='outer', axis = 1)"
   ]
  },
  {
   "cell_type": "code",
   "execution_count": 552,
   "metadata": {},
   "outputs": [
    {
     "data": {
      "text/html": [
       "<div>\n",
       "<style>\n",
       "    .dataframe thead tr:only-child th {\n",
       "        text-align: right;\n",
       "    }\n",
       "\n",
       "    .dataframe thead th {\n",
       "        text-align: left;\n",
       "    }\n",
       "\n",
       "    .dataframe tbody tr th {\n",
       "        vertical-align: top;\n",
       "    }\n",
       "</style>\n",
       "<table border=\"1\" class=\"dataframe\">\n",
       "  <thead>\n",
       "    <tr style=\"text-align: right;\">\n",
       "      <th></th>\n",
       "      <th>FAKE</th>\n",
       "      <th>REAL</th>\n",
       "      <th>TOTAL</th>\n",
       "      <th>CREDIBILITY</th>\n",
       "    </tr>\n",
       "  </thead>\n",
       "  <tbody>\n",
       "    <tr>\n",
       "      <th>0-unknown</th>\n",
       "      <td>3681</td>\n",
       "      <td>1037</td>\n",
       "      <td>4718</td>\n",
       "      <td>0.219797</td>\n",
       "    </tr>\n",
       "    <tr>\n",
       "      <th>1-extreme left</th>\n",
       "      <td>109</td>\n",
       "      <td>140</td>\n",
       "      <td>249</td>\n",
       "      <td>0.562249</td>\n",
       "    </tr>\n",
       "    <tr>\n",
       "      <th>2-left</th>\n",
       "      <td>367</td>\n",
       "      <td>310</td>\n",
       "      <td>677</td>\n",
       "      <td>0.457903</td>\n",
       "    </tr>\n",
       "    <tr>\n",
       "      <th>3-center left</th>\n",
       "      <td>141</td>\n",
       "      <td>63</td>\n",
       "      <td>204</td>\n",
       "      <td>0.308824</td>\n",
       "    </tr>\n",
       "    <tr>\n",
       "      <th>5-center right</th>\n",
       "      <td>213</td>\n",
       "      <td>60</td>\n",
       "      <td>273</td>\n",
       "      <td>0.219780</td>\n",
       "    </tr>\n",
       "    <tr>\n",
       "      <th>6-right</th>\n",
       "      <td>1197</td>\n",
       "      <td>573</td>\n",
       "      <td>1770</td>\n",
       "      <td>0.323729</td>\n",
       "    </tr>\n",
       "    <tr>\n",
       "      <th>7-extreme right</th>\n",
       "      <td>1239</td>\n",
       "      <td>795</td>\n",
       "      <td>2034</td>\n",
       "      <td>0.390855</td>\n",
       "    </tr>\n",
       "  </tbody>\n",
       "</table>\n",
       "</div>"
      ],
      "text/plain": [
       "                 FAKE  REAL  TOTAL  CREDIBILITY\n",
       "0-unknown        3681  1037   4718     0.219797\n",
       "1-extreme left    109   140    249     0.562249\n",
       "2-left            367   310    677     0.457903\n",
       "3-center left     141    63    204     0.308824\n",
       "5-center right    213    60    273     0.219780\n",
       "6-right          1197   573   1770     0.323729\n",
       "7-extreme right  1239   795   2034     0.390855"
      ]
     },
     "execution_count": 552,
     "metadata": {},
     "output_type": "execute_result"
    }
   ],
   "source": [
    "z_f.columns = ['FAKE', 'REAL']\n",
    "z_f['TOTAL'] = z_f.REAL + z_f.FAKE\n",
    "z_f['CREDIBILITY'] = z_f.REAL/(z_f.FAKE +z_f.REAL)\n",
    "z_f.to_csv('data/z_f_pred.csv')\n",
    "z_f"
   ]
  },
  {
   "cell_type": "code",
   "execution_count": 553,
   "metadata": {},
   "outputs": [
    {
     "data": {
      "image/png": "[encoded data removed]",
      "text/plain": [
       "<matplotlib.figure.Figure at 0x19c5b3690>"
      ]
     },
     "metadata": {},
     "output_type": "display_data"
    }
   ],
   "source": [
    "plt.figure(figsize=(8,6))\n",
    "z_f.CREDIBILITY.plot(kind = 'bar')\n",
    "_ = plt.legend(\"Credibility of Kaggle's FAKE' news in accordance with the DataCamp's model\")\n",
    "plt.show()"
   ]
  },
  {
   "cell_type": "markdown",
   "metadata": {},
   "source": [
    "<h2><font color = \"green\"> Preliminary Summary</font></h2>\n",
    "\n",
    "Tokenizing the text decreases accuracy of the model trained on a non-tokenized texts.  \n",
    "You will see below that the same model gives unreliable results for the web-scraped tokenized news's text.\n",
    "Based on such results, I decided to:\n",
    "- merge the Kaggle's fake news dataset with the web-scraped data set\n",
    "- mark all of the Kaggle's dataset as FAKE and all of web-scraped as REAL\n",
    "- refit the Multinomial Naive Bayes model and check its accuracy on the merged dataset and on Datacamp's set."
   ]
  },
  {
   "cell_type": "markdown",
   "metadata": {},
   "source": [
    "<font color = \"green\"><h2>Part 3. The web-scraped news from 15 sources. </h2></font>\n",
    "\n",
    "I would like to check how they will show on Real/Fake check. The scraping code is in the bottom part of this Jupyter Notebook."
   ]
  },
  {
   "cell_type": "code",
   "execution_count": 555,
   "metadata": {
    "scrolled": true
   },
   "outputs": [
    {
     "data": {
      "text/html": [
       "<div>\n",
       "<style>\n",
       "    .dataframe thead tr:only-child th {\n",
       "        text-align: right;\n",
       "    }\n",
       "\n",
       "    .dataframe thead th {\n",
       "        text-align: left;\n",
       "    }\n",
       "\n",
       "    .dataframe tbody tr th {\n",
       "        vertical-align: top;\n",
       "    }\n",
       "</style>\n",
       "<table border=\"1\" class=\"dataframe\">\n",
       "  <thead>\n",
       "    <tr style=\"text-align: right;\">\n",
       "      <th></th>\n",
       "      <th>Unnamed: 0</th>\n",
       "      <th>url</th>\n",
       "      <th>title</th>\n",
       "      <th>text</th>\n",
       "    </tr>\n",
       "  </thead>\n",
       "  <tbody>\n",
       "    <tr>\n",
       "      <th>0</th>\n",
       "      <td>0</td>\n",
       "      <td>http://cnn.com/2016/08/16/living/catholic-bibl...</td>\n",
       "      <td>A Catholic reads the Bible, week 43</td>\n",
       "      <td>(CNN) My father was known for his dry sense of...</td>\n",
       "    </tr>\n",
       "    <tr>\n",
       "      <th>1</th>\n",
       "      <td>1</td>\n",
       "      <td>http://cnn.com/2015/03/13/us/va-investigation-...</td>\n",
       "      <td>It's not over: Veterans waiting months for app...</td>\n",
       "      <td>Los Angeles (CNN) Thousands of veterans who ar...</td>\n",
       "    </tr>\n",
       "    <tr>\n",
       "      <th>2</th>\n",
       "      <td>2</td>\n",
       "      <td>http://cnn.com/2016/11/08/world/gallery/eco-ba...</td>\n",
       "      <td>11 everyday items you should stop using now</td>\n",
       "      <td>Coffee pods deliver gourmet-quality coffee wit...</td>\n",
       "    </tr>\n",
       "    <tr>\n",
       "      <th>3</th>\n",
       "      <td>3</td>\n",
       "      <td>http://cnn.com/2017/08/24/health/foods-last-fo...</td>\n",
       "      <td>Eight foods that can be stored for years</td>\n",
       "      <td>The news that, after 106 years, Captain Scott'...</td>\n",
       "    </tr>\n",
       "    <tr>\n",
       "      <th>4</th>\n",
       "      <td>4</td>\n",
       "      <td>http://cnn.com/2017/08/31/politics/michael-coh...</td>\n",
       "      <td>Cohen lawyer rebuts Russia dossier allegations</td>\n",
       "      <td>Washington (CNN) The lawyer for a close ally o...</td>\n",
       "    </tr>\n",
       "  </tbody>\n",
       "</table>\n",
       "</div>"
      ],
      "text/plain": [
       "   Unnamed: 0                                                url  \\\n",
       "0           0  http://cnn.com/2016/08/16/living/catholic-bibl...   \n",
       "1           1  http://cnn.com/2015/03/13/us/va-investigation-...   \n",
       "2           2  http://cnn.com/2016/11/08/world/gallery/eco-ba...   \n",
       "3           3  http://cnn.com/2017/08/24/health/foods-last-fo...   \n",
       "4           4  http://cnn.com/2017/08/31/politics/michael-coh...   \n",
       "\n",
       "                                               title  \\\n",
       "0                A Catholic reads the Bible, week 43   \n",
       "1  It's not over: Veterans waiting months for app...   \n",
       "2        11 everyday items you should stop using now   \n",
       "3           Eight foods that can be stored for years   \n",
       "4     Cohen lawyer rebuts Russia dossier allegations   \n",
       "\n",
       "                                                text  \n",
       "0  (CNN) My father was known for his dry sense of...  \n",
       "1  Los Angeles (CNN) Thousands of veterans who ar...  \n",
       "2  Coffee pods deliver gourmet-quality coffee wit...  \n",
       "3  The news that, after 106 years, Captain Scott'...  \n",
       "4  Washington (CNN) The lawyer for a close ally o...  "
      ]
     },
     "execution_count": 555,
     "metadata": {},
     "output_type": "execute_result"
    }
   ],
   "source": [
    "df = pd.read_csv('data/scraped_news.csv')\n",
    "df.head()"
   ]
  },
  {
   "cell_type": "code",
   "execution_count": 556,
   "metadata": {},
   "outputs": [
    {
     "name": "stdout",
     "output_type": "stream",
     "text": [
      "(6176, 3)\n"
     ]
    },
    {
     "data": {
      "text/html": [
       "<div>\n",
       "<style>\n",
       "    .dataframe thead tr:only-child th {\n",
       "        text-align: right;\n",
       "    }\n",
       "\n",
       "    .dataframe thead th {\n",
       "        text-align: left;\n",
       "    }\n",
       "\n",
       "    .dataframe tbody tr th {\n",
       "        vertical-align: top;\n",
       "    }\n",
       "</style>\n",
       "<table border=\"1\" class=\"dataframe\">\n",
       "  <thead>\n",
       "    <tr style=\"text-align: right;\">\n",
       "      <th></th>\n",
       "      <th>url</th>\n",
       "      <th>title</th>\n",
       "      <th>text</th>\n",
       "    </tr>\n",
       "    <tr>\n",
       "      <th>Unnamed: 0</th>\n",
       "      <th></th>\n",
       "      <th></th>\n",
       "      <th></th>\n",
       "    </tr>\n",
       "  </thead>\n",
       "  <tbody>\n",
       "    <tr>\n",
       "      <th>0</th>\n",
       "      <td>http://cnn.com/2016/08/16/living/catholic-bibl...</td>\n",
       "      <td>A Catholic reads the Bible, week 43</td>\n",
       "      <td>(CNN) My father was known for his dry sense of...</td>\n",
       "    </tr>\n",
       "    <tr>\n",
       "      <th>1</th>\n",
       "      <td>http://cnn.com/2015/03/13/us/va-investigation-...</td>\n",
       "      <td>It's not over: Veterans waiting months for app...</td>\n",
       "      <td>Los Angeles (CNN) Thousands of veterans who ar...</td>\n",
       "    </tr>\n",
       "  </tbody>\n",
       "</table>\n",
       "</div>"
      ],
      "text/plain": [
       "                                                          url  \\\n",
       "Unnamed: 0                                                      \n",
       "0           http://cnn.com/2016/08/16/living/catholic-bibl...   \n",
       "1           http://cnn.com/2015/03/13/us/va-investigation-...   \n",
       "\n",
       "                                                        title  \\\n",
       "Unnamed: 0                                                      \n",
       "0                         A Catholic reads the Bible, week 43   \n",
       "1           It's not over: Veterans waiting months for app...   \n",
       "\n",
       "                                                         text  \n",
       "Unnamed: 0                                                     \n",
       "0           (CNN) My father was known for his dry sense of...  \n",
       "1           Los Angeles (CNN) Thousands of veterans who ar...  "
      ]
     },
     "execution_count": 556,
     "metadata": {},
     "output_type": "execute_result"
    }
   ],
   "source": [
    "#Let's return the set its original index\n",
    "\n",
    "df = df.set_index(\"Unnamed: 0\") \n",
    "print df.shape\n",
    "df.head(2)"
   ]
  },
  {
   "cell_type": "code",
   "execution_count": 557,
   "metadata": {
    "collapsed": true
   },
   "outputs": [],
   "source": [
    "df['wing'] = '0-unknown'\n",
    "df['conspiracy'] = 0\n",
    "df['satire'] = 0"
   ]
  },
  {
   "cell_type": "code",
   "execution_count": 558,
   "metadata": {
    "collapsed": true
   },
   "outputs": [],
   "source": [
    "# below I have checked 215 news resources at https://mediabiasfactcheck.com to identify the political affiliation\n",
    "# for each of the news aggregator or the news agency\n",
    "\n",
    "df.loc[df.url.str.contains('consortiumnews|usatoday|politifact|sctimes|timesofsandiego'),'wing'] = '4-center'\n",
    "df.loc[df.url.str.contains('presstv|mintpressnews|latimes|chicagotribune|bustle|natmonitor|politico|nytimes'),'wing'] = '3-center left'\n",
    "df.loc[df.url.str.contains('antiwar|russia-insider|sputniknews|strategic-culture|postbulletin|hpenews|ustfactsdaily'),'wing'] = '5-center right'\n",
    "df.loc[df.url.str.contains('politicususa|opednews|liberalamerica|truthdig|counterpunch|blackagendareport|guardianlv|ahtribune|intrepidreport|wakingtimes|addictinginfo|activistpost|other98|countercurrents|huffingtonpost|rabble|cnn'),'wing'] = '2-left'\n",
    "df.loc[df.url.str.contains('naturalnews|ijr|wearechange|awdnews|twitchy|thenewamerican|amtvmedia|abovetopsecret|nowtheendbegins|thecommonsenseshow|fromthetrenchesworldreport|nakedcapitalism|prisonplanet|investmentwatchblog|ronpaulinst|thecontroversialfiles|gulagbound|rt|thedailybell|corbettreport|zerohedge|whatreally|wikileaks|newstarg|regated|southfront'),'wing'] = '6-right'\n",
    "df.loc[df.url.str.contains('occupydemocrats|ifyouonlynews|pravdareport|usuncut|newcenturytimes|trueactivist|dailynewsbin'),'wing'] = '1-extreme left'\n",
    "df.loc[df.url.str.contains('madworldnews|thefederalistpapers|conservativetribune|libertyunyielding|truthfeed|freedomoutpost|frontpagemag|dccl|othesline|wnd|ihavethetruth|amren|barenakedislam|returnofkings|trunews|jewsnews|shtfplan|lewrockwell|dailystormer|libertynews|endingthefield|dailywire|vdare|100percentfedup|21stcenturywire|westernjournalism|redflagnews|libertywritersnews|conservativedailypost|departed|breitbart|donaldtrumpnews|bipartisanreport|americanlookout|spinzon|usapoliticsnow|usanewsflash|hangthebankers|toprightnews|usasupreme|americasfreedomfighters|viralliberty'),'wing'] = '7-extreme right'\n"
   ]
  },
  {
   "cell_type": "code",
   "execution_count": 559,
   "metadata": {
    "collapsed": true
   },
   "outputs": [],
   "source": [
    "# below, similarly to the cell above the code assigns whether the news agency or agregator \n",
    "# publishes conspiracy/pseudoscience news / information\n",
    "\n",
    "df.loc[df.url.str.contains('yournewswire|trunews|naturalnews|infowars|eutimes|truthfeed|topinfopost|thedailysheeple|jewsnews|wearechange|awdnews|worldtruth|govtslaves|thetruthseeker.co|amtvmedia|sott|abovetopsecret.com|collective-evolution.com|shtfplan.com|theeventchronicle.com|thefreethoughtproject.com|humansarefree.com|veteranstoday.com|lewrockwell.com|nowtheendbegins.com|thecommonsenseshow.com|themindunleashed.comfromthetrenchesworldreport.com|intellihub.com|realfarmacy.com|greanvillepost.com|dailystormer.com|disclose.tv|whydontyoutrythis.com|prisonplanet.com|investmentwatchblog.com|thecontroversialfiles.net|godlikeproductions.com|anonhq.com|abeldanger.net|wakingtimes.com |gulagbound.com|endingthefed.com|healthimpactnews.com|truthbroadcastnetwork.com|21stcenturywire.com|corbettreport.com|undergroundhealth.com|zerohedge.com|geoengineeringwatch.org|conservativedailypost.com|pakalertpress.com|whatreallyhappened.com|coasttocoastam.com|trueactivist.com|activistpost.com|theantimedia.org|usapoliticsnow.com|newstarget.com|theearthchild.co.za|anonews.co|southfront.org|americasfreedomfighters.com|davidwolfe.com|vigilantcitizen.com'),'conspiracy'] = 1\n"
   ]
  },
  {
   "cell_type": "code",
   "execution_count": 560,
   "metadata": {
    "collapsed": true
   },
   "outputs": [],
   "source": [
    "df.loc[df.url.str.contains('waterfordwhispersnews.com|theonion.com|thedailymash.co.uk|thespoof.com|clickhole.com|newsthump.com|newsbiscuit.com|theunrealtimes.com|dailysquib.co.uk|adobochronicles.com|gomerblog.com|thelastlineofdefense.org|satirewire.com|reductress.com'),'satire'] = 1\n"
   ]
  },
  {
   "cell_type": "code",
   "execution_count": 561,
   "metadata": {},
   "outputs": [
    {
     "name": "stdout",
     "output_type": "stream",
     "text": [
      "2-left             1774\n",
      "6-right            1444\n",
      "4-center           1260\n",
      "3-center left       944\n",
      "0-unknown           341\n",
      "7-extreme right     287\n",
      "5-center right      126\n",
      "Name: wing, dtype: int64\n"
     ]
    },
    {
     "data": {
      "text/plain": [
       "<matplotlib.axes._subplots.AxesSubplot at 0x19ba02590>"
      ]
     },
     "execution_count": 561,
     "metadata": {},
     "output_type": "execute_result"
    },
    {
     "data": {
      "image/png": "[encoded data removed]",
      "text/plain": [
       "<matplotlib.figure.Figure at 0x19be2c5d0>"
      ]
     },
     "metadata": {},
     "output_type": "display_data"
    }
   ],
   "source": [
    "print df.wing.value_counts()\n",
    "df.wing.value_counts().plot(kind = 'bar')"
   ]
  },
  {
   "cell_type": "code",
   "execution_count": 562,
   "metadata": {
    "collapsed": true
   },
   "outputs": [],
   "source": [
    "df['label'] = 'REAL'"
   ]
  },
  {
   "cell_type": "code",
   "execution_count": 563,
   "metadata": {},
   "outputs": [
    {
     "data": {
      "text/html": [
       "<div>\n",
       "<style>\n",
       "    .dataframe thead tr:only-child th {\n",
       "        text-align: right;\n",
       "    }\n",
       "\n",
       "    .dataframe thead th {\n",
       "        text-align: left;\n",
       "    }\n",
       "\n",
       "    .dataframe tbody tr th {\n",
       "        vertical-align: top;\n",
       "    }\n",
       "</style>\n",
       "<table border=\"1\" class=\"dataframe\">\n",
       "  <thead>\n",
       "    <tr style=\"text-align: right;\">\n",
       "      <th></th>\n",
       "      <th>url</th>\n",
       "      <th>title</th>\n",
       "      <th>text</th>\n",
       "      <th>wing</th>\n",
       "      <th>conspiracy</th>\n",
       "      <th>satire</th>\n",
       "      <th>label</th>\n",
       "    </tr>\n",
       "    <tr>\n",
       "      <th>Unnamed: 0</th>\n",
       "      <th></th>\n",
       "      <th></th>\n",
       "      <th></th>\n",
       "      <th></th>\n",
       "      <th></th>\n",
       "      <th></th>\n",
       "      <th></th>\n",
       "    </tr>\n",
       "  </thead>\n",
       "  <tbody>\n",
       "    <tr>\n",
       "      <th>6368</th>\n",
       "      <td>https://www.nytimes.com/2017/08/30/us/politics...</td>\n",
       "      <td>Google Critic Ousted From Think Tank Funded by...</td>\n",
       "      <td>Ms. Slaughter told Mr. Lynn that “the time has...</td>\n",
       "      <td>3-center left</td>\n",
       "      <td>0</td>\n",
       "      <td>0</td>\n",
       "      <td>REAL</td>\n",
       "    </tr>\n",
       "    <tr>\n",
       "      <th>6369</th>\n",
       "      <td>http://www.politico.com/story/2017/06/20/grene...</td>\n",
       "      <td>Grenell under consideration to be ambassador t...</td>\n",
       "      <td>Richard Grenell is now unlikely to be named th...</td>\n",
       "      <td>3-center left</td>\n",
       "      <td>0</td>\n",
       "      <td>0</td>\n",
       "      <td>REAL</td>\n",
       "    </tr>\n",
       "    <tr>\n",
       "      <th>6370</th>\n",
       "      <td>http://www.politico.com/story/2017/09/01/trump...</td>\n",
       "      <td>Trump's Dreamers decision could roil shutdown,...</td>\n",
       "      <td>The White House said Friday that President Don...</td>\n",
       "      <td>3-center left</td>\n",
       "      <td>0</td>\n",
       "      <td>0</td>\n",
       "      <td>REAL</td>\n",
       "    </tr>\n",
       "    <tr>\n",
       "      <th>6371</th>\n",
       "      <td>http://www.politico.eu/article/merkel-quashes-...</td>\n",
       "      <td>Merkel quashes hopes of ambitious eurozone ref...</td>\n",
       "      <td>German Chancellor Angela Merkel | Sean Gallup/...</td>\n",
       "      <td>6-right</td>\n",
       "      <td>0</td>\n",
       "      <td>0</td>\n",
       "      <td>REAL</td>\n",
       "    </tr>\n",
       "    <tr>\n",
       "      <th>6372</th>\n",
       "      <td>https://newrepublic.com/minutes/144619/new-yor...</td>\n",
       "      <td>Why is The New York Times op-ed page publishin...</td>\n",
       "      <td>Prince, whose notorious company Blackwater was...</td>\n",
       "      <td>0-unknown</td>\n",
       "      <td>0</td>\n",
       "      <td>0</td>\n",
       "      <td>REAL</td>\n",
       "    </tr>\n",
       "  </tbody>\n",
       "</table>\n",
       "</div>"
      ],
      "text/plain": [
       "                                                          url  \\\n",
       "Unnamed: 0                                                      \n",
       "6368        https://www.nytimes.com/2017/08/30/us/politics...   \n",
       "6369        http://www.politico.com/story/2017/06/20/grene...   \n",
       "6370        http://www.politico.com/story/2017/09/01/trump...   \n",
       "6371        http://www.politico.eu/article/merkel-quashes-...   \n",
       "6372        https://newrepublic.com/minutes/144619/new-yor...   \n",
       "\n",
       "                                                        title  \\\n",
       "Unnamed: 0                                                      \n",
       "6368        Google Critic Ousted From Think Tank Funded by...   \n",
       "6369        Grenell under consideration to be ambassador t...   \n",
       "6370        Trump's Dreamers decision could roil shutdown,...   \n",
       "6371        Merkel quashes hopes of ambitious eurozone ref...   \n",
       "6372        Why is The New York Times op-ed page publishin...   \n",
       "\n",
       "                                                         text           wing  \\\n",
       "Unnamed: 0                                                                     \n",
       "6368        Ms. Slaughter told Mr. Lynn that “the time has...  3-center left   \n",
       "6369        Richard Grenell is now unlikely to be named th...  3-center left   \n",
       "6370        The White House said Friday that President Don...  3-center left   \n",
       "6371        German Chancellor Angela Merkel | Sean Gallup/...        6-right   \n",
       "6372        Prince, whose notorious company Blackwater was...      0-unknown   \n",
       "\n",
       "            conspiracy  satire label  \n",
       "Unnamed: 0                            \n",
       "6368                 0       0  REAL  \n",
       "6369                 0       0  REAL  \n",
       "6370                 0       0  REAL  \n",
       "6371                 0       0  REAL  \n",
       "6372                 0       0  REAL  "
      ]
     },
     "execution_count": 563,
     "metadata": {},
     "output_type": "execute_result"
    }
   ],
   "source": [
    "df.tail()"
   ]
  },
  {
   "cell_type": "code",
   "execution_count": 564,
   "metadata": {
    "collapsed": true
   },
   "outputs": [],
   "source": [
    "df = df[df.wing !='unknown']"
   ]
  },
  {
   "cell_type": "code",
   "execution_count": 565,
   "metadata": {
    "collapsed": true
   },
   "outputs": [],
   "source": [
    "df.reset_index(inplace = True)\n",
    "df.drop('Unnamed: 0',axis = 1, inplace = True)"
   ]
  },
  {
   "cell_type": "code",
   "execution_count": 566,
   "metadata": {},
   "outputs": [
    {
     "data": {
      "text/html": [
       "<div>\n",
       "<style>\n",
       "    .dataframe thead tr:only-child th {\n",
       "        text-align: right;\n",
       "    }\n",
       "\n",
       "    .dataframe thead th {\n",
       "        text-align: left;\n",
       "    }\n",
       "\n",
       "    .dataframe tbody tr th {\n",
       "        vertical-align: top;\n",
       "    }\n",
       "</style>\n",
       "<table border=\"1\" class=\"dataframe\">\n",
       "  <thead>\n",
       "    <tr style=\"text-align: right;\">\n",
       "      <th></th>\n",
       "      <th>url</th>\n",
       "      <th>title</th>\n",
       "      <th>text</th>\n",
       "      <th>wing</th>\n",
       "      <th>conspiracy</th>\n",
       "      <th>satire</th>\n",
       "      <th>label</th>\n",
       "    </tr>\n",
       "  </thead>\n",
       "  <tbody>\n",
       "    <tr>\n",
       "      <th>6171</th>\n",
       "      <td>nytimes.com</td>\n",
       "      <td>Google Critic Ousted From Think Tank Funded by...</td>\n",
       "      <td>Ms. Slaughter told Mr. Lynn that “the time has...</td>\n",
       "      <td>3-center left</td>\n",
       "      <td>0</td>\n",
       "      <td>0</td>\n",
       "      <td>REAL</td>\n",
       "    </tr>\n",
       "    <tr>\n",
       "      <th>6172</th>\n",
       "      <td>politico.com</td>\n",
       "      <td>Grenell under consideration to be ambassador t...</td>\n",
       "      <td>Richard Grenell is now unlikely to be named th...</td>\n",
       "      <td>3-center left</td>\n",
       "      <td>0</td>\n",
       "      <td>0</td>\n",
       "      <td>REAL</td>\n",
       "    </tr>\n",
       "    <tr>\n",
       "      <th>6173</th>\n",
       "      <td>politico.com</td>\n",
       "      <td>Trump's Dreamers decision could roil shutdown,...</td>\n",
       "      <td>The White House said Friday that President Don...</td>\n",
       "      <td>3-center left</td>\n",
       "      <td>0</td>\n",
       "      <td>0</td>\n",
       "      <td>REAL</td>\n",
       "    </tr>\n",
       "    <tr>\n",
       "      <th>6174</th>\n",
       "      <td>politico.eu</td>\n",
       "      <td>Merkel quashes hopes of ambitious eurozone ref...</td>\n",
       "      <td>German Chancellor Angela Merkel | Sean Gallup/...</td>\n",
       "      <td>6-right</td>\n",
       "      <td>0</td>\n",
       "      <td>0</td>\n",
       "      <td>REAL</td>\n",
       "    </tr>\n",
       "    <tr>\n",
       "      <th>6175</th>\n",
       "      <td>newrepublic.com</td>\n",
       "      <td>Why is The New York Times op-ed page publishin...</td>\n",
       "      <td>Prince, whose notorious company Blackwater was...</td>\n",
       "      <td>0-unknown</td>\n",
       "      <td>0</td>\n",
       "      <td>0</td>\n",
       "      <td>REAL</td>\n",
       "    </tr>\n",
       "  </tbody>\n",
       "</table>\n",
       "</div>"
      ],
      "text/plain": [
       "                  url                                              title  \\\n",
       "6171      nytimes.com  Google Critic Ousted From Think Tank Funded by...   \n",
       "6172     politico.com  Grenell under consideration to be ambassador t...   \n",
       "6173     politico.com  Trump's Dreamers decision could roil shutdown,...   \n",
       "6174      politico.eu  Merkel quashes hopes of ambitious eurozone ref...   \n",
       "6175  newrepublic.com  Why is The New York Times op-ed page publishin...   \n",
       "\n",
       "                                                   text           wing  \\\n",
       "6171  Ms. Slaughter told Mr. Lynn that “the time has...  3-center left   \n",
       "6172  Richard Grenell is now unlikely to be named th...  3-center left   \n",
       "6173  The White House said Friday that President Don...  3-center left   \n",
       "6174  German Chancellor Angela Merkel | Sean Gallup/...        6-right   \n",
       "6175  Prince, whose notorious company Blackwater was...      0-unknown   \n",
       "\n",
       "      conspiracy  satire label  \n",
       "6171           0       0  REAL  \n",
       "6172           0       0  REAL  \n",
       "6173           0       0  REAL  \n",
       "6174           0       0  REAL  \n",
       "6175           0       0  REAL  "
      ]
     },
     "execution_count": 566,
     "metadata": {},
     "output_type": "execute_result"
    }
   ],
   "source": [
    "# Simplifying the url situation. will just leave domain and suffix. \n",
    "# Later you will see even this is too much \n",
    "\n",
    "for i in range(df.shape[0]): \n",
    "    ext = tldextract.extract(df.loc[i,'url'])\n",
    "    try: \n",
    "        df.set_value(i,'url', (ext.domain+'.'+ext.suffix))\n",
    "    except:\n",
    "        None\n",
    "df.tail()"
   ]
  },
  {
   "cell_type": "code",
   "execution_count": 567,
   "metadata": {},
   "outputs": [
    {
     "data": {
      "text/html": [
       "<div>\n",
       "<style>\n",
       "    .dataframe thead tr:only-child th {\n",
       "        text-align: right;\n",
       "    }\n",
       "\n",
       "    .dataframe thead th {\n",
       "        text-align: left;\n",
       "    }\n",
       "\n",
       "    .dataframe tbody tr th {\n",
       "        vertical-align: top;\n",
       "    }\n",
       "</style>\n",
       "<table border=\"1\" class=\"dataframe\">\n",
       "  <thead>\n",
       "    <tr style=\"text-align: right;\">\n",
       "      <th></th>\n",
       "      <th>conspiracy</th>\n",
       "      <th>satire</th>\n",
       "    </tr>\n",
       "    <tr>\n",
       "      <th>wing</th>\n",
       "      <th></th>\n",
       "      <th></th>\n",
       "    </tr>\n",
       "  </thead>\n",
       "  <tbody>\n",
       "    <tr>\n",
       "      <th>0-unknown</th>\n",
       "      <td>0</td>\n",
       "      <td>0</td>\n",
       "    </tr>\n",
       "    <tr>\n",
       "      <th>2-left</th>\n",
       "      <td>0</td>\n",
       "      <td>0</td>\n",
       "    </tr>\n",
       "    <tr>\n",
       "      <th>3-center left</th>\n",
       "      <td>0</td>\n",
       "      <td>0</td>\n",
       "    </tr>\n",
       "    <tr>\n",
       "      <th>4-center</th>\n",
       "      <td>2</td>\n",
       "      <td>0</td>\n",
       "    </tr>\n",
       "    <tr>\n",
       "      <th>5-center right</th>\n",
       "      <td>0</td>\n",
       "      <td>0</td>\n",
       "    </tr>\n",
       "    <tr>\n",
       "      <th>6-right</th>\n",
       "      <td>1</td>\n",
       "      <td>0</td>\n",
       "    </tr>\n",
       "    <tr>\n",
       "      <th>7-extreme right</th>\n",
       "      <td>0</td>\n",
       "      <td>0</td>\n",
       "    </tr>\n",
       "  </tbody>\n",
       "</table>\n",
       "</div>"
      ],
      "text/plain": [
       "                 conspiracy  satire\n",
       "wing                               \n",
       "0-unknown                 0       0\n",
       "2-left                    0       0\n",
       "3-center left             0       0\n",
       "4-center                  2       0\n",
       "5-center right            0       0\n",
       "6-right                   1       0\n",
       "7-extreme right           0       0"
      ]
     },
     "execution_count": 567,
     "metadata": {},
     "output_type": "execute_result"
    }
   ],
   "source": [
    "df.groupby('wing').sum()"
   ]
  },
  {
   "cell_type": "markdown",
   "metadata": {},
   "source": [
    "With the web scraped set I decided to go different ways:\n",
    "Code is borrowed from Evann Smith's LDA presentation\n",
    "https://github.com/baursafi/GA/blob/master/modeling_text_data.ipynb\n",
    "\n",
    "### Preprocess the Data\n",
    "- Lowercase\n",
    "- Tokenize\n",
    "- Remove stop words and punctuation\n",
    "- Remove words with fewer than 2 characters\n",
    "- Stem"
   ]
  },
  {
   "cell_type": "code",
   "execution_count": 568,
   "metadata": {
    "collapsed": true
   },
   "outputs": [],
   "source": [
    "stop = set(stopwords.words('english') + list(string.punctuation))\n",
    "stemmer = PorterStemmer()\n",
    "re_punct = re.compile('[' + ''.join(string.punctuation) + ']')"
   ]
  },
  {
   "cell_type": "code",
   "execution_count": 569,
   "metadata": {
    "collapsed": true
   },
   "outputs": [],
   "source": [
    "def preprocess(text):\n",
    "    try:\n",
    "        text = text.lower()\n",
    "        tokens = word_tokenize(text)\n",
    "        tokens = [t for t in tokens if not t in stop]\n",
    "        tokens = [re.sub(re_punct, '', t) for t in tokens]\n",
    "        tokens = [t for t in tokens if len(t) > 2]\n",
    "        tokens = [stemmer.stem(t) for t in tokens]\n",
    "        if len(tokens) == 0:\n",
    "            return None\n",
    "        else:\n",
    "            return ' '.join(tokens)\n",
    "    except:\n",
    "        return None"
   ]
  },
  {
   "cell_type": "code",
   "execution_count": 570,
   "metadata": {},
   "outputs": [
    {
     "name": "stdout",
     "output_type": "stream",
     "text": [
      "(6176, 6)\n"
     ]
    },
    {
     "data": {
      "text/html": [
       "<div>\n",
       "<style>\n",
       "    .dataframe thead tr:only-child th {\n",
       "        text-align: right;\n",
       "    }\n",
       "\n",
       "    .dataframe thead th {\n",
       "        text-align: left;\n",
       "    }\n",
       "\n",
       "    .dataframe tbody tr th {\n",
       "        vertical-align: top;\n",
       "    }\n",
       "</style>\n",
       "<table border=\"1\" class=\"dataframe\">\n",
       "  <thead>\n",
       "    <tr style=\"text-align: right;\">\n",
       "      <th></th>\n",
       "      <th>url</th>\n",
       "      <th>title</th>\n",
       "      <th>text</th>\n",
       "      <th>wing</th>\n",
       "      <th>conspiracy</th>\n",
       "      <th>label</th>\n",
       "    </tr>\n",
       "  </thead>\n",
       "  <tbody>\n",
       "    <tr>\n",
       "      <th>0</th>\n",
       "      <td>cnn.com</td>\n",
       "      <td>A Catholic reads the Bible, week 43</td>\n",
       "      <td>(CNN) My father was known for his dry sense of...</td>\n",
       "      <td>2-left</td>\n",
       "      <td>0</td>\n",
       "      <td>REAL</td>\n",
       "    </tr>\n",
       "    <tr>\n",
       "      <th>1</th>\n",
       "      <td>cnn.com</td>\n",
       "      <td>It's not over: Veterans waiting months for app...</td>\n",
       "      <td>Los Angeles (CNN) Thousands of veterans who ar...</td>\n",
       "      <td>2-left</td>\n",
       "      <td>0</td>\n",
       "      <td>REAL</td>\n",
       "    </tr>\n",
       "    <tr>\n",
       "      <th>2</th>\n",
       "      <td>cnn.com</td>\n",
       "      <td>11 everyday items you should stop using now</td>\n",
       "      <td>Coffee pods deliver gourmet-quality coffee wit...</td>\n",
       "      <td>2-left</td>\n",
       "      <td>0</td>\n",
       "      <td>REAL</td>\n",
       "    </tr>\n",
       "    <tr>\n",
       "      <th>3</th>\n",
       "      <td>cnn.com</td>\n",
       "      <td>Eight foods that can be stored for years</td>\n",
       "      <td>The news that, after 106 years, Captain Scott'...</td>\n",
       "      <td>6-right</td>\n",
       "      <td>0</td>\n",
       "      <td>REAL</td>\n",
       "    </tr>\n",
       "    <tr>\n",
       "      <th>4</th>\n",
       "      <td>cnn.com</td>\n",
       "      <td>Cohen lawyer rebuts Russia dossier allegations</td>\n",
       "      <td>Washington (CNN) The lawyer for a close ally o...</td>\n",
       "      <td>2-left</td>\n",
       "      <td>0</td>\n",
       "      <td>REAL</td>\n",
       "    </tr>\n",
       "  </tbody>\n",
       "</table>\n",
       "</div>"
      ],
      "text/plain": [
       "       url                                              title  \\\n",
       "0  cnn.com                A Catholic reads the Bible, week 43   \n",
       "1  cnn.com  It's not over: Veterans waiting months for app...   \n",
       "2  cnn.com        11 everyday items you should stop using now   \n",
       "3  cnn.com           Eight foods that can be stored for years   \n",
       "4  cnn.com     Cohen lawyer rebuts Russia dossier allegations   \n",
       "\n",
       "                                                text     wing  conspiracy  \\\n",
       "0  (CNN) My father was known for his dry sense of...   2-left           0   \n",
       "1  Los Angeles (CNN) Thousands of veterans who ar...   2-left           0   \n",
       "2  Coffee pods deliver gourmet-quality coffee wit...   2-left           0   \n",
       "3  The news that, after 106 years, Captain Scott'...  6-right           0   \n",
       "4  Washington (CNN) The lawyer for a close ally o...   2-left           0   \n",
       "\n",
       "  label  \n",
       "0  REAL  \n",
       "1  REAL  \n",
       "2  REAL  \n",
       "3  REAL  \n",
       "4  REAL  "
      ]
     },
     "execution_count": 570,
     "metadata": {},
     "output_type": "execute_result"
    }
   ],
   "source": [
    "data_w = df[['url','title','text','wing', 'conspiracy', 'label']]\n",
    "print data_w.shape\n",
    "data_w.head()"
   ]
  },
  {
   "cell_type": "code",
   "execution_count": 573,
   "metadata": {},
   "outputs": [
    {
     "name": "stderr",
     "output_type": "stream",
     "text": [
      "progress-bar: 100%|██████████| 6176/6176 [00:48<00:00, 56.55it/s] \n",
      "/Users/baurjansafi/anaconda/lib/python2.7/site-packages/ipykernel_launcher.py:4: SettingWithCopyWarning: \n",
      "A value is trying to be set on a copy of a slice from a DataFrame\n",
      "\n",
      "See the caveats in the documentation: http://pandas.pydata.org/pandas-docs/stable/indexing.html#indexing-view-versus-copy\n",
      "  after removing the cwd from sys.path.\n"
     ]
    }
   ],
   "source": [
    "data_w['tokens'] = data_w['text'].progress_map(preprocess)\n",
    "data_w = data_w[data_w['tokens'].notnull()]\n",
    "data_w.reset_index(inplace=True)\n",
    "data_w.drop('index', inplace=True, axis=1)"
   ]
  },
  {
   "cell_type": "code",
   "execution_count": 574,
   "metadata": {},
   "outputs": [
    {
     "name": "stdout",
     "output_type": "stream",
     "text": [
      "5505 text\n"
     ]
    },
    {
     "data": {
      "text/html": [
       "<div>\n",
       "<style>\n",
       "    .dataframe thead tr:only-child th {\n",
       "        text-align: right;\n",
       "    }\n",
       "\n",
       "    .dataframe thead th {\n",
       "        text-align: left;\n",
       "    }\n",
       "\n",
       "    .dataframe tbody tr th {\n",
       "        vertical-align: top;\n",
       "    }\n",
       "</style>\n",
       "<table border=\"1\" class=\"dataframe\">\n",
       "  <thead>\n",
       "    <tr style=\"text-align: right;\">\n",
       "      <th></th>\n",
       "      <th>url</th>\n",
       "      <th>title</th>\n",
       "      <th>text</th>\n",
       "      <th>wing</th>\n",
       "      <th>conspiracy</th>\n",
       "      <th>label</th>\n",
       "      <th>tokens</th>\n",
       "    </tr>\n",
       "  </thead>\n",
       "  <tbody>\n",
       "    <tr>\n",
       "      <th>0</th>\n",
       "      <td>cnn.com</td>\n",
       "      <td>A Catholic reads the Bible, week 43</td>\n",
       "      <td>(CNN) My father was known for his dry sense of...</td>\n",
       "      <td>2-left</td>\n",
       "      <td>0</td>\n",
       "      <td>REAL</td>\n",
       "      <td>cnn father known dri sens humor one day cousin...</td>\n",
       "    </tr>\n",
       "    <tr>\n",
       "      <th>1</th>\n",
       "      <td>cnn.com</td>\n",
       "      <td>It's not over: Veterans waiting months for app...</td>\n",
       "      <td>Los Angeles (CNN) Thousands of veterans who ar...</td>\n",
       "      <td>2-left</td>\n",
       "      <td>0</td>\n",
       "      <td>REAL</td>\n",
       "      <td>lo angel cnn thousand veteran patient greater ...</td>\n",
       "    </tr>\n",
       "    <tr>\n",
       "      <th>2</th>\n",
       "      <td>cnn.com</td>\n",
       "      <td>11 everyday items you should stop using now</td>\n",
       "      <td>Coffee pods deliver gourmet-quality coffee wit...</td>\n",
       "      <td>2-left</td>\n",
       "      <td>0</td>\n",
       "      <td>REAL</td>\n",
       "      <td>coffe pod deliv gourmetqu coffe advantag low c...</td>\n",
       "    </tr>\n",
       "    <tr>\n",
       "      <th>3</th>\n",
       "      <td>cnn.com</td>\n",
       "      <td>Eight foods that can be stored for years</td>\n",
       "      <td>The news that, after 106 years, Captain Scott'...</td>\n",
       "      <td>6-right</td>\n",
       "      <td>0</td>\n",
       "      <td>REAL</td>\n",
       "      <td>news 106 year captain scott fruitcak found ant...</td>\n",
       "    </tr>\n",
       "    <tr>\n",
       "      <th>4</th>\n",
       "      <td>cnn.com</td>\n",
       "      <td>Cohen lawyer rebuts Russia dossier allegations</td>\n",
       "      <td>Washington (CNN) The lawyer for a close ally o...</td>\n",
       "      <td>2-left</td>\n",
       "      <td>0</td>\n",
       "      <td>REAL</td>\n",
       "      <td>washington cnn lawyer close alli presid donald...</td>\n",
       "    </tr>\n",
       "  </tbody>\n",
       "</table>\n",
       "</div>"
      ],
      "text/plain": [
       "       url                                              title  \\\n",
       "0  cnn.com                A Catholic reads the Bible, week 43   \n",
       "1  cnn.com  It's not over: Veterans waiting months for app...   \n",
       "2  cnn.com        11 everyday items you should stop using now   \n",
       "3  cnn.com           Eight foods that can be stored for years   \n",
       "4  cnn.com     Cohen lawyer rebuts Russia dossier allegations   \n",
       "\n",
       "                                                text     wing  conspiracy  \\\n",
       "0  (CNN) My father was known for his dry sense of...   2-left           0   \n",
       "1  Los Angeles (CNN) Thousands of veterans who ar...   2-left           0   \n",
       "2  Coffee pods deliver gourmet-quality coffee wit...   2-left           0   \n",
       "3  The news that, after 106 years, Captain Scott'...  6-right           0   \n",
       "4  Washington (CNN) The lawyer for a close ally o...   2-left           0   \n",
       "\n",
       "  label                                             tokens  \n",
       "0  REAL  cnn father known dri sens humor one day cousin...  \n",
       "1  REAL  lo angel cnn thousand veteran patient greater ...  \n",
       "2  REAL  coffe pod deliv gourmetqu coffe advantag low c...  \n",
       "3  REAL  news 106 year captain scott fruitcak found ant...  \n",
       "4  REAL  washington cnn lawyer close alli presid donald...  "
      ]
     },
     "execution_count": 574,
     "metadata": {},
     "output_type": "execute_result"
    }
   ],
   "source": [
    "print('{} text'.format(len(data_w)))\n",
    "data_w.head()"
   ]
  },
  {
   "cell_type": "markdown",
   "metadata": {},
   "source": [
    "Now I can run the tokenized preprocessed news in the model fit on the DataCamp dataset."
   ]
  },
  {
   "cell_type": "code",
   "execution_count": 575,
   "metadata": {
    "collapsed": true
   },
   "outputs": [],
   "source": [
    "# Transform the test set \n",
    "tfidf_test_tokens = tfidf_vectorizer.transform(data_w.tokens)\n",
    "y = data_w.label"
   ]
  },
  {
   "cell_type": "code",
   "execution_count": 576,
   "metadata": {},
   "outputs": [
    {
     "name": "stdout",
     "output_type": "stream",
     "text": [
      "[u'\\u062d\\u0644\\u0628', u'\\u0639\\u0631\\u0628\\u064a', u'\\u0639\\u0646', u'\\u0644\\u0645', u'\\u0645\\u0627', u'\\u0645\\u062d\\u0627\\u0648\\u0644\\u0627\\u062a', u'\\u0645\\u0646', u'\\u0647\\u0630\\u0627', u'\\u0648\\u0627\\u0644\\u0645\\u0631\\u0636\\u0649', u'\\u0e22\\u0e07ade']\n"
     ]
    }
   ],
   "source": [
    "# Get the feature names of `tfidf_vectorizer` \n",
    "print(tfidf_vectorizer.get_feature_names()[-10:])"
   ]
  },
  {
   "cell_type": "code",
   "execution_count": 577,
   "metadata": {
    "collapsed": true
   },
   "outputs": [],
   "source": [
    "pred = clf.predict(tfidf_test_tokens)"
   ]
  },
  {
   "cell_type": "code",
   "execution_count": 578,
   "metadata": {},
   "outputs": [
    {
     "data": {
      "text/plain": [
       "REAL    3086\n",
       "FAKE    2419\n",
       "Name: 0, dtype: int64"
      ]
     },
     "execution_count": 578,
     "metadata": {},
     "output_type": "execute_result"
    }
   ],
   "source": [
    "pred_df = pd.DataFrame(pred)\n",
    "pred_df[0].value_counts()"
   ]
  },
  {
   "cell_type": "code",
   "execution_count": 579,
   "metadata": {},
   "outputs": [
    {
     "name": "stdout",
     "output_type": "stream",
     "text": [
      "accuracy:   0.561\n"
     ]
    }
   ],
   "source": [
    "score = metrics.accuracy_score(y, pred)\n",
    "print(\"accuracy:   %0.3f\" % score)"
   ]
  },
  {
   "cell_type": "code",
   "execution_count": 580,
   "metadata": {},
   "outputs": [
    {
     "name": "stderr",
     "output_type": "stream",
     "text": [
      "/Users/baurjansafi/anaconda/lib/python2.7/site-packages/ipykernel_launcher.py:1: SettingWithCopyWarning: \n",
      "A value is trying to be set on a copy of a slice from a DataFrame.\n",
      "Try using .loc[row_indexer,col_indexer] = value instead\n",
      "\n",
      "See the caveats in the documentation: http://pandas.pydata.org/pandas-docs/stable/indexing.html#indexing-view-versus-copy\n",
      "  \"\"\"Entry point for launching an IPython kernel.\n"
     ]
    },
    {
     "data": {
      "text/html": [
       "<div>\n",
       "<style>\n",
       "    .dataframe thead tr:only-child th {\n",
       "        text-align: right;\n",
       "    }\n",
       "\n",
       "    .dataframe thead th {\n",
       "        text-align: left;\n",
       "    }\n",
       "\n",
       "    .dataframe tbody tr th {\n",
       "        vertical-align: top;\n",
       "    }\n",
       "</style>\n",
       "<table border=\"1\" class=\"dataframe\">\n",
       "  <thead>\n",
       "    <tr style=\"text-align: right;\">\n",
       "      <th></th>\n",
       "      <th>url</th>\n",
       "      <th>title</th>\n",
       "      <th>text</th>\n",
       "      <th>wing</th>\n",
       "      <th>conspiracy</th>\n",
       "      <th>label</th>\n",
       "      <th>tokens</th>\n",
       "      <th>pred</th>\n",
       "    </tr>\n",
       "  </thead>\n",
       "  <tbody>\n",
       "    <tr>\n",
       "      <th>0</th>\n",
       "      <td>cnn.com</td>\n",
       "      <td>A Catholic reads the Bible, week 43</td>\n",
       "      <td>(CNN) My father was known for his dry sense of...</td>\n",
       "      <td>2-left</td>\n",
       "      <td>0</td>\n",
       "      <td>REAL</td>\n",
       "      <td>cnn father known dri sens humor one day cousin...</td>\n",
       "      <td>FAKE</td>\n",
       "    </tr>\n",
       "    <tr>\n",
       "      <th>1</th>\n",
       "      <td>cnn.com</td>\n",
       "      <td>It's not over: Veterans waiting months for app...</td>\n",
       "      <td>Los Angeles (CNN) Thousands of veterans who ar...</td>\n",
       "      <td>2-left</td>\n",
       "      <td>0</td>\n",
       "      <td>REAL</td>\n",
       "      <td>lo angel cnn thousand veteran patient greater ...</td>\n",
       "      <td>REAL</td>\n",
       "    </tr>\n",
       "    <tr>\n",
       "      <th>2</th>\n",
       "      <td>cnn.com</td>\n",
       "      <td>11 everyday items you should stop using now</td>\n",
       "      <td>Coffee pods deliver gourmet-quality coffee wit...</td>\n",
       "      <td>2-left</td>\n",
       "      <td>0</td>\n",
       "      <td>REAL</td>\n",
       "      <td>coffe pod deliv gourmetqu coffe advantag low c...</td>\n",
       "      <td>REAL</td>\n",
       "    </tr>\n",
       "    <tr>\n",
       "      <th>3</th>\n",
       "      <td>cnn.com</td>\n",
       "      <td>Eight foods that can be stored for years</td>\n",
       "      <td>The news that, after 106 years, Captain Scott'...</td>\n",
       "      <td>6-right</td>\n",
       "      <td>0</td>\n",
       "      <td>REAL</td>\n",
       "      <td>news 106 year captain scott fruitcak found ant...</td>\n",
       "      <td>FAKE</td>\n",
       "    </tr>\n",
       "    <tr>\n",
       "      <th>4</th>\n",
       "      <td>cnn.com</td>\n",
       "      <td>Cohen lawyer rebuts Russia dossier allegations</td>\n",
       "      <td>Washington (CNN) The lawyer for a close ally o...</td>\n",
       "      <td>2-left</td>\n",
       "      <td>0</td>\n",
       "      <td>REAL</td>\n",
       "      <td>washington cnn lawyer close alli presid donald...</td>\n",
       "      <td>REAL</td>\n",
       "    </tr>\n",
       "  </tbody>\n",
       "</table>\n",
       "</div>"
      ],
      "text/plain": [
       "       url                                              title  \\\n",
       "0  cnn.com                A Catholic reads the Bible, week 43   \n",
       "1  cnn.com  It's not over: Veterans waiting months for app...   \n",
       "2  cnn.com        11 everyday items you should stop using now   \n",
       "3  cnn.com           Eight foods that can be stored for years   \n",
       "4  cnn.com     Cohen lawyer rebuts Russia dossier allegations   \n",
       "\n",
       "                                                text     wing  conspiracy  \\\n",
       "0  (CNN) My father was known for his dry sense of...   2-left           0   \n",
       "1  Los Angeles (CNN) Thousands of veterans who ar...   2-left           0   \n",
       "2  Coffee pods deliver gourmet-quality coffee wit...   2-left           0   \n",
       "3  The news that, after 106 years, Captain Scott'...  6-right           0   \n",
       "4  Washington (CNN) The lawyer for a close ally o...   2-left           0   \n",
       "\n",
       "  label                                             tokens  pred  \n",
       "0  REAL  cnn father known dri sens humor one day cousin...  FAKE  \n",
       "1  REAL  lo angel cnn thousand veteran patient greater ...  REAL  \n",
       "2  REAL  coffe pod deliv gourmetqu coffe advantag low c...  REAL  \n",
       "3  REAL  news 106 year captain scott fruitcak found ant...  FAKE  \n",
       "4  REAL  washington cnn lawyer close alli presid donald...  REAL  "
      ]
     },
     "execution_count": 580,
     "metadata": {},
     "output_type": "execute_result"
    }
   ],
   "source": [
    "data_w['pred'] = pred\n",
    "data_w.head()"
   ]
  },
  {
   "cell_type": "code",
   "execution_count": 581,
   "metadata": {
    "collapsed": true
   },
   "outputs": [],
   "source": [
    "# Here I decided to build a little table of how each wing of political affiliation performs on the FAKE/REAL model \n",
    "# trained on the DataCamp.com dataset.\n",
    "\n",
    "z = pd.concat([data_w[data_w.pred == \"FAKE\"].wing.value_counts(),data_w[data_w.pred == \"REAL\"].wing.value_counts()], join='outer', axis = 1)"
   ]
  },
  {
   "cell_type": "code",
   "execution_count": 582,
   "metadata": {},
   "outputs": [
    {
     "data": {
      "text/html": [
       "<div>\n",
       "<style>\n",
       "    .dataframe thead tr:only-child th {\n",
       "        text-align: right;\n",
       "    }\n",
       "\n",
       "    .dataframe thead th {\n",
       "        text-align: left;\n",
       "    }\n",
       "\n",
       "    .dataframe tbody tr th {\n",
       "        vertical-align: top;\n",
       "    }\n",
       "</style>\n",
       "<table border=\"1\" class=\"dataframe\">\n",
       "  <thead>\n",
       "    <tr style=\"text-align: right;\">\n",
       "      <th></th>\n",
       "      <th>FAKE</th>\n",
       "      <th>REAL</th>\n",
       "      <th>TOTAL</th>\n",
       "      <th>CREDIBILITY</th>\n",
       "    </tr>\n",
       "  </thead>\n",
       "  <tbody>\n",
       "    <tr>\n",
       "      <th>0-unknown</th>\n",
       "      <td>105</td>\n",
       "      <td>220</td>\n",
       "      <td>325</td>\n",
       "      <td>0.676923</td>\n",
       "    </tr>\n",
       "    <tr>\n",
       "      <th>2-left</th>\n",
       "      <td>752</td>\n",
       "      <td>478</td>\n",
       "      <td>1230</td>\n",
       "      <td>0.388618</td>\n",
       "    </tr>\n",
       "    <tr>\n",
       "      <th>3-center left</th>\n",
       "      <td>403</td>\n",
       "      <td>534</td>\n",
       "      <td>937</td>\n",
       "      <td>0.569904</td>\n",
       "    </tr>\n",
       "    <tr>\n",
       "      <th>4-center</th>\n",
       "      <td>454</td>\n",
       "      <td>787</td>\n",
       "      <td>1241</td>\n",
       "      <td>0.634166</td>\n",
       "    </tr>\n",
       "    <tr>\n",
       "      <th>5-center right</th>\n",
       "      <td>54</td>\n",
       "      <td>72</td>\n",
       "      <td>126</td>\n",
       "      <td>0.571429</td>\n",
       "    </tr>\n",
       "    <tr>\n",
       "      <th>6-right</th>\n",
       "      <td>580</td>\n",
       "      <td>780</td>\n",
       "      <td>1360</td>\n",
       "      <td>0.573529</td>\n",
       "    </tr>\n",
       "    <tr>\n",
       "      <th>7-extreme right</th>\n",
       "      <td>71</td>\n",
       "      <td>215</td>\n",
       "      <td>286</td>\n",
       "      <td>0.751748</td>\n",
       "    </tr>\n",
       "  </tbody>\n",
       "</table>\n",
       "</div>"
      ],
      "text/plain": [
       "                 FAKE  REAL  TOTAL  CREDIBILITY\n",
       "0-unknown         105   220    325     0.676923\n",
       "2-left            752   478   1230     0.388618\n",
       "3-center left     403   534    937     0.569904\n",
       "4-center          454   787   1241     0.634166\n",
       "5-center right     54    72    126     0.571429\n",
       "6-right           580   780   1360     0.573529\n",
       "7-extreme right    71   215    286     0.751748"
      ]
     },
     "execution_count": 582,
     "metadata": {},
     "output_type": "execute_result"
    }
   ],
   "source": [
    "z.columns = ['FAKE', 'REAL']\n",
    "z['TOTAL'] = z.REAL + z.FAKE\n",
    "z['CREDIBILITY'] = z.REAL/(z.FAKE +z.REAL)\n",
    "z.to_csv('data/z_pred.csv')\n",
    "z"
   ]
  },
  {
   "cell_type": "markdown",
   "metadata": {},
   "source": [
    "<font color = \"red\"> It is strange and I am very curious why the scraped news produce such a strange result for the left and extreme right wings. </font>"
   ]
  },
  {
   "cell_type": "code",
   "execution_count": 583,
   "metadata": {},
   "outputs": [
    {
     "data": {
      "text/plain": [
       "cnn.com                  571\n",
       "huffingtonpost.com       172\n",
       "rabble.ca                168\n",
       "huffingtonpost.kr         74\n",
       "huffingtonpost.de         51\n",
       "huffingtonpost.co.uk      50\n",
       "huffingtonpost.fr         29\n",
       "huffingtonpost.in         25\n",
       "huffingtonpost.ca         23\n",
       "huffingtonpost.gr         17\n",
       "huffingtonpost.com.au     13\n",
       "huffingtonpost.com.mx     12\n",
       "newsbusters.org            9\n",
       "huffingtonpost.es          4\n",
       "politifact.com             3\n",
       "huffingtonpost.co.za       2\n",
       "huffingtonpost.jp          2\n",
       "huffingtonpost.it          2\n",
       "comparecards.com           1\n",
       "hani.co.kr                 1\n",
       "cnnmoneystream.com         1\n",
       "Name: url, dtype: int64"
      ]
     },
     "execution_count": 583,
     "metadata": {},
     "output_type": "execute_result"
    }
   ],
   "source": [
    "data_w[data_w.wing == '2-left'].url.value_counts()"
   ]
  },
  {
   "cell_type": "code",
   "execution_count": 584,
   "metadata": {
    "scrolled": true
   },
   "outputs": [
    {
     "data": {
      "text/plain": [
       "breitbart.com            214\n",
       "westernjournalism.com     69\n",
       "liftable.com               1\n",
       "sctimes.com                1\n",
       "thewildcard.com            1\n",
       "Name: url, dtype: int64"
      ]
     },
     "execution_count": 584,
     "metadata": {},
     "output_type": "execute_result"
    }
   ],
   "source": [
    "data_w[data_w.wing == '7-extreme right'].url.value_counts()"
   ]
  },
  {
   "cell_type": "code",
   "execution_count": 585,
   "metadata": {
    "scrolled": true
   },
   "outputs": [
    {
     "data": {
      "text/plain": [
       "<matplotlib.axes._subplots.AxesSubplot at 0x1946fd290>"
      ]
     },
     "execution_count": 585,
     "metadata": {},
     "output_type": "execute_result"
    },
    {
     "data": {
      "image/png": "[encoded data removed]",
      "text/plain": [
       "<matplotlib.figure.Figure at 0x19476f990>"
      ]
     },
     "metadata": {},
     "output_type": "display_data"
    }
   ],
   "source": [
    "plt.figure(figsize=(10,6))\n",
    "z.CREDIBILITY.plot(kind = 'bar')"
   ]
  },
  {
   "cell_type": "markdown",
   "metadata": {},
   "source": [
    "<font color=\"#FF0000\"><h3> I know, I know: but we have to remember, the model has been trained on a different dataset.</font></h3>"
   ]
  },
  {
   "cell_type": "code",
   "execution_count": 383,
   "metadata": {
    "collapsed": true
   },
   "outputs": [],
   "source": [
    "# Let's do the same for individual web-sites:"
   ]
  },
  {
   "cell_type": "code",
   "execution_count": 586,
   "metadata": {},
   "outputs": [
    {
     "data": {
      "text/html": [
       "<div>\n",
       "<style>\n",
       "    .dataframe thead tr:only-child th {\n",
       "        text-align: right;\n",
       "    }\n",
       "\n",
       "    .dataframe thead th {\n",
       "        text-align: left;\n",
       "    }\n",
       "\n",
       "    .dataframe tbody tr th {\n",
       "        vertical-align: top;\n",
       "    }\n",
       "</style>\n",
       "<table border=\"1\" class=\"dataframe\">\n",
       "  <thead>\n",
       "    <tr style=\"text-align: right;\">\n",
       "      <th></th>\n",
       "      <th>FAKE</th>\n",
       "      <th>REAL</th>\n",
       "      <th>TOTAL</th>\n",
       "      <th>CREDIBILITY</th>\n",
       "    </tr>\n",
       "  </thead>\n",
       "  <tbody>\n",
       "    <tr>\n",
       "      <th>typepad.com</th>\n",
       "      <td>0.0</td>\n",
       "      <td>15.0</td>\n",
       "      <td>15.0</td>\n",
       "      <td>1.000000</td>\n",
       "    </tr>\n",
       "    <tr>\n",
       "      <th>natmonitor.com</th>\n",
       "      <td>2.0</td>\n",
       "      <td>28.0</td>\n",
       "      <td>30.0</td>\n",
       "      <td>0.933333</td>\n",
       "    </tr>\n",
       "    <tr>\n",
       "      <th>politico.com</th>\n",
       "      <td>6.0</td>\n",
       "      <td>73.0</td>\n",
       "      <td>79.0</td>\n",
       "      <td>0.924051</td>\n",
       "    </tr>\n",
       "    <tr>\n",
       "      <th>richmond.com</th>\n",
       "      <td>1.0</td>\n",
       "      <td>10.0</td>\n",
       "      <td>11.0</td>\n",
       "      <td>0.909091</td>\n",
       "    </tr>\n",
       "    <tr>\n",
       "      <th>politifact.com</th>\n",
       "      <td>106.0</td>\n",
       "      <td>757.0</td>\n",
       "      <td>863.0</td>\n",
       "      <td>0.877173</td>\n",
       "    </tr>\n",
       "    <tr>\n",
       "      <th>washingtonpost.com</th>\n",
       "      <td>2.0</td>\n",
       "      <td>14.0</td>\n",
       "      <td>16.0</td>\n",
       "      <td>0.875000</td>\n",
       "    </tr>\n",
       "    <tr>\n",
       "      <th>westernjournalism.com</th>\n",
       "      <td>9.0</td>\n",
       "      <td>60.0</td>\n",
       "      <td>69.0</td>\n",
       "      <td>0.869565</td>\n",
       "    </tr>\n",
       "    <tr>\n",
       "      <th>nytimes.com</th>\n",
       "      <td>4.0</td>\n",
       "      <td>19.0</td>\n",
       "      <td>23.0</td>\n",
       "      <td>0.826087</td>\n",
       "    </tr>\n",
       "    <tr>\n",
       "      <th>ajc.com</th>\n",
       "      <td>3.0</td>\n",
       "      <td>11.0</td>\n",
       "      <td>14.0</td>\n",
       "      <td>0.785714</td>\n",
       "    </tr>\n",
       "    <tr>\n",
       "      <th>politico.eu</th>\n",
       "      <td>20.0</td>\n",
       "      <td>64.0</td>\n",
       "      <td>84.0</td>\n",
       "      <td>0.761905</td>\n",
       "    </tr>\n",
       "  </tbody>\n",
       "</table>\n",
       "</div>"
      ],
      "text/plain": [
       "                        FAKE   REAL  TOTAL  CREDIBILITY\n",
       "typepad.com              0.0   15.0   15.0     1.000000\n",
       "natmonitor.com           2.0   28.0   30.0     0.933333\n",
       "politico.com             6.0   73.0   79.0     0.924051\n",
       "richmond.com             1.0   10.0   11.0     0.909091\n",
       "politifact.com         106.0  757.0  863.0     0.877173\n",
       "washingtonpost.com       2.0   14.0   16.0     0.875000\n",
       "westernjournalism.com    9.0   60.0   69.0     0.869565\n",
       "nytimes.com              4.0   19.0   23.0     0.826087\n",
       "ajc.com                  3.0   11.0   14.0     0.785714\n",
       "politico.eu             20.0   64.0   84.0     0.761905"
      ]
     },
     "execution_count": 586,
     "metadata": {},
     "output_type": "execute_result"
    }
   ],
   "source": [
    "z_url = pd.concat([data_w[data_w.pred == \"FAKE\"].url.value_counts(),data_w[data_w.pred == \"REAL\"].url.value_counts()], join='outer', axis = 1)\n",
    "z_url.fillna(0, inplace = True)\n",
    "z_url.columns = ['FAKE', 'REAL']\n",
    "z_url['TOTAL'] = z_url.REAL + z_url.FAKE\n",
    "z_url['CREDIBILITY'] = z_url.REAL/(z_url.FAKE +z_url.REAL)\n",
    "z_url.to_csv('data/z_url_pred.csv')\n",
    "z_url[z_url.TOTAL>10].sort_values(by = 'CREDIBILITY', na_position='last', ascending=0).head(10)\n"
   ]
  },
  {
   "cell_type": "code",
   "execution_count": 587,
   "metadata": {},
   "outputs": [
    {
     "data": {
      "text/html": [
       "<div>\n",
       "<style>\n",
       "    .dataframe thead tr:only-child th {\n",
       "        text-align: right;\n",
       "    }\n",
       "\n",
       "    .dataframe thead th {\n",
       "        text-align: left;\n",
       "    }\n",
       "\n",
       "    .dataframe tbody tr th {\n",
       "        vertical-align: top;\n",
       "    }\n",
       "</style>\n",
       "<table border=\"1\" class=\"dataframe\">\n",
       "  <thead>\n",
       "    <tr style=\"text-align: right;\">\n",
       "      <th></th>\n",
       "      <th>FAKE</th>\n",
       "      <th>REAL</th>\n",
       "      <th>TOTAL</th>\n",
       "      <th>CREDIBILITY</th>\n",
       "    </tr>\n",
       "  </thead>\n",
       "  <tbody>\n",
       "    <tr>\n",
       "      <th>bustle.com</th>\n",
       "      <td>324.0</td>\n",
       "      <td>185.0</td>\n",
       "      <td>509.0</td>\n",
       "      <td>0.363458</td>\n",
       "    </tr>\n",
       "    <tr>\n",
       "      <th>sctimes.com</th>\n",
       "      <td>419.0</td>\n",
       "      <td>210.0</td>\n",
       "      <td>629.0</td>\n",
       "      <td>0.333863</td>\n",
       "    </tr>\n",
       "    <tr>\n",
       "      <th>huffingtonpost.kr</th>\n",
       "      <td>58.0</td>\n",
       "      <td>16.0</td>\n",
       "      <td>74.0</td>\n",
       "      <td>0.216216</td>\n",
       "    </tr>\n",
       "    <tr>\n",
       "      <th>hpenews.com</th>\n",
       "      <td>100.0</td>\n",
       "      <td>24.0</td>\n",
       "      <td>124.0</td>\n",
       "      <td>0.193548</td>\n",
       "    </tr>\n",
       "    <tr>\n",
       "      <th>huffingtonpost.gr</th>\n",
       "      <td>14.0</td>\n",
       "      <td>3.0</td>\n",
       "      <td>17.0</td>\n",
       "      <td>0.176471</td>\n",
       "    </tr>\n",
       "    <tr>\n",
       "      <th>huffingtonpost.ca</th>\n",
       "      <td>25.0</td>\n",
       "      <td>4.0</td>\n",
       "      <td>29.0</td>\n",
       "      <td>0.137931</td>\n",
       "    </tr>\n",
       "    <tr>\n",
       "      <th>huffingtonpost.com.mx</th>\n",
       "      <td>12.0</td>\n",
       "      <td>1.0</td>\n",
       "      <td>13.0</td>\n",
       "      <td>0.076923</td>\n",
       "    </tr>\n",
       "    <tr>\n",
       "      <th>huffingtonpost.com</th>\n",
       "      <td>170.0</td>\n",
       "      <td>6.0</td>\n",
       "      <td>176.0</td>\n",
       "      <td>0.034091</td>\n",
       "    </tr>\n",
       "    <tr>\n",
       "      <th>huffingtonpost.de</th>\n",
       "      <td>58.0</td>\n",
       "      <td>2.0</td>\n",
       "      <td>60.0</td>\n",
       "      <td>0.033333</td>\n",
       "    </tr>\n",
       "    <tr>\n",
       "      <th>huffingtonpost.fr</th>\n",
       "      <td>32.0</td>\n",
       "      <td>0.0</td>\n",
       "      <td>32.0</td>\n",
       "      <td>0.000000</td>\n",
       "    </tr>\n",
       "  </tbody>\n",
       "</table>\n",
       "</div>"
      ],
      "text/plain": [
       "                        FAKE   REAL  TOTAL  CREDIBILITY\n",
       "bustle.com             324.0  185.0  509.0     0.363458\n",
       "sctimes.com            419.0  210.0  629.0     0.333863\n",
       "huffingtonpost.kr       58.0   16.0   74.0     0.216216\n",
       "hpenews.com            100.0   24.0  124.0     0.193548\n",
       "huffingtonpost.gr       14.0    3.0   17.0     0.176471\n",
       "huffingtonpost.ca       25.0    4.0   29.0     0.137931\n",
       "huffingtonpost.com.mx   12.0    1.0   13.0     0.076923\n",
       "huffingtonpost.com     170.0    6.0  176.0     0.034091\n",
       "huffingtonpost.de       58.0    2.0   60.0     0.033333\n",
       "huffingtonpost.fr       32.0    0.0   32.0     0.000000"
      ]
     },
     "execution_count": 587,
     "metadata": {},
     "output_type": "execute_result"
    }
   ],
   "source": [
    "z_url[z_url.TOTAL>10].sort_values(by = 'CREDIBILITY', na_position='last', ascending=0).tail(10)"
   ]
  },
  {
   "cell_type": "markdown",
   "metadata": {},
   "source": [
    "<h2><font color = \"green\"> Part 4: Merging Kaggle and Web Scraped datasets </font></h2>\n",
    "\n",
    "Below I will merge two datasets and re-fit the model and check it's accuracy"
   ]
  },
  {
   "cell_type": "code",
   "execution_count": 588,
   "metadata": {},
   "outputs": [
    {
     "name": "stdout",
     "output_type": "stream",
     "text": [
      "(9925, 8)\n"
     ]
    },
    {
     "data": {
      "text/html": [
       "<div>\n",
       "<style>\n",
       "    .dataframe thead tr:only-child th {\n",
       "        text-align: right;\n",
       "    }\n",
       "\n",
       "    .dataframe thead th {\n",
       "        text-align: left;\n",
       "    }\n",
       "\n",
       "    .dataframe tbody tr th {\n",
       "        vertical-align: top;\n",
       "    }\n",
       "</style>\n",
       "<table border=\"1\" class=\"dataframe\">\n",
       "  <thead>\n",
       "    <tr style=\"text-align: right;\">\n",
       "      <th></th>\n",
       "      <th>url</th>\n",
       "      <th>title</th>\n",
       "      <th>text</th>\n",
       "      <th>wing</th>\n",
       "      <th>conspiracy</th>\n",
       "      <th>label</th>\n",
       "      <th>tokens</th>\n",
       "      <th>pred</th>\n",
       "    </tr>\n",
       "  </thead>\n",
       "  <tbody>\n",
       "    <tr>\n",
       "      <th>0</th>\n",
       "      <td>100percentfedup.com</td>\n",
       "      <td>Muslims BUSTED: They Stole Millions In Gov’t B...</td>\n",
       "      <td>Print They should pay all the back all the mon...</td>\n",
       "      <td>7-extreme right</td>\n",
       "      <td>0</td>\n",
       "      <td>FAKE</td>\n",
       "      <td>print pay back money plu interest entir famili...</td>\n",
       "      <td>FAKE</td>\n",
       "    </tr>\n",
       "    <tr>\n",
       "      <th>1</th>\n",
       "      <td>100percentfedup.com</td>\n",
       "      <td>Re: Why Did Attorney General Loretta Lynch Ple...</td>\n",
       "      <td>Why Did Attorney General Loretta Lynch Plead T...</td>\n",
       "      <td>7-extreme right</td>\n",
       "      <td>0</td>\n",
       "      <td>FAKE</td>\n",
       "      <td>attorney gener loretta lynch plead fifth barra...</td>\n",
       "      <td>REAL</td>\n",
       "    </tr>\n",
       "    <tr>\n",
       "      <th>2</th>\n",
       "      <td>100percentfedup.com</td>\n",
       "      <td>BREAKING: Weiner Cooperating With FBI On Hilla...</td>\n",
       "      <td>Red State : \\nFox News Sunday reported this mo...</td>\n",
       "      <td>7-extreme right</td>\n",
       "      <td>0</td>\n",
       "      <td>FAKE</td>\n",
       "      <td>red state fox news sunday report morn anthoni ...</td>\n",
       "      <td>FAKE</td>\n",
       "    </tr>\n",
       "  </tbody>\n",
       "</table>\n",
       "</div>"
      ],
      "text/plain": [
       "                   url                                              title  \\\n",
       "0  100percentfedup.com  Muslims BUSTED: They Stole Millions In Gov’t B...   \n",
       "1  100percentfedup.com  Re: Why Did Attorney General Loretta Lynch Ple...   \n",
       "2  100percentfedup.com  BREAKING: Weiner Cooperating With FBI On Hilla...   \n",
       "\n",
       "                                                text             wing  \\\n",
       "0  Print They should pay all the back all the mon...  7-extreme right   \n",
       "1  Why Did Attorney General Loretta Lynch Plead T...  7-extreme right   \n",
       "2  Red State : \\nFox News Sunday reported this mo...  7-extreme right   \n",
       "\n",
       "   conspiracy label                                             tokens  pred  \n",
       "0           0  FAKE  print pay back money plu interest entir famili...  FAKE  \n",
       "1           0  FAKE  attorney gener loretta lynch plead fifth barra...  REAL  \n",
       "2           0  FAKE  red state fox news sunday report morn anthoni ...  FAKE  "
      ]
     },
     "execution_count": 588,
     "metadata": {},
     "output_type": "execute_result"
    }
   ],
   "source": [
    "print data_f.shape\n",
    "data_f.head(3)"
   ]
  },
  {
   "cell_type": "code",
   "execution_count": 589,
   "metadata": {},
   "outputs": [
    {
     "name": "stdout",
     "output_type": "stream",
     "text": [
      "(5505, 8)\n"
     ]
    },
    {
     "data": {
      "text/html": [
       "<div>\n",
       "<style>\n",
       "    .dataframe thead tr:only-child th {\n",
       "        text-align: right;\n",
       "    }\n",
       "\n",
       "    .dataframe thead th {\n",
       "        text-align: left;\n",
       "    }\n",
       "\n",
       "    .dataframe tbody tr th {\n",
       "        vertical-align: top;\n",
       "    }\n",
       "</style>\n",
       "<table border=\"1\" class=\"dataframe\">\n",
       "  <thead>\n",
       "    <tr style=\"text-align: right;\">\n",
       "      <th></th>\n",
       "      <th>url</th>\n",
       "      <th>title</th>\n",
       "      <th>text</th>\n",
       "      <th>wing</th>\n",
       "      <th>conspiracy</th>\n",
       "      <th>label</th>\n",
       "      <th>tokens</th>\n",
       "      <th>pred</th>\n",
       "    </tr>\n",
       "  </thead>\n",
       "  <tbody>\n",
       "    <tr>\n",
       "      <th>0</th>\n",
       "      <td>cnn.com</td>\n",
       "      <td>A Catholic reads the Bible, week 43</td>\n",
       "      <td>(CNN) My father was known for his dry sense of...</td>\n",
       "      <td>2-left</td>\n",
       "      <td>0</td>\n",
       "      <td>REAL</td>\n",
       "      <td>cnn father known dri sens humor one day cousin...</td>\n",
       "      <td>FAKE</td>\n",
       "    </tr>\n",
       "    <tr>\n",
       "      <th>1</th>\n",
       "      <td>cnn.com</td>\n",
       "      <td>It's not over: Veterans waiting months for app...</td>\n",
       "      <td>Los Angeles (CNN) Thousands of veterans who ar...</td>\n",
       "      <td>2-left</td>\n",
       "      <td>0</td>\n",
       "      <td>REAL</td>\n",
       "      <td>lo angel cnn thousand veteran patient greater ...</td>\n",
       "      <td>REAL</td>\n",
       "    </tr>\n",
       "    <tr>\n",
       "      <th>2</th>\n",
       "      <td>cnn.com</td>\n",
       "      <td>11 everyday items you should stop using now</td>\n",
       "      <td>Coffee pods deliver gourmet-quality coffee wit...</td>\n",
       "      <td>2-left</td>\n",
       "      <td>0</td>\n",
       "      <td>REAL</td>\n",
       "      <td>coffe pod deliv gourmetqu coffe advantag low c...</td>\n",
       "      <td>REAL</td>\n",
       "    </tr>\n",
       "  </tbody>\n",
       "</table>\n",
       "</div>"
      ],
      "text/plain": [
       "       url                                              title  \\\n",
       "0  cnn.com                A Catholic reads the Bible, week 43   \n",
       "1  cnn.com  It's not over: Veterans waiting months for app...   \n",
       "2  cnn.com        11 everyday items you should stop using now   \n",
       "\n",
       "                                                text    wing  conspiracy  \\\n",
       "0  (CNN) My father was known for his dry sense of...  2-left           0   \n",
       "1  Los Angeles (CNN) Thousands of veterans who ar...  2-left           0   \n",
       "2  Coffee pods deliver gourmet-quality coffee wit...  2-left           0   \n",
       "\n",
       "  label                                             tokens  pred  \n",
       "0  REAL  cnn father known dri sens humor one day cousin...  FAKE  \n",
       "1  REAL  lo angel cnn thousand veteran patient greater ...  REAL  \n",
       "2  REAL  coffe pod deliv gourmetqu coffe advantag low c...  REAL  "
      ]
     },
     "execution_count": 589,
     "metadata": {},
     "output_type": "execute_result"
    }
   ],
   "source": [
    "print data_w.shape\n",
    "data_w.head(3)"
   ]
  },
  {
   "cell_type": "code",
   "execution_count": 590,
   "metadata": {},
   "outputs": [
    {
     "name": "stdout",
     "output_type": "stream",
     "text": [
      "(15430, 7)\n"
     ]
    },
    {
     "data": {
      "text/html": [
       "<div>\n",
       "<style>\n",
       "    .dataframe thead tr:only-child th {\n",
       "        text-align: right;\n",
       "    }\n",
       "\n",
       "    .dataframe thead th {\n",
       "        text-align: left;\n",
       "    }\n",
       "\n",
       "    .dataframe tbody tr th {\n",
       "        vertical-align: top;\n",
       "    }\n",
       "</style>\n",
       "<table border=\"1\" class=\"dataframe\">\n",
       "  <thead>\n",
       "    <tr style=\"text-align: right;\">\n",
       "      <th></th>\n",
       "      <th>url</th>\n",
       "      <th>title</th>\n",
       "      <th>text</th>\n",
       "      <th>wing</th>\n",
       "      <th>conspiracy</th>\n",
       "      <th>label</th>\n",
       "      <th>tokens</th>\n",
       "    </tr>\n",
       "  </thead>\n",
       "  <tbody>\n",
       "    <tr>\n",
       "      <th>0</th>\n",
       "      <td>100percentfedup.com</td>\n",
       "      <td>Muslims BUSTED: They Stole Millions In Gov’t B...</td>\n",
       "      <td>Print They should pay all the back all the mon...</td>\n",
       "      <td>7-extreme right</td>\n",
       "      <td>0</td>\n",
       "      <td>FAKE</td>\n",
       "      <td>print pay back money plu interest entir famili...</td>\n",
       "    </tr>\n",
       "    <tr>\n",
       "      <th>1</th>\n",
       "      <td>100percentfedup.com</td>\n",
       "      <td>Re: Why Did Attorney General Loretta Lynch Ple...</td>\n",
       "      <td>Why Did Attorney General Loretta Lynch Plead T...</td>\n",
       "      <td>7-extreme right</td>\n",
       "      <td>0</td>\n",
       "      <td>FAKE</td>\n",
       "      <td>attorney gener loretta lynch plead fifth barra...</td>\n",
       "    </tr>\n",
       "    <tr>\n",
       "      <th>2</th>\n",
       "      <td>100percentfedup.com</td>\n",
       "      <td>BREAKING: Weiner Cooperating With FBI On Hilla...</td>\n",
       "      <td>Red State : \\nFox News Sunday reported this mo...</td>\n",
       "      <td>7-extreme right</td>\n",
       "      <td>0</td>\n",
       "      <td>FAKE</td>\n",
       "      <td>red state fox news sunday report morn anthoni ...</td>\n",
       "    </tr>\n",
       "  </tbody>\n",
       "</table>\n",
       "</div>"
      ],
      "text/plain": [
       "                   url                                              title  \\\n",
       "0  100percentfedup.com  Muslims BUSTED: They Stole Millions In Gov’t B...   \n",
       "1  100percentfedup.com  Re: Why Did Attorney General Loretta Lynch Ple...   \n",
       "2  100percentfedup.com  BREAKING: Weiner Cooperating With FBI On Hilla...   \n",
       "\n",
       "                                                text             wing  \\\n",
       "0  Print They should pay all the back all the mon...  7-extreme right   \n",
       "1  Why Did Attorney General Loretta Lynch Plead T...  7-extreme right   \n",
       "2  Red State : \\nFox News Sunday reported this mo...  7-extreme right   \n",
       "\n",
       "   conspiracy label                                             tokens  \n",
       "0           0  FAKE  print pay back money plu interest entir famili...  \n",
       "1           0  FAKE  attorney gener loretta lynch plead fifth barra...  \n",
       "2           0  FAKE  red state fox news sunday report morn anthoni ...  "
      ]
     },
     "execution_count": 590,
     "metadata": {},
     "output_type": "execute_result"
    }
   ],
   "source": [
    "data_fw = pd.concat([data_f, data_w], axis=0, ignore_index=True)\n",
    "data_fw.drop('pred', axis = 1, inplace = True)\n",
    "print data_fw.shape\n",
    "data_fw.head(3)"
   ]
  },
  {
   "cell_type": "markdown",
   "metadata": {},
   "source": [
    "<h2><font color = \"green\">Train/test split. Fitting the model and getting results</font></h2>"
   ]
  },
  {
   "cell_type": "code",
   "execution_count": 591,
   "metadata": {},
   "outputs": [
    {
     "data": {
      "text/plain": [
       "FAKE    9925\n",
       "REAL    5505\n",
       "Name: label, dtype: int64"
      ]
     },
     "execution_count": 591,
     "metadata": {},
     "output_type": "execute_result"
    }
   ],
   "source": [
    "# Checking how balanced the observation groups are.\n",
    "data_fw.label.value_counts()"
   ]
  },
  {
   "cell_type": "code",
   "execution_count": 592,
   "metadata": {},
   "outputs": [
    {
     "name": "stdout",
     "output_type": "stream",
     "text": [
      "X_train -  (10338,) y_train -  (10338,)\n",
      "X_test -  (5092,) y_test -  (5092,)\n"
     ]
    }
   ],
   "source": [
    "\n",
    "#Set `y` \n",
    "y = data_fw.label \n",
    "\n",
    "# Make training and test sets \n",
    "X_train, X_test, y_train, y_test = train_test_split(data_fw['text'], y, test_size=0.33, random_state=53)\n",
    "print 'X_train - ', X_train.shape, 'y_train - ', y_train.shape\n",
    "print 'X_test - ', X_test.shape, 'y_test - ', y_test.shape\n"
   ]
  },
  {
   "cell_type": "code",
   "execution_count": 593,
   "metadata": {
    "collapsed": true
   },
   "outputs": [],
   "source": [
    "# Initialize the `tfidf_vectorizer`\n",
    "tfidf_vectorizer = TfidfVectorizer(stop_words=['english','indian','chinese','korean'], max_df=0.8) \n",
    "\n",
    "# Fit and transform the training data \n",
    "tfidf_train = tfidf_vectorizer.fit_transform(X_train) \n",
    "\n",
    "# Transform the test set \n",
    "tfidf_test = tfidf_vectorizer.transform(X_test)"
   ]
  },
  {
   "cell_type": "code",
   "execution_count": 594,
   "metadata": {},
   "outputs": [
    {
     "name": "stdout",
     "output_type": "stream",
     "text": [
      "[u'\\ud798\\ub4e4\\uc5b4\\ud558\\uace0', u'\\ud798\\ub4e4\\uc5c8\\ub2e4', u'\\ud798\\ub4e4\\uc5c8\\ub2e4\\ub294', u'\\ud798\\uc5d0', u'\\ud798\\uc740', u'\\ud798\\uc744', u'\\ud798\\uc774', u'\\ud798\\uc785\\uc5b4', u'\\ud799\\ud569\\ud074\\ub7fd\\uc5d0\\uc11c', u'\\ufb01rearms']\n"
     ]
    }
   ],
   "source": [
    "# Get the feature names of `tfidf_vectorizer` \n",
    "print(tfidf_vectorizer.get_feature_names()[-10:])"
   ]
  },
  {
   "cell_type": "code",
   "execution_count": 595,
   "metadata": {},
   "outputs": [
    {
     "name": "stdout",
     "output_type": "stream",
     "text": [
      "(10338, 100937)\n"
     ]
    },
    {
     "data": {
      "text/html": [
       "<div>\n",
       "<style>\n",
       "    .dataframe thead tr:only-child th {\n",
       "        text-align: right;\n",
       "    }\n",
       "\n",
       "    .dataframe thead th {\n",
       "        text-align: left;\n",
       "    }\n",
       "\n",
       "    .dataframe tbody tr th {\n",
       "        vertical-align: top;\n",
       "    }\n",
       "</style>\n",
       "<table border=\"1\" class=\"dataframe\">\n",
       "  <thead>\n",
       "    <tr style=\"text-align: right;\">\n",
       "      <th></th>\n",
       "      <th>00</th>\n",
       "      <th>000</th>\n",
       "      <th>0000</th>\n",
       "      <th>0001</th>\n",
       "      <th>00012</th>\n",
       "      <th>000202</th>\n",
       "      <th>000205</th>\n",
       "      <th>0009</th>\n",
       "      <th>000ft</th>\n",
       "      <th>000km</th>\n",
       "      <th>...</th>\n",
       "      <th>힘들어하고</th>\n",
       "      <th>힘들었다</th>\n",
       "      <th>힘들었다는</th>\n",
       "      <th>힘에</th>\n",
       "      <th>힘은</th>\n",
       "      <th>힘을</th>\n",
       "      <th>힘이</th>\n",
       "      <th>힘입어</th>\n",
       "      <th>힙합클럽에서</th>\n",
       "      <th>ﬁrearms</th>\n",
       "    </tr>\n",
       "  </thead>\n",
       "  <tbody>\n",
       "    <tr>\n",
       "      <th>0</th>\n",
       "      <td>0.0</td>\n",
       "      <td>0.000000</td>\n",
       "      <td>0.0</td>\n",
       "      <td>0.0</td>\n",
       "      <td>0.0</td>\n",
       "      <td>0.0</td>\n",
       "      <td>0.0</td>\n",
       "      <td>0.0</td>\n",
       "      <td>0.0</td>\n",
       "      <td>0.0</td>\n",
       "      <td>...</td>\n",
       "      <td>0.0</td>\n",
       "      <td>0.0</td>\n",
       "      <td>0.0</td>\n",
       "      <td>0.0</td>\n",
       "      <td>0.0</td>\n",
       "      <td>0.0</td>\n",
       "      <td>0.0</td>\n",
       "      <td>0.0</td>\n",
       "      <td>0.0</td>\n",
       "      <td>0.0</td>\n",
       "    </tr>\n",
       "    <tr>\n",
       "      <th>1</th>\n",
       "      <td>0.0</td>\n",
       "      <td>0.000000</td>\n",
       "      <td>0.0</td>\n",
       "      <td>0.0</td>\n",
       "      <td>0.0</td>\n",
       "      <td>0.0</td>\n",
       "      <td>0.0</td>\n",
       "      <td>0.0</td>\n",
       "      <td>0.0</td>\n",
       "      <td>0.0</td>\n",
       "      <td>...</td>\n",
       "      <td>0.0</td>\n",
       "      <td>0.0</td>\n",
       "      <td>0.0</td>\n",
       "      <td>0.0</td>\n",
       "      <td>0.0</td>\n",
       "      <td>0.0</td>\n",
       "      <td>0.0</td>\n",
       "      <td>0.0</td>\n",
       "      <td>0.0</td>\n",
       "      <td>0.0</td>\n",
       "    </tr>\n",
       "    <tr>\n",
       "      <th>2</th>\n",
       "      <td>0.0</td>\n",
       "      <td>0.000000</td>\n",
       "      <td>0.0</td>\n",
       "      <td>0.0</td>\n",
       "      <td>0.0</td>\n",
       "      <td>0.0</td>\n",
       "      <td>0.0</td>\n",
       "      <td>0.0</td>\n",
       "      <td>0.0</td>\n",
       "      <td>0.0</td>\n",
       "      <td>...</td>\n",
       "      <td>0.0</td>\n",
       "      <td>0.0</td>\n",
       "      <td>0.0</td>\n",
       "      <td>0.0</td>\n",
       "      <td>0.0</td>\n",
       "      <td>0.0</td>\n",
       "      <td>0.0</td>\n",
       "      <td>0.0</td>\n",
       "      <td>0.0</td>\n",
       "      <td>0.0</td>\n",
       "    </tr>\n",
       "    <tr>\n",
       "      <th>3</th>\n",
       "      <td>0.0</td>\n",
       "      <td>0.158593</td>\n",
       "      <td>0.0</td>\n",
       "      <td>0.0</td>\n",
       "      <td>0.0</td>\n",
       "      <td>0.0</td>\n",
       "      <td>0.0</td>\n",
       "      <td>0.0</td>\n",
       "      <td>0.0</td>\n",
       "      <td>0.0</td>\n",
       "      <td>...</td>\n",
       "      <td>0.0</td>\n",
       "      <td>0.0</td>\n",
       "      <td>0.0</td>\n",
       "      <td>0.0</td>\n",
       "      <td>0.0</td>\n",
       "      <td>0.0</td>\n",
       "      <td>0.0</td>\n",
       "      <td>0.0</td>\n",
       "      <td>0.0</td>\n",
       "      <td>0.0</td>\n",
       "    </tr>\n",
       "    <tr>\n",
       "      <th>4</th>\n",
       "      <td>0.0</td>\n",
       "      <td>0.000000</td>\n",
       "      <td>0.0</td>\n",
       "      <td>0.0</td>\n",
       "      <td>0.0</td>\n",
       "      <td>0.0</td>\n",
       "      <td>0.0</td>\n",
       "      <td>0.0</td>\n",
       "      <td>0.0</td>\n",
       "      <td>0.0</td>\n",
       "      <td>...</td>\n",
       "      <td>0.0</td>\n",
       "      <td>0.0</td>\n",
       "      <td>0.0</td>\n",
       "      <td>0.0</td>\n",
       "      <td>0.0</td>\n",
       "      <td>0.0</td>\n",
       "      <td>0.0</td>\n",
       "      <td>0.0</td>\n",
       "      <td>0.0</td>\n",
       "      <td>0.0</td>\n",
       "    </tr>\n",
       "  </tbody>\n",
       "</table>\n",
       "<p>5 rows × 100937 columns</p>\n",
       "</div>"
      ],
      "text/plain": [
       "    00       000  0000  0001  00012  000202  000205  0009  000ft  000km  \\\n",
       "0  0.0  0.000000   0.0   0.0    0.0     0.0     0.0   0.0    0.0    0.0   \n",
       "1  0.0  0.000000   0.0   0.0    0.0     0.0     0.0   0.0    0.0    0.0   \n",
       "2  0.0  0.000000   0.0   0.0    0.0     0.0     0.0   0.0    0.0    0.0   \n",
       "3  0.0  0.158593   0.0   0.0    0.0     0.0     0.0   0.0    0.0    0.0   \n",
       "4  0.0  0.000000   0.0   0.0    0.0     0.0     0.0   0.0    0.0    0.0   \n",
       "\n",
       "    ...     힘들어하고  힘들었다  힘들었다는   힘에   힘은   힘을   힘이  힘입어  힙합클럽에서  ﬁrearms  \n",
       "0   ...       0.0   0.0    0.0  0.0  0.0  0.0  0.0  0.0     0.0      0.0  \n",
       "1   ...       0.0   0.0    0.0  0.0  0.0  0.0  0.0  0.0     0.0      0.0  \n",
       "2   ...       0.0   0.0    0.0  0.0  0.0  0.0  0.0  0.0     0.0      0.0  \n",
       "3   ...       0.0   0.0    0.0  0.0  0.0  0.0  0.0  0.0     0.0      0.0  \n",
       "4   ...       0.0   0.0    0.0  0.0  0.0  0.0  0.0  0.0     0.0      0.0  \n",
       "\n",
       "[5 rows x 100937 columns]"
      ]
     },
     "execution_count": 595,
     "metadata": {},
     "output_type": "execute_result"
    }
   ],
   "source": [
    "tfidf_df = pd.DataFrame(tfidf_train.A, columns=tfidf_vectorizer.get_feature_names())\n",
    "print tfidf_df.shape\n",
    "tfidf_df.head()"
   ]
  },
  {
   "cell_type": "code",
   "execution_count": 596,
   "metadata": {
    "collapsed": true
   },
   "outputs": [],
   "source": [
    "clf = MultinomialNB() "
   ]
  },
  {
   "cell_type": "code",
   "execution_count": 597,
   "metadata": {},
   "outputs": [
    {
     "name": "stdout",
     "output_type": "stream",
     "text": [
      "[ 0.71014493  0.73017408  0.73017408  0.73597679  0.71083172  0.72147002\n",
      "  0.72630561  0.73281704  0.72604066  0.7357212 ]\n",
      "Accuracy = 0.72596561257\n"
     ]
    }
   ],
   "source": [
    "# Decided to run cross-validation to mixup a little bit the data\n",
    "from sklearn.model_selection import cross_val_score\n",
    "\n",
    "clf_score = cross_val_score(clf, tfidf_train, y_train, cv=10)\n",
    "\n",
    "print clf_score\n",
    "print \"Accuracy =\", clf_score.mean()"
   ]
  },
  {
   "cell_type": "code",
   "execution_count": 598,
   "metadata": {},
   "outputs": [
    {
     "name": "stdout",
     "output_type": "stream",
     "text": [
      "accuracy:   0.735\n",
      "Confusion matrix, without normalization\n"
     ]
    },
    {
     "data": {
      "image/png": "[encoded data removed]",
      "text/plain": [
       "<matplotlib.figure.Figure at 0x18c5ba5d0>"
      ]
     },
     "metadata": {},
     "output_type": "display_data"
    }
   ],
   "source": [
    "clf.fit(tfidf_train, y_train)\n",
    "pred = clf.predict(tfidf_test)\n",
    "score = metrics.accuracy_score(y_test, pred)\n",
    "print(\"accuracy:   %0.3f\" % score)\n",
    "cm = metrics.confusion_matrix(y_test, pred, labels=['FAKE', 'REAL'])\n",
    "plot_confusion_matrix(cm, classes=['FAKE', 'REAL'])"
   ]
  },
  {
   "cell_type": "code",
   "execution_count": 599,
   "metadata": {
    "collapsed": true
   },
   "outputs": [],
   "source": [
    "# Transform the whole set \n",
    "tfidf_fw = tfidf_vectorizer.transform(data_fw.text)\n",
    "pred_fw = clf.predict(tfidf_fw)"
   ]
  },
  {
   "cell_type": "code",
   "execution_count": 600,
   "metadata": {},
   "outputs": [
    {
     "data": {
      "text/plain": [
       "(15430,)"
      ]
     },
     "execution_count": 600,
     "metadata": {},
     "output_type": "execute_result"
    }
   ],
   "source": [
    "pred_fw.shape"
   ]
  },
  {
   "cell_type": "code",
   "execution_count": 601,
   "metadata": {},
   "outputs": [
    {
     "data": {
      "text/html": [
       "<div>\n",
       "<style>\n",
       "    .dataframe thead tr:only-child th {\n",
       "        text-align: right;\n",
       "    }\n",
       "\n",
       "    .dataframe thead th {\n",
       "        text-align: left;\n",
       "    }\n",
       "\n",
       "    .dataframe tbody tr th {\n",
       "        vertical-align: top;\n",
       "    }\n",
       "</style>\n",
       "<table border=\"1\" class=\"dataframe\">\n",
       "  <thead>\n",
       "    <tr style=\"text-align: right;\">\n",
       "      <th></th>\n",
       "      <th>url</th>\n",
       "      <th>title</th>\n",
       "      <th>text</th>\n",
       "      <th>wing</th>\n",
       "      <th>conspiracy</th>\n",
       "      <th>label</th>\n",
       "      <th>tokens</th>\n",
       "      <th>pred</th>\n",
       "    </tr>\n",
       "  </thead>\n",
       "  <tbody>\n",
       "    <tr>\n",
       "      <th>0</th>\n",
       "      <td>100percentfedup.com</td>\n",
       "      <td>Muslims BUSTED: They Stole Millions In Gov’t B...</td>\n",
       "      <td>Print They should pay all the back all the mon...</td>\n",
       "      <td>7-extreme right</td>\n",
       "      <td>0</td>\n",
       "      <td>FAKE</td>\n",
       "      <td>print pay back money plu interest entir famili...</td>\n",
       "      <td>FAKE</td>\n",
       "    </tr>\n",
       "    <tr>\n",
       "      <th>1</th>\n",
       "      <td>100percentfedup.com</td>\n",
       "      <td>Re: Why Did Attorney General Loretta Lynch Ple...</td>\n",
       "      <td>Why Did Attorney General Loretta Lynch Plead T...</td>\n",
       "      <td>7-extreme right</td>\n",
       "      <td>0</td>\n",
       "      <td>FAKE</td>\n",
       "      <td>attorney gener loretta lynch plead fifth barra...</td>\n",
       "      <td>FAKE</td>\n",
       "    </tr>\n",
       "    <tr>\n",
       "      <th>2</th>\n",
       "      <td>100percentfedup.com</td>\n",
       "      <td>BREAKING: Weiner Cooperating With FBI On Hilla...</td>\n",
       "      <td>Red State : \\nFox News Sunday reported this mo...</td>\n",
       "      <td>7-extreme right</td>\n",
       "      <td>0</td>\n",
       "      <td>FAKE</td>\n",
       "      <td>red state fox news sunday report morn anthoni ...</td>\n",
       "      <td>FAKE</td>\n",
       "    </tr>\n",
       "    <tr>\n",
       "      <th>3</th>\n",
       "      <td>100percentfedup.com</td>\n",
       "      <td>FANTASTIC! TRUMP'S 7 POINT PLAN To Reform Heal...</td>\n",
       "      <td>Email HEALTHCARE REFORM TO MAKE AMERICA GREAT ...</td>\n",
       "      <td>7-extreme right</td>\n",
       "      <td>0</td>\n",
       "      <td>FAKE</td>\n",
       "      <td>email healthcar reform make america great sinc...</td>\n",
       "      <td>FAKE</td>\n",
       "    </tr>\n",
       "    <tr>\n",
       "      <th>4</th>\n",
       "      <td>100percentfedup.com</td>\n",
       "      <td>Hillary Goes Absolutely Berserk On Protester A...</td>\n",
       "      <td>Print Hillary goes absolutely berserk! She exp...</td>\n",
       "      <td>7-extreme right</td>\n",
       "      <td>0</td>\n",
       "      <td>FAKE</td>\n",
       "      <td>print hillari goe absolut berserk explod bill ...</td>\n",
       "      <td>FAKE</td>\n",
       "    </tr>\n",
       "  </tbody>\n",
       "</table>\n",
       "</div>"
      ],
      "text/plain": [
       "                   url                                              title  \\\n",
       "0  100percentfedup.com  Muslims BUSTED: They Stole Millions In Gov’t B...   \n",
       "1  100percentfedup.com  Re: Why Did Attorney General Loretta Lynch Ple...   \n",
       "2  100percentfedup.com  BREAKING: Weiner Cooperating With FBI On Hilla...   \n",
       "3  100percentfedup.com  FANTASTIC! TRUMP'S 7 POINT PLAN To Reform Heal...   \n",
       "4  100percentfedup.com  Hillary Goes Absolutely Berserk On Protester A...   \n",
       "\n",
       "                                                text             wing  \\\n",
       "0  Print They should pay all the back all the mon...  7-extreme right   \n",
       "1  Why Did Attorney General Loretta Lynch Plead T...  7-extreme right   \n",
       "2  Red State : \\nFox News Sunday reported this mo...  7-extreme right   \n",
       "3  Email HEALTHCARE REFORM TO MAKE AMERICA GREAT ...  7-extreme right   \n",
       "4  Print Hillary goes absolutely berserk! She exp...  7-extreme right   \n",
       "\n",
       "   conspiracy label                                             tokens  pred  \n",
       "0           0  FAKE  print pay back money plu interest entir famili...  FAKE  \n",
       "1           0  FAKE  attorney gener loretta lynch plead fifth barra...  FAKE  \n",
       "2           0  FAKE  red state fox news sunday report morn anthoni ...  FAKE  \n",
       "3           0  FAKE  email healthcar reform make america great sinc...  FAKE  \n",
       "4           0  FAKE  print hillari goe absolut berserk explod bill ...  FAKE  "
      ]
     },
     "execution_count": 601,
     "metadata": {},
     "output_type": "execute_result"
    }
   ],
   "source": [
    "data_fw['pred'] = pred_fw\n",
    "data_fw.head()"
   ]
  },
  {
   "cell_type": "code",
   "execution_count": 602,
   "metadata": {},
   "outputs": [
    {
     "name": "stdout",
     "output_type": "stream",
     "text": [
      "Fake news correctly predicted -  0.999496221662\n",
      "Real news correctly predicted -  0.276112624886\n"
     ]
    }
   ],
   "source": [
    "print 'Fake news correctly predicted - ',data_fw['url'][(data_fw.label == \"FAKE\")&(data_fw.pred == \"FAKE\")].count()/float(data_fw['url'][(data_fw.label == \"FAKE\")].count())\n",
    "print 'Real news correctly predicted - ',data_fw['url'][(data_fw.label == \"REAL\")&(data_fw.pred == \"REAL\")].count()/float(data_fw['url'][(data_fw.label == \"REAL\")].count())"
   ]
  },
  {
   "cell_type": "code",
   "execution_count": 603,
   "metadata": {
    "collapsed": true
   },
   "outputs": [],
   "source": [
    "z_real = data_fw[data_fw.label == 'REAL']"
   ]
  },
  {
   "cell_type": "code",
   "execution_count": 604,
   "metadata": {
    "collapsed": true
   },
   "outputs": [],
   "source": [
    "# Now let's see how it looks in terms of politial affiliations\n",
    "\n",
    "z_fw = pd.concat([z_real[z_real.pred == \"FAKE\"].wing.value_counts(),z_real[z_real.pred == \"REAL\"].wing.value_counts()], join='inner', axis = 1)"
   ]
  },
  {
   "cell_type": "code",
   "execution_count": 605,
   "metadata": {
    "collapsed": true
   },
   "outputs": [],
   "source": [
    "z_fw.columns = ['FAKE', 'REAL']\n",
    "z_fw['TOTAL'] = z_fw.REAL + z_fw.FAKE\n",
    "z_fw['CREDIBILITY'] = z_fw.REAL/(z_fw.FAKE +z_fw.REAL)\n",
    "z_fw.to_csv('data/z_fw_pred.csv')\n",
    "z_fw.sort_index(ascending=True,inplace=True)"
   ]
  },
  {
   "cell_type": "markdown",
   "metadata": {},
   "source": [
    "<font color = \"red\"> It is strange and I am very curious why the scraped news produce such a strange result for the left and extreme right wings. </font>"
   ]
  },
  {
   "cell_type": "code",
   "execution_count": 608,
   "metadata": {
    "scrolled": true
   },
   "outputs": [
    {
     "data": {
      "text/plain": [
       "<matplotlib.axes._subplots.AxesSubplot at 0x19ce81c50>"
      ]
     },
     "execution_count": 608,
     "metadata": {},
     "output_type": "execute_result"
    },
    {
     "data": {
      "image/png": "[encoded data removed]",
      "text/plain": [
       "<matplotlib.figure.Figure at 0x19ce81cd0>"
      ]
     },
     "metadata": {},
     "output_type": "display_data"
    }
   ],
   "source": [
    "plt.figure(figsize=(10,6))\n",
    "z_fw.CREDIBILITY.plot()"
   ]
  },
  {
   "cell_type": "code",
   "execution_count": 609,
   "metadata": {
    "collapsed": true
   },
   "outputs": [],
   "source": [
    "z_fw_url = pd.concat([z_real[z_real.pred == \"FAKE\"].url.value_counts(),z_real[z_real.pred == \"REAL\"].url.value_counts()], join='inner', axis = 1)\n"
   ]
  },
  {
   "cell_type": "code",
   "execution_count": 610,
   "metadata": {},
   "outputs": [
    {
     "data": {
      "text/html": [
       "<div>\n",
       "<style>\n",
       "    .dataframe thead tr:only-child th {\n",
       "        text-align: right;\n",
       "    }\n",
       "\n",
       "    .dataframe thead th {\n",
       "        text-align: left;\n",
       "    }\n",
       "\n",
       "    .dataframe tbody tr th {\n",
       "        vertical-align: top;\n",
       "    }\n",
       "</style>\n",
       "<table border=\"1\" class=\"dataframe\">\n",
       "  <thead>\n",
       "    <tr style=\"text-align: right;\">\n",
       "      <th></th>\n",
       "      <th>FAKE</th>\n",
       "      <th>REAL</th>\n",
       "      <th>TOTAL</th>\n",
       "      <th>CREDIBILITY</th>\n",
       "    </tr>\n",
       "  </thead>\n",
       "  <tbody>\n",
       "    <tr>\n",
       "      <th>huffingtonpost.fr</th>\n",
       "      <td>1</td>\n",
       "      <td>31</td>\n",
       "      <td>32</td>\n",
       "      <td>0.968750</td>\n",
       "    </tr>\n",
       "    <tr>\n",
       "      <th>huffingtonpost.kr</th>\n",
       "      <td>4</td>\n",
       "      <td>70</td>\n",
       "      <td>74</td>\n",
       "      <td>0.945946</td>\n",
       "    </tr>\n",
       "    <tr>\n",
       "      <th>hpenews.com</th>\n",
       "      <td>19</td>\n",
       "      <td>105</td>\n",
       "      <td>124</td>\n",
       "      <td>0.846774</td>\n",
       "    </tr>\n",
       "    <tr>\n",
       "      <th>postbulletin.com</th>\n",
       "      <td>58</td>\n",
       "      <td>293</td>\n",
       "      <td>351</td>\n",
       "      <td>0.834758</td>\n",
       "    </tr>\n",
       "    <tr>\n",
       "      <th>sctimes.com</th>\n",
       "      <td>209</td>\n",
       "      <td>420</td>\n",
       "      <td>629</td>\n",
       "      <td>0.667727</td>\n",
       "    </tr>\n",
       "    <tr>\n",
       "      <th>huffingtonpost.ca</th>\n",
       "      <td>13</td>\n",
       "      <td>16</td>\n",
       "      <td>29</td>\n",
       "      <td>0.551724</td>\n",
       "    </tr>\n",
       "    <tr>\n",
       "      <th>huffingtonpost.com</th>\n",
       "      <td>85</td>\n",
       "      <td>91</td>\n",
       "      <td>176</td>\n",
       "      <td>0.517045</td>\n",
       "    </tr>\n",
       "    <tr>\n",
       "      <th>usatoday.com</th>\n",
       "      <td>140</td>\n",
       "      <td>56</td>\n",
       "      <td>196</td>\n",
       "      <td>0.285714</td>\n",
       "    </tr>\n",
       "    <tr>\n",
       "      <th>bustle.com</th>\n",
       "      <td>409</td>\n",
       "      <td>100</td>\n",
       "      <td>509</td>\n",
       "      <td>0.196464</td>\n",
       "    </tr>\n",
       "    <tr>\n",
       "      <th>chicagotribune.com</th>\n",
       "      <td>294</td>\n",
       "      <td>69</td>\n",
       "      <td>363</td>\n",
       "      <td>0.190083</td>\n",
       "    </tr>\n",
       "    <tr>\n",
       "      <th>cnn.com</th>\n",
       "      <td>647</td>\n",
       "      <td>69</td>\n",
       "      <td>716</td>\n",
       "      <td>0.096369</td>\n",
       "    </tr>\n",
       "    <tr>\n",
       "      <th>latimes.com</th>\n",
       "      <td>60</td>\n",
       "      <td>6</td>\n",
       "      <td>66</td>\n",
       "      <td>0.090909</td>\n",
       "    </tr>\n",
       "    <tr>\n",
       "      <th>timesofsandiego.com</th>\n",
       "      <td>32</td>\n",
       "      <td>3</td>\n",
       "      <td>35</td>\n",
       "      <td>0.085714</td>\n",
       "    </tr>\n",
       "    <tr>\n",
       "      <th>politico.eu</th>\n",
       "      <td>77</td>\n",
       "      <td>7</td>\n",
       "      <td>84</td>\n",
       "      <td>0.083333</td>\n",
       "    </tr>\n",
       "    <tr>\n",
       "      <th>westernjournalism.com</th>\n",
       "      <td>64</td>\n",
       "      <td>5</td>\n",
       "      <td>69</td>\n",
       "      <td>0.072464</td>\n",
       "    </tr>\n",
       "  </tbody>\n",
       "</table>\n",
       "</div>"
      ],
      "text/plain": [
       "                       FAKE  REAL  TOTAL  CREDIBILITY\n",
       "huffingtonpost.fr         1    31     32     0.968750\n",
       "huffingtonpost.kr         4    70     74     0.945946\n",
       "hpenews.com              19   105    124     0.846774\n",
       "postbulletin.com         58   293    351     0.834758\n",
       "sctimes.com             209   420    629     0.667727\n",
       "huffingtonpost.ca        13    16     29     0.551724\n",
       "huffingtonpost.com       85    91    176     0.517045\n",
       "usatoday.com            140    56    196     0.285714\n",
       "bustle.com              409   100    509     0.196464\n",
       "chicagotribune.com      294    69    363     0.190083\n",
       "cnn.com                 647    69    716     0.096369\n",
       "latimes.com              60     6     66     0.090909\n",
       "timesofsandiego.com      32     3     35     0.085714\n",
       "politico.eu              77     7     84     0.083333\n",
       "westernjournalism.com    64     5     69     0.072464"
      ]
     },
     "execution_count": 610,
     "metadata": {},
     "output_type": "execute_result"
    }
   ],
   "source": [
    "z_fw_url.columns = ['FAKE', 'REAL']\n",
    "z_fw_url['TOTAL'] = z_fw_url.REAL + z_fw_url.FAKE\n",
    "z_fw_url['CREDIBILITY'] = z_fw_url.REAL/(z_fw_url.FAKE +z_fw_url.REAL)\n",
    "\n",
    "z_fw_url[z_fw_url.TOTAL>20].sort_values(by = 'CREDIBILITY', na_position='last', ascending=0).head(15)"
   ]
  },
  {
   "cell_type": "markdown",
   "metadata": {},
   "source": [
    "<h2><font color = \"green\"> Preliminary Conclusion </font></h2>\n",
    "\n",
    "The initial idea - to use Naive Bayes, the way it is used to identify spam emails helped to confirm the initial fake set but proved barely reliable in estimating the reliability of the news through web-scraping. Identification of fake news shall be approached from the point of view of fact checking. In other words it is important to separate opinions from facts and as opinions may vary from extreme left to extreme right, even staying neutral in opinions remains in the realm of opinions and can't be fact checked. \n",
    "\n",
    "Fact checking, unlike opinions, must be based on a different approach. It will require more advanced machine learning, topic identification and fact comparison. "
   ]
  },
  {
   "cell_type": "markdown",
   "metadata": {},
   "source": [
    "<h2><font color = green> Other machine learning methods </font></h2>\n",
    "I wanted to see how other methods perform on the same dataset and what results they produce for the scraped news."
   ]
  },
  {
   "cell_type": "code",
   "execution_count": 611,
   "metadata": {
    "collapsed": true
   },
   "outputs": [],
   "source": [
    "#Here I will try to run SVM to better understand how to read my findings\n",
    "\n",
    "texts = data_fw.tokens.tolist()\n",
    "y = data_fw.label.tolist()\n",
    "vectorizer = TfidfVectorizer(min_df=5, max_df=0.8)\n",
    "X = vectorizer.fit_transform(texts)"
   ]
  },
  {
   "cell_type": "code",
   "execution_count": 612,
   "metadata": {
    "collapsed": true
   },
   "outputs": [],
   "source": [
    "# Train test split\n",
    "\n",
    "X_train, X_test, y_train, y_test = train_test_split(X, y, test_size=0.3, random_state=123)"
   ]
  },
  {
   "cell_type": "markdown",
   "metadata": {},
   "source": [
    "Feature Selection\n",
    "- With text data, the number of features (words) is almost always much larger than the number of samples (documents).\n",
    "- We want to select the most discriminant features for classification.\n",
    "- We use Chi2, which calculates the Chi square statistic for each word, relative to class. Chi2 measures the dependence between stochastic variables, so words with a low Chi2 are likely to be independent of class and thus not useful for classifcation. We want to keep the words with the highest Chi2 value."
   ]
  },
  {
   "cell_type": "code",
   "execution_count": 613,
   "metadata": {
    "collapsed": true
   },
   "outputs": [],
   "source": [
    "from sklearn.feature_selection import SelectKBest, chi2\n",
    "from sklearn.svm import LinearSVC\n",
    "from sklearn.ensemble import RandomForestClassifier, GradientBoostingClassifier\n",
    "from sklearn.naive_bayes import GaussianNB"
   ]
  },
  {
   "cell_type": "code",
   "execution_count": 614,
   "metadata": {},
   "outputs": [
    {
     "name": "stdout",
     "output_type": "stream",
     "text": [
      "26701 total features prior to selection\n"
     ]
    }
   ],
   "source": [
    "total_features = len(vectorizer.get_feature_names())\n",
    "print('{} total features prior to selection'.format(total_features))\n",
    "ch2 = SelectKBest(chi2, k=500)\n",
    "X_train = ch2.fit_transform(X_train, y_train)\n",
    "X_test = ch2.transform(X_test)\n",
    "X = ch2.transform(X)"
   ]
  },
  {
   "cell_type": "code",
   "execution_count": 615,
   "metadata": {},
   "outputs": [
    {
     "data": {
      "text/plain": [
       "(15430, 500)"
      ]
     },
     "execution_count": 615,
     "metadata": {},
     "output_type": "execute_result"
    }
   ],
   "source": [
    "X.shape"
   ]
  },
  {
   "cell_type": "code",
   "execution_count": 616,
   "metadata": {
    "collapsed": true
   },
   "outputs": [],
   "source": [
    "feature_names = list(vectorizer.get_feature_names())\n",
    "mask = ch2.get_support() #list of booleans\n",
    "new_features = [] # The list of your K best features\n",
    "\n",
    "for bool, feature in zip(mask, feature_names):\n",
    "    if bool:\n",
    "        new_features.append(feature)\n",
    "        "
   ]
  },
  {
   "cell_type": "code",
   "execution_count": 617,
   "metadata": {},
   "outputs": [
    {
     "data": {
      "text/html": [
       "<div>\n",
       "<style>\n",
       "    .dataframe thead tr:only-child th {\n",
       "        text-align: right;\n",
       "    }\n",
       "\n",
       "    .dataframe thead th {\n",
       "        text-align: left;\n",
       "    }\n",
       "\n",
       "    .dataframe tbody tr th {\n",
       "        vertical-align: top;\n",
       "    }\n",
       "</style>\n",
       "<table border=\"1\" class=\"dataframe\">\n",
       "  <thead>\n",
       "    <tr style=\"text-align: right;\">\n",
       "      <th></th>\n",
       "      <th>08월</th>\n",
       "      <th>09월</th>\n",
       "      <th>2016</th>\n",
       "      <th>2017</th>\n",
       "      <th>2017년</th>\n",
       "      <th>31일</th>\n",
       "      <th>53f</th>\n",
       "      <th>55903</th>\n",
       "      <th>55f</th>\n",
       "      <th>71f</th>\n",
       "      <th>...</th>\n",
       "      <th>yard</th>\n",
       "      <th>yemen</th>\n",
       "      <th>yesterday</th>\n",
       "      <th>게시됨</th>\n",
       "      <th>따르면</th>\n",
       "      <th>라고</th>\n",
       "      <th>있는</th>\n",
       "      <th>있다</th>\n",
       "      <th>지난</th>\n",
       "      <th>한다</th>\n",
       "    </tr>\n",
       "  </thead>\n",
       "  <tbody>\n",
       "    <tr>\n",
       "      <th>count</th>\n",
       "      <td>15430.000000</td>\n",
       "      <td>15430.000000</td>\n",
       "      <td>15430.000000</td>\n",
       "      <td>15430.000000</td>\n",
       "      <td>15430.000000</td>\n",
       "      <td>15430.000000</td>\n",
       "      <td>15430.000000</td>\n",
       "      <td>15430.000000</td>\n",
       "      <td>15430.000000</td>\n",
       "      <td>15430.000000</td>\n",
       "      <td>...</td>\n",
       "      <td>15430.000000</td>\n",
       "      <td>15430.000000</td>\n",
       "      <td>15430.000000</td>\n",
       "      <td>15430.000000</td>\n",
       "      <td>15430.000000</td>\n",
       "      <td>15430.000000</td>\n",
       "      <td>15430.000000</td>\n",
       "      <td>15430.000000</td>\n",
       "      <td>15430.000000</td>\n",
       "      <td>15430.000000</td>\n",
       "    </tr>\n",
       "    <tr>\n",
       "      <th>mean</th>\n",
       "      <td>0.000330</td>\n",
       "      <td>0.000312</td>\n",
       "      <td>0.012270</td>\n",
       "      <td>0.005754</td>\n",
       "      <td>0.000622</td>\n",
       "      <td>0.000386</td>\n",
       "      <td>0.000484</td>\n",
       "      <td>0.002851</td>\n",
       "      <td>0.002456</td>\n",
       "      <td>0.000484</td>\n",
       "      <td>...</td>\n",
       "      <td>0.001029</td>\n",
       "      <td>0.001470</td>\n",
       "      <td>0.001554</td>\n",
       "      <td>0.000510</td>\n",
       "      <td>0.000253</td>\n",
       "      <td>0.000276</td>\n",
       "      <td>0.000305</td>\n",
       "      <td>0.000606</td>\n",
       "      <td>0.000307</td>\n",
       "      <td>0.000247</td>\n",
       "    </tr>\n",
       "    <tr>\n",
       "      <th>std</th>\n",
       "      <td>0.008669</td>\n",
       "      <td>0.008246</td>\n",
       "      <td>0.023699</td>\n",
       "      <td>0.023533</td>\n",
       "      <td>0.011257</td>\n",
       "      <td>0.009937</td>\n",
       "      <td>0.012027</td>\n",
       "      <td>0.024512</td>\n",
       "      <td>0.023130</td>\n",
       "      <td>0.012027</td>\n",
       "      <td>...</td>\n",
       "      <td>0.013320</td>\n",
       "      <td>0.017924</td>\n",
       "      <td>0.010174</td>\n",
       "      <td>0.009775</td>\n",
       "      <td>0.007566</td>\n",
       "      <td>0.007358</td>\n",
       "      <td>0.007645</td>\n",
       "      <td>0.012729</td>\n",
       "      <td>0.008382</td>\n",
       "      <td>0.006551</td>\n",
       "    </tr>\n",
       "    <tr>\n",
       "      <th>min</th>\n",
       "      <td>0.000000</td>\n",
       "      <td>0.000000</td>\n",
       "      <td>0.000000</td>\n",
       "      <td>0.000000</td>\n",
       "      <td>0.000000</td>\n",
       "      <td>0.000000</td>\n",
       "      <td>0.000000</td>\n",
       "      <td>0.000000</td>\n",
       "      <td>0.000000</td>\n",
       "      <td>0.000000</td>\n",
       "      <td>...</td>\n",
       "      <td>0.000000</td>\n",
       "      <td>0.000000</td>\n",
       "      <td>0.000000</td>\n",
       "      <td>0.000000</td>\n",
       "      <td>0.000000</td>\n",
       "      <td>0.000000</td>\n",
       "      <td>0.000000</td>\n",
       "      <td>0.000000</td>\n",
       "      <td>0.000000</td>\n",
       "      <td>0.000000</td>\n",
       "    </tr>\n",
       "    <tr>\n",
       "      <th>25%</th>\n",
       "      <td>0.000000</td>\n",
       "      <td>0.000000</td>\n",
       "      <td>0.000000</td>\n",
       "      <td>0.000000</td>\n",
       "      <td>0.000000</td>\n",
       "      <td>0.000000</td>\n",
       "      <td>0.000000</td>\n",
       "      <td>0.000000</td>\n",
       "      <td>0.000000</td>\n",
       "      <td>0.000000</td>\n",
       "      <td>...</td>\n",
       "      <td>0.000000</td>\n",
       "      <td>0.000000</td>\n",
       "      <td>0.000000</td>\n",
       "      <td>0.000000</td>\n",
       "      <td>0.000000</td>\n",
       "      <td>0.000000</td>\n",
       "      <td>0.000000</td>\n",
       "      <td>0.000000</td>\n",
       "      <td>0.000000</td>\n",
       "      <td>0.000000</td>\n",
       "    </tr>\n",
       "    <tr>\n",
       "      <th>50%</th>\n",
       "      <td>0.000000</td>\n",
       "      <td>0.000000</td>\n",
       "      <td>0.000000</td>\n",
       "      <td>0.000000</td>\n",
       "      <td>0.000000</td>\n",
       "      <td>0.000000</td>\n",
       "      <td>0.000000</td>\n",
       "      <td>0.000000</td>\n",
       "      <td>0.000000</td>\n",
       "      <td>0.000000</td>\n",
       "      <td>...</td>\n",
       "      <td>0.000000</td>\n",
       "      <td>0.000000</td>\n",
       "      <td>0.000000</td>\n",
       "      <td>0.000000</td>\n",
       "      <td>0.000000</td>\n",
       "      <td>0.000000</td>\n",
       "      <td>0.000000</td>\n",
       "      <td>0.000000</td>\n",
       "      <td>0.000000</td>\n",
       "      <td>0.000000</td>\n",
       "    </tr>\n",
       "    <tr>\n",
       "      <th>75%</th>\n",
       "      <td>0.000000</td>\n",
       "      <td>0.000000</td>\n",
       "      <td>0.017664</td>\n",
       "      <td>0.000000</td>\n",
       "      <td>0.000000</td>\n",
       "      <td>0.000000</td>\n",
       "      <td>0.000000</td>\n",
       "      <td>0.000000</td>\n",
       "      <td>0.000000</td>\n",
       "      <td>0.000000</td>\n",
       "      <td>...</td>\n",
       "      <td>0.000000</td>\n",
       "      <td>0.000000</td>\n",
       "      <td>0.000000</td>\n",
       "      <td>0.000000</td>\n",
       "      <td>0.000000</td>\n",
       "      <td>0.000000</td>\n",
       "      <td>0.000000</td>\n",
       "      <td>0.000000</td>\n",
       "      <td>0.000000</td>\n",
       "      <td>0.000000</td>\n",
       "    </tr>\n",
       "    <tr>\n",
       "      <th>max</th>\n",
       "      <td>0.355967</td>\n",
       "      <td>0.345951</td>\n",
       "      <td>0.292799</td>\n",
       "      <td>0.485850</td>\n",
       "      <td>0.321643</td>\n",
       "      <td>0.427560</td>\n",
       "      <td>0.299033</td>\n",
       "      <td>0.224577</td>\n",
       "      <td>0.221277</td>\n",
       "      <td>0.299033</td>\n",
       "      <td>...</td>\n",
       "      <td>0.489405</td>\n",
       "      <td>0.512093</td>\n",
       "      <td>0.188285</td>\n",
       "      <td>0.315513</td>\n",
       "      <td>0.471552</td>\n",
       "      <td>0.380691</td>\n",
       "      <td>0.335889</td>\n",
       "      <td>0.530170</td>\n",
       "      <td>0.444987</td>\n",
       "      <td>0.290129</td>\n",
       "    </tr>\n",
       "  </tbody>\n",
       "</table>\n",
       "<p>8 rows × 500 columns</p>\n",
       "</div>"
      ],
      "text/plain": [
       "                08월           09월          2016          2017         2017년  \\\n",
       "count  15430.000000  15430.000000  15430.000000  15430.000000  15430.000000   \n",
       "mean       0.000330      0.000312      0.012270      0.005754      0.000622   \n",
       "std        0.008669      0.008246      0.023699      0.023533      0.011257   \n",
       "min        0.000000      0.000000      0.000000      0.000000      0.000000   \n",
       "25%        0.000000      0.000000      0.000000      0.000000      0.000000   \n",
       "50%        0.000000      0.000000      0.000000      0.000000      0.000000   \n",
       "75%        0.000000      0.000000      0.017664      0.000000      0.000000   \n",
       "max        0.355967      0.345951      0.292799      0.485850      0.321643   \n",
       "\n",
       "                31일           53f         55903           55f           71f  \\\n",
       "count  15430.000000  15430.000000  15430.000000  15430.000000  15430.000000   \n",
       "mean       0.000386      0.000484      0.002851      0.002456      0.000484   \n",
       "std        0.009937      0.012027      0.024512      0.023130      0.012027   \n",
       "min        0.000000      0.000000      0.000000      0.000000      0.000000   \n",
       "25%        0.000000      0.000000      0.000000      0.000000      0.000000   \n",
       "50%        0.000000      0.000000      0.000000      0.000000      0.000000   \n",
       "75%        0.000000      0.000000      0.000000      0.000000      0.000000   \n",
       "max        0.427560      0.299033      0.224577      0.221277      0.299033   \n",
       "\n",
       "           ...               yard         yemen     yesterday           게시됨  \\\n",
       "count      ...       15430.000000  15430.000000  15430.000000  15430.000000   \n",
       "mean       ...           0.001029      0.001470      0.001554      0.000510   \n",
       "std        ...           0.013320      0.017924      0.010174      0.009775   \n",
       "min        ...           0.000000      0.000000      0.000000      0.000000   \n",
       "25%        ...           0.000000      0.000000      0.000000      0.000000   \n",
       "50%        ...           0.000000      0.000000      0.000000      0.000000   \n",
       "75%        ...           0.000000      0.000000      0.000000      0.000000   \n",
       "max        ...           0.489405      0.512093      0.188285      0.315513   \n",
       "\n",
       "                따르면            라고            있는            있다            지난  \\\n",
       "count  15430.000000  15430.000000  15430.000000  15430.000000  15430.000000   \n",
       "mean       0.000253      0.000276      0.000305      0.000606      0.000307   \n",
       "std        0.007566      0.007358      0.007645      0.012729      0.008382   \n",
       "min        0.000000      0.000000      0.000000      0.000000      0.000000   \n",
       "25%        0.000000      0.000000      0.000000      0.000000      0.000000   \n",
       "50%        0.000000      0.000000      0.000000      0.000000      0.000000   \n",
       "75%        0.000000      0.000000      0.000000      0.000000      0.000000   \n",
       "max        0.471552      0.380691      0.335889      0.530170      0.444987   \n",
       "\n",
       "                 한다  \n",
       "count  15430.000000  \n",
       "mean       0.000247  \n",
       "std        0.006551  \n",
       "min        0.000000  \n",
       "25%        0.000000  \n",
       "50%        0.000000  \n",
       "75%        0.000000  \n",
       "max        0.290129  \n",
       "\n",
       "[8 rows x 500 columns]"
      ]
     },
     "execution_count": 617,
     "metadata": {},
     "output_type": "execute_result"
    }
   ],
   "source": [
    "data_frame = pd.DataFrame(data=X.todense(), columns=new_features)\n",
    "data_frame.describe()"
   ]
  },
  {
   "cell_type": "code",
   "execution_count": 618,
   "metadata": {
    "collapsed": true
   },
   "outputs": [],
   "source": [
    "#Train and predict"
   ]
  },
  {
   "cell_type": "code",
   "execution_count": 619,
   "metadata": {},
   "outputs": [
    {
     "name": "stdout",
     "output_type": "stream",
     "text": [
      "CPU times: user 53.6 ms, sys: 3.51 ms, total: 57.1 ms\n",
      "Wall time: 54.9 ms\n",
      "Accuracy: 0.907\n"
     ]
    }
   ],
   "source": [
    "classifier_SV = LinearSVC()\n",
    "%time classifier_SV.fit(X_train, y_train)\n",
    "print('Accuracy: {}'.format(round(classifier_SV.score(X_test, y_test), 3)))"
   ]
  },
  {
   "cell_type": "code",
   "execution_count": 620,
   "metadata": {},
   "outputs": [
    {
     "name": "stdout",
     "output_type": "stream",
     "text": [
      "CPU times: user 700 ms, sys: 11.3 ms, total: 711 ms\n",
      "Wall time: 713 ms\n",
      "Accuracy: 0.907\n"
     ]
    }
   ],
   "source": [
    "classifier_RFC = RandomForestClassifier()\n",
    "%time rfc = classifier_RFC.fit(X_train, y_train)\n",
    "print('Accuracy: {}'.format(round(classifier_RFC.score(X_test, y_test), 3)))"
   ]
  },
  {
   "cell_type": "code",
   "execution_count": 621,
   "metadata": {},
   "outputs": [
    {
     "name": "stdout",
     "output_type": "stream",
     "text": [
      "CPU times: user 64.7 ms, sys: 66.5 ms, total: 131 ms\n",
      "Wall time: 131 ms\n",
      "Accuracy: 0.828\n"
     ]
    }
   ],
   "source": [
    "classifier_GNB = GaussianNB()\n",
    "%time classifier_GNB.fit(X_train.toarray(), y_train)\n",
    "print('Accuracy: {}'.format(round(classifier_GNB.score(X_test.toarray(), y_test), 3)))"
   ]
  },
  {
   "cell_type": "code",
   "execution_count": 622,
   "metadata": {},
   "outputs": [
    {
     "name": "stdout",
     "output_type": "stream",
     "text": [
      "CPU times: user 23.1 s, sys: 106 ms, total: 23.2 s\n",
      "Wall time: 23.3 s\n",
      "Accuracy: 0.904\n"
     ]
    }
   ],
   "source": [
    "classifier_GBC = GradientBoostingClassifier()\n",
    "%time classifier_GBC.fit(X_train.toarray(), y_train)\n",
    "print('Accuracy: {}'.format(round(classifier_GBC.score(X_test.toarray(), y_test), 3)))"
   ]
  },
  {
   "cell_type": "markdown",
   "metadata": {},
   "source": [
    "<b> I decided to try Random Forest Classifier and see how the web scraped news set performed in the test</b>"
   ]
  },
  {
   "cell_type": "code",
   "execution_count": 623,
   "metadata": {
    "collapsed": true
   },
   "outputs": [],
   "source": [
    "pred_RFC = classifier_RFC.predict(X)"
   ]
  },
  {
   "cell_type": "code",
   "execution_count": 624,
   "metadata": {},
   "outputs": [
    {
     "data": {
      "text/html": [
       "<div>\n",
       "<style>\n",
       "    .dataframe thead tr:only-child th {\n",
       "        text-align: right;\n",
       "    }\n",
       "\n",
       "    .dataframe thead th {\n",
       "        text-align: left;\n",
       "    }\n",
       "\n",
       "    .dataframe tbody tr th {\n",
       "        vertical-align: top;\n",
       "    }\n",
       "</style>\n",
       "<table border=\"1\" class=\"dataframe\">\n",
       "  <thead>\n",
       "    <tr style=\"text-align: right;\">\n",
       "      <th></th>\n",
       "      <th>url</th>\n",
       "      <th>title</th>\n",
       "      <th>text</th>\n",
       "      <th>wing</th>\n",
       "      <th>conspiracy</th>\n",
       "      <th>label</th>\n",
       "      <th>tokens</th>\n",
       "      <th>pred</th>\n",
       "      <th>pred_RFC</th>\n",
       "    </tr>\n",
       "  </thead>\n",
       "  <tbody>\n",
       "    <tr>\n",
       "      <th>0</th>\n",
       "      <td>100percentfedup.com</td>\n",
       "      <td>Muslims BUSTED: They Stole Millions In Gov’t B...</td>\n",
       "      <td>Print They should pay all the back all the mon...</td>\n",
       "      <td>7-extreme right</td>\n",
       "      <td>0</td>\n",
       "      <td>FAKE</td>\n",
       "      <td>print pay back money plu interest entir famili...</td>\n",
       "      <td>FAKE</td>\n",
       "      <td>FAKE</td>\n",
       "    </tr>\n",
       "    <tr>\n",
       "      <th>1</th>\n",
       "      <td>100percentfedup.com</td>\n",
       "      <td>Re: Why Did Attorney General Loretta Lynch Ple...</td>\n",
       "      <td>Why Did Attorney General Loretta Lynch Plead T...</td>\n",
       "      <td>7-extreme right</td>\n",
       "      <td>0</td>\n",
       "      <td>FAKE</td>\n",
       "      <td>attorney gener loretta lynch plead fifth barra...</td>\n",
       "      <td>FAKE</td>\n",
       "      <td>FAKE</td>\n",
       "    </tr>\n",
       "    <tr>\n",
       "      <th>2</th>\n",
       "      <td>100percentfedup.com</td>\n",
       "      <td>BREAKING: Weiner Cooperating With FBI On Hilla...</td>\n",
       "      <td>Red State : \\nFox News Sunday reported this mo...</td>\n",
       "      <td>7-extreme right</td>\n",
       "      <td>0</td>\n",
       "      <td>FAKE</td>\n",
       "      <td>red state fox news sunday report morn anthoni ...</td>\n",
       "      <td>FAKE</td>\n",
       "      <td>FAKE</td>\n",
       "    </tr>\n",
       "    <tr>\n",
       "      <th>3</th>\n",
       "      <td>100percentfedup.com</td>\n",
       "      <td>FANTASTIC! TRUMP'S 7 POINT PLAN To Reform Heal...</td>\n",
       "      <td>Email HEALTHCARE REFORM TO MAKE AMERICA GREAT ...</td>\n",
       "      <td>7-extreme right</td>\n",
       "      <td>0</td>\n",
       "      <td>FAKE</td>\n",
       "      <td>email healthcar reform make america great sinc...</td>\n",
       "      <td>FAKE</td>\n",
       "      <td>FAKE</td>\n",
       "    </tr>\n",
       "    <tr>\n",
       "      <th>4</th>\n",
       "      <td>100percentfedup.com</td>\n",
       "      <td>Hillary Goes Absolutely Berserk On Protester A...</td>\n",
       "      <td>Print Hillary goes absolutely berserk! She exp...</td>\n",
       "      <td>7-extreme right</td>\n",
       "      <td>0</td>\n",
       "      <td>FAKE</td>\n",
       "      <td>print hillari goe absolut berserk explod bill ...</td>\n",
       "      <td>FAKE</td>\n",
       "      <td>FAKE</td>\n",
       "    </tr>\n",
       "  </tbody>\n",
       "</table>\n",
       "</div>"
      ],
      "text/plain": [
       "                   url                                              title  \\\n",
       "0  100percentfedup.com  Muslims BUSTED: They Stole Millions In Gov’t B...   \n",
       "1  100percentfedup.com  Re: Why Did Attorney General Loretta Lynch Ple...   \n",
       "2  100percentfedup.com  BREAKING: Weiner Cooperating With FBI On Hilla...   \n",
       "3  100percentfedup.com  FANTASTIC! TRUMP'S 7 POINT PLAN To Reform Heal...   \n",
       "4  100percentfedup.com  Hillary Goes Absolutely Berserk On Protester A...   \n",
       "\n",
       "                                                text             wing  \\\n",
       "0  Print They should pay all the back all the mon...  7-extreme right   \n",
       "1  Why Did Attorney General Loretta Lynch Plead T...  7-extreme right   \n",
       "2  Red State : \\nFox News Sunday reported this mo...  7-extreme right   \n",
       "3  Email HEALTHCARE REFORM TO MAKE AMERICA GREAT ...  7-extreme right   \n",
       "4  Print Hillary goes absolutely berserk! She exp...  7-extreme right   \n",
       "\n",
       "   conspiracy label                                             tokens  pred  \\\n",
       "0           0  FAKE  print pay back money plu interest entir famili...  FAKE   \n",
       "1           0  FAKE  attorney gener loretta lynch plead fifth barra...  FAKE   \n",
       "2           0  FAKE  red state fox news sunday report morn anthoni ...  FAKE   \n",
       "3           0  FAKE  email healthcar reform make america great sinc...  FAKE   \n",
       "4           0  FAKE  print hillari goe absolut berserk explod bill ...  FAKE   \n",
       "\n",
       "  pred_RFC  \n",
       "0     FAKE  \n",
       "1     FAKE  \n",
       "2     FAKE  \n",
       "3     FAKE  \n",
       "4     FAKE  "
      ]
     },
     "execution_count": 624,
     "metadata": {},
     "output_type": "execute_result"
    }
   ],
   "source": [
    "data_fw['pred_RFC'] = pred_RFC\n",
    "data_fw.head()"
   ]
  },
  {
   "cell_type": "code",
   "execution_count": 625,
   "metadata": {},
   "outputs": [
    {
     "name": "stdout",
     "output_type": "stream",
     "text": [
      "Fake news correctly predicted -  0.991939546599\n",
      "Real news correctly predicted -  0.925340599455\n"
     ]
    }
   ],
   "source": [
    "print 'Fake news correctly predicted - ',data_fw['url'][(data_fw.label == \"FAKE\")&(data_fw.pred_RFC == \"FAKE\")].count()/float(data_fw['url'][(data_fw.label == \"FAKE\")].count())\n",
    "print 'Real news correctly predicted - ',data_fw['url'][(data_fw.label == \"REAL\")&(data_fw.pred_RFC == \"REAL\")].count()/float(data_fw['url'][(data_fw.label == \"REAL\")].count())"
   ]
  },
  {
   "cell_type": "code",
   "execution_count": 626,
   "metadata": {},
   "outputs": [
    {
     "data": {
      "text/html": [
       "<div>\n",
       "<style>\n",
       "    .dataframe thead tr:only-child th {\n",
       "        text-align: right;\n",
       "    }\n",
       "\n",
       "    .dataframe thead th {\n",
       "        text-align: left;\n",
       "    }\n",
       "\n",
       "    .dataframe tbody tr th {\n",
       "        vertical-align: top;\n",
       "    }\n",
       "</style>\n",
       "<table border=\"1\" class=\"dataframe\">\n",
       "  <thead>\n",
       "    <tr style=\"text-align: right;\">\n",
       "      <th></th>\n",
       "      <th>words</th>\n",
       "      <th>importance</th>\n",
       "    </tr>\n",
       "  </thead>\n",
       "  <tbody>\n",
       "    <tr>\n",
       "      <th>76</th>\n",
       "      <td>clinton</td>\n",
       "      <td>0.037533</td>\n",
       "    </tr>\n",
       "    <tr>\n",
       "      <th>3</th>\n",
       "      <td>2017</td>\n",
       "      <td>0.035350</td>\n",
       "    </tr>\n",
       "    <tr>\n",
       "      <th>133</th>\n",
       "      <td>elect</td>\n",
       "      <td>0.030572</td>\n",
       "    </tr>\n",
       "    <tr>\n",
       "      <th>295</th>\n",
       "      <td>octob</td>\n",
       "      <td>0.027324</td>\n",
       "    </tr>\n",
       "    <tr>\n",
       "      <th>2</th>\n",
       "      <td>2016</td>\n",
       "      <td>0.024814</td>\n",
       "    </tr>\n",
       "    <tr>\n",
       "      <th>183</th>\n",
       "      <td>hillari</td>\n",
       "      <td>0.024347</td>\n",
       "    </tr>\n",
       "    <tr>\n",
       "      <th>289</th>\n",
       "      <td>novemb</td>\n",
       "      <td>0.020971</td>\n",
       "    </tr>\n",
       "    <tr>\n",
       "      <th>405</th>\n",
       "      <td>sourc</td>\n",
       "      <td>0.017182</td>\n",
       "    </tr>\n",
       "    <tr>\n",
       "      <th>210</th>\n",
       "      <td>it</td>\n",
       "      <td>0.016495</td>\n",
       "    </tr>\n",
       "    <tr>\n",
       "      <th>373</th>\n",
       "      <td>said</td>\n",
       "      <td>0.016265</td>\n",
       "    </tr>\n",
       "  </tbody>\n",
       "</table>\n",
       "</div>"
      ],
      "text/plain": [
       "       words  importance\n",
       "76   clinton    0.037533\n",
       "3       2017    0.035350\n",
       "133    elect    0.030572\n",
       "295    octob    0.027324\n",
       "2       2016    0.024814\n",
       "183  hillari    0.024347\n",
       "289   novemb    0.020971\n",
       "405    sourc    0.017182\n",
       "210       it    0.016495\n",
       "373     said    0.016265"
      ]
     },
     "execution_count": 626,
     "metadata": {},
     "output_type": "execute_result"
    }
   ],
   "source": [
    "importances_rfc = pd.DataFrame(zip(new_features,rfc.feature_importances_), columns = [\"words\",\"importance\"])\n",
    "importances_rfc.sort_values(by=\"importance\",ascending=False).head(10)"
   ]
  },
  {
   "cell_type": "code",
   "execution_count": 627,
   "metadata": {
    "collapsed": true
   },
   "outputs": [],
   "source": [
    "z_real = data_fw[data_fw.label == 'REAL']"
   ]
  },
  {
   "cell_type": "code",
   "execution_count": 628,
   "metadata": {
    "collapsed": true
   },
   "outputs": [],
   "source": [
    "# Now let's see how it looks in terms of politial affiliations\n",
    "\n",
    "z_fw = pd.concat([z_real[z_real.pred_RFC == \"FAKE\"].wing.value_counts(),z_real[z_real.label == \"REAL\"].wing.value_counts()], join='inner', axis = 1)"
   ]
  },
  {
   "cell_type": "code",
   "execution_count": 629,
   "metadata": {
    "collapsed": true
   },
   "outputs": [],
   "source": [
    "z_fw.columns = ['FAKE', 'REAL']\n",
    "z_fw['TOTAL'] = z_fw.REAL + z_fw.FAKE\n",
    "z_fw['CREDIBILITY'] = z_fw.REAL/(z_fw.FAKE +z_fw.REAL)\n",
    "z_fw.to_csv('data/z_fw_pred.csv')\n",
    "z_fw.sort_index(ascending=True,inplace=True)"
   ]
  },
  {
   "cell_type": "code",
   "execution_count": 630,
   "metadata": {},
   "outputs": [
    {
     "data": {
      "text/html": [
       "<div>\n",
       "<style>\n",
       "    .dataframe thead tr:only-child th {\n",
       "        text-align: right;\n",
       "    }\n",
       "\n",
       "    .dataframe thead th {\n",
       "        text-align: left;\n",
       "    }\n",
       "\n",
       "    .dataframe tbody tr th {\n",
       "        vertical-align: top;\n",
       "    }\n",
       "</style>\n",
       "<table border=\"1\" class=\"dataframe\">\n",
       "  <thead>\n",
       "    <tr style=\"text-align: right;\">\n",
       "      <th></th>\n",
       "      <th>FAKE</th>\n",
       "      <th>REAL</th>\n",
       "      <th>TOTAL</th>\n",
       "      <th>CREDIBILITY</th>\n",
       "    </tr>\n",
       "  </thead>\n",
       "  <tbody>\n",
       "    <tr>\n",
       "      <th>0-unknown</th>\n",
       "      <td>56</td>\n",
       "      <td>325</td>\n",
       "      <td>381</td>\n",
       "      <td>0.853018</td>\n",
       "    </tr>\n",
       "    <tr>\n",
       "      <th>2-left</th>\n",
       "      <td>103</td>\n",
       "      <td>1230</td>\n",
       "      <td>1333</td>\n",
       "      <td>0.922731</td>\n",
       "    </tr>\n",
       "    <tr>\n",
       "      <th>3-center left</th>\n",
       "      <td>84</td>\n",
       "      <td>937</td>\n",
       "      <td>1021</td>\n",
       "      <td>0.917728</td>\n",
       "    </tr>\n",
       "    <tr>\n",
       "      <th>4-center</th>\n",
       "      <td>55</td>\n",
       "      <td>1241</td>\n",
       "      <td>1296</td>\n",
       "      <td>0.957562</td>\n",
       "    </tr>\n",
       "    <tr>\n",
       "      <th>5-center right</th>\n",
       "      <td>6</td>\n",
       "      <td>126</td>\n",
       "      <td>132</td>\n",
       "      <td>0.954545</td>\n",
       "    </tr>\n",
       "    <tr>\n",
       "      <th>6-right</th>\n",
       "      <td>74</td>\n",
       "      <td>1360</td>\n",
       "      <td>1434</td>\n",
       "      <td>0.948396</td>\n",
       "    </tr>\n",
       "    <tr>\n",
       "      <th>7-extreme right</th>\n",
       "      <td>33</td>\n",
       "      <td>286</td>\n",
       "      <td>319</td>\n",
       "      <td>0.896552</td>\n",
       "    </tr>\n",
       "  </tbody>\n",
       "</table>\n",
       "</div>"
      ],
      "text/plain": [
       "                 FAKE  REAL  TOTAL  CREDIBILITY\n",
       "0-unknown          56   325    381     0.853018\n",
       "2-left            103  1230   1333     0.922731\n",
       "3-center left      84   937   1021     0.917728\n",
       "4-center           55  1241   1296     0.957562\n",
       "5-center right      6   126    132     0.954545\n",
       "6-right            74  1360   1434     0.948396\n",
       "7-extreme right    33   286    319     0.896552"
      ]
     },
     "execution_count": 630,
     "metadata": {},
     "output_type": "execute_result"
    }
   ],
   "source": [
    "z_fw"
   ]
  },
  {
   "cell_type": "code",
   "execution_count": 631,
   "metadata": {
    "scrolled": true
   },
   "outputs": [
    {
     "data": {
      "text/plain": [
       "<matplotlib.axes._subplots.AxesSubplot at 0x19ce70290>"
      ]
     },
     "execution_count": 631,
     "metadata": {},
     "output_type": "execute_result"
    },
    {
     "data": {
      "image/png": "[encoded data removed]",
      "text/plain": [
       "<matplotlib.figure.Figure at 0x19cf48550>"
      ]
     },
     "metadata": {},
     "output_type": "display_data"
    }
   ],
   "source": [
    "plt.figure(figsize=(10,6))\n",
    "z_fw.CREDIBILITY.plot()"
   ]
  },
  {
   "cell_type": "code",
   "execution_count": 632,
   "metadata": {
    "collapsed": true
   },
   "outputs": [],
   "source": [
    "z_fw_url = pd.concat([z_real[z_real.pred_RFC == \"FAKE\"].url.value_counts(),z_real[z_real.pred_RFC == \"REAL\"].url.value_counts()], join='inner', axis = 1)\n"
   ]
  },
  {
   "cell_type": "code",
   "execution_count": 633,
   "metadata": {},
   "outputs": [
    {
     "data": {
      "text/html": [
       "<div>\n",
       "<style>\n",
       "    .dataframe thead tr:only-child th {\n",
       "        text-align: right;\n",
       "    }\n",
       "\n",
       "    .dataframe thead th {\n",
       "        text-align: left;\n",
       "    }\n",
       "\n",
       "    .dataframe tbody tr th {\n",
       "        vertical-align: top;\n",
       "    }\n",
       "</style>\n",
       "<table border=\"1\" class=\"dataframe\">\n",
       "  <thead>\n",
       "    <tr style=\"text-align: right;\">\n",
       "      <th></th>\n",
       "      <th>FAKE</th>\n",
       "      <th>REAL</th>\n",
       "      <th>TOTAL</th>\n",
       "      <th>CREDIBILITY</th>\n",
       "    </tr>\n",
       "  </thead>\n",
       "  <tbody>\n",
       "    <tr>\n",
       "      <th>huffingtonpost.com</th>\n",
       "      <td>2</td>\n",
       "      <td>174</td>\n",
       "      <td>176</td>\n",
       "      <td>0.988636</td>\n",
       "    </tr>\n",
       "    <tr>\n",
       "      <th>sctimes.com</th>\n",
       "      <td>8</td>\n",
       "      <td>621</td>\n",
       "      <td>629</td>\n",
       "      <td>0.987281</td>\n",
       "    </tr>\n",
       "    <tr>\n",
       "      <th>huffingtonpost.kr</th>\n",
       "      <td>1</td>\n",
       "      <td>73</td>\n",
       "      <td>74</td>\n",
       "      <td>0.986486</td>\n",
       "    </tr>\n",
       "    <tr>\n",
       "      <th>huffingtonpost.de</th>\n",
       "      <td>1</td>\n",
       "      <td>59</td>\n",
       "      <td>60</td>\n",
       "      <td>0.983333</td>\n",
       "    </tr>\n",
       "    <tr>\n",
       "      <th>postbulletin.com</th>\n",
       "      <td>7</td>\n",
       "      <td>344</td>\n",
       "      <td>351</td>\n",
       "      <td>0.980057</td>\n",
       "    </tr>\n",
       "    <tr>\n",
       "      <th>newsbusters.org</th>\n",
       "      <td>7</td>\n",
       "      <td>171</td>\n",
       "      <td>178</td>\n",
       "      <td>0.960674</td>\n",
       "    </tr>\n",
       "    <tr>\n",
       "      <th>chicagotribune.com</th>\n",
       "      <td>15</td>\n",
       "      <td>348</td>\n",
       "      <td>363</td>\n",
       "      <td>0.958678</td>\n",
       "    </tr>\n",
       "    <tr>\n",
       "      <th>politifact.com</th>\n",
       "      <td>42</td>\n",
       "      <td>821</td>\n",
       "      <td>863</td>\n",
       "      <td>0.951333</td>\n",
       "    </tr>\n",
       "    <tr>\n",
       "      <th>usatoday.com</th>\n",
       "      <td>12</td>\n",
       "      <td>184</td>\n",
       "      <td>196</td>\n",
       "      <td>0.938776</td>\n",
       "    </tr>\n",
       "    <tr>\n",
       "      <th>bustle.com</th>\n",
       "      <td>36</td>\n",
       "      <td>473</td>\n",
       "      <td>509</td>\n",
       "      <td>0.929273</td>\n",
       "    </tr>\n",
       "  </tbody>\n",
       "</table>\n",
       "</div>"
      ],
      "text/plain": [
       "                    FAKE  REAL  TOTAL  CREDIBILITY\n",
       "huffingtonpost.com     2   174    176     0.988636\n",
       "sctimes.com            8   621    629     0.987281\n",
       "huffingtonpost.kr      1    73     74     0.986486\n",
       "huffingtonpost.de      1    59     60     0.983333\n",
       "postbulletin.com       7   344    351     0.980057\n",
       "newsbusters.org        7   171    178     0.960674\n",
       "chicagotribune.com    15   348    363     0.958678\n",
       "politifact.com        42   821    863     0.951333\n",
       "usatoday.com          12   184    196     0.938776\n",
       "bustle.com            36   473    509     0.929273"
      ]
     },
     "execution_count": 633,
     "metadata": {},
     "output_type": "execute_result"
    }
   ],
   "source": [
    "z_fw_url.columns = ['FAKE', 'REAL']\n",
    "z_fw_url['TOTAL'] = z_fw_url.REAL + z_fw_url.FAKE\n",
    "z_fw_url['CREDIBILITY'] = z_fw_url.REAL/(z_fw_url.FAKE +z_fw_url.REAL)\n",
    "\n",
    "z_fw_url[z_fw_url.TOTAL>20].sort_values(by = 'CREDIBILITY', na_position='last', ascending=0).head(10)"
   ]
  },
  {
   "cell_type": "code",
   "execution_count": 634,
   "metadata": {},
   "outputs": [
    {
     "data": {
      "text/html": [
       "<div>\n",
       "<style>\n",
       "    .dataframe thead tr:only-child th {\n",
       "        text-align: right;\n",
       "    }\n",
       "\n",
       "    .dataframe thead th {\n",
       "        text-align: left;\n",
       "    }\n",
       "\n",
       "    .dataframe tbody tr th {\n",
       "        vertical-align: top;\n",
       "    }\n",
       "</style>\n",
       "<table border=\"1\" class=\"dataframe\">\n",
       "  <thead>\n",
       "    <tr style=\"text-align: right;\">\n",
       "      <th></th>\n",
       "      <th>FAKE</th>\n",
       "      <th>REAL</th>\n",
       "      <th>TOTAL</th>\n",
       "      <th>CREDIBILITY</th>\n",
       "    </tr>\n",
       "  </thead>\n",
       "  <tbody>\n",
       "    <tr>\n",
       "      <th>timesofsandiego.com</th>\n",
       "      <td>4</td>\n",
       "      <td>31</td>\n",
       "      <td>35</td>\n",
       "      <td>0.885714</td>\n",
       "    </tr>\n",
       "    <tr>\n",
       "      <th>rabble.ca</th>\n",
       "      <td>28</td>\n",
       "      <td>179</td>\n",
       "      <td>207</td>\n",
       "      <td>0.864734</td>\n",
       "    </tr>\n",
       "    <tr>\n",
       "      <th>latimes.com</th>\n",
       "      <td>11</td>\n",
       "      <td>55</td>\n",
       "      <td>66</td>\n",
       "      <td>0.833333</td>\n",
       "    </tr>\n",
       "    <tr>\n",
       "      <th>natmonitor.com</th>\n",
       "      <td>6</td>\n",
       "      <td>24</td>\n",
       "      <td>30</td>\n",
       "      <td>0.800000</td>\n",
       "    </tr>\n",
       "    <tr>\n",
       "      <th>politico.com</th>\n",
       "      <td>16</td>\n",
       "      <td>63</td>\n",
       "      <td>79</td>\n",
       "      <td>0.797468</td>\n",
       "    </tr>\n",
       "    <tr>\n",
       "      <th>westernjournalism.com</th>\n",
       "      <td>14</td>\n",
       "      <td>55</td>\n",
       "      <td>69</td>\n",
       "      <td>0.797101</td>\n",
       "    </tr>\n",
       "    <tr>\n",
       "      <th>nytimes.com</th>\n",
       "      <td>6</td>\n",
       "      <td>17</td>\n",
       "      <td>23</td>\n",
       "      <td>0.739130</td>\n",
       "    </tr>\n",
       "    <tr>\n",
       "      <th>huffingtonpost.in</th>\n",
       "      <td>7</td>\n",
       "      <td>19</td>\n",
       "      <td>26</td>\n",
       "      <td>0.730769</td>\n",
       "    </tr>\n",
       "    <tr>\n",
       "      <th>politico.eu</th>\n",
       "      <td>23</td>\n",
       "      <td>61</td>\n",
       "      <td>84</td>\n",
       "      <td>0.726190</td>\n",
       "    </tr>\n",
       "    <tr>\n",
       "      <th>huffingtonpost.co.uk</th>\n",
       "      <td>17</td>\n",
       "      <td>42</td>\n",
       "      <td>59</td>\n",
       "      <td>0.711864</td>\n",
       "    </tr>\n",
       "  </tbody>\n",
       "</table>\n",
       "</div>"
      ],
      "text/plain": [
       "                       FAKE  REAL  TOTAL  CREDIBILITY\n",
       "timesofsandiego.com       4    31     35     0.885714\n",
       "rabble.ca                28   179    207     0.864734\n",
       "latimes.com              11    55     66     0.833333\n",
       "natmonitor.com            6    24     30     0.800000\n",
       "politico.com             16    63     79     0.797468\n",
       "westernjournalism.com    14    55     69     0.797101\n",
       "nytimes.com               6    17     23     0.739130\n",
       "huffingtonpost.in         7    19     26     0.730769\n",
       "politico.eu              23    61     84     0.726190\n",
       "huffingtonpost.co.uk     17    42     59     0.711864"
      ]
     },
     "execution_count": 634,
     "metadata": {},
     "output_type": "execute_result"
    }
   ],
   "source": [
    "z_fw_url[z_fw_url.TOTAL>20].sort_values(by = 'CREDIBILITY', na_position='last', ascending=0).tail(10)"
   ]
  },
  {
   "cell_type": "code",
   "execution_count": 635,
   "metadata": {
    "collapsed": true
   },
   "outputs": [],
   "source": [
    "# Below is the code to check which news were predicted as fake. Very intersting\n",
    "# print list(data_fw[(data_fw.url == 'sctimes.com')&(data_fw.pred_RFC == 'FAKE')].text)"
   ]
  },
  {
   "cell_type": "markdown",
   "metadata": {},
   "source": [
    "<font color = \"green\"><h3> Validation Curve </h3></font>\n",
    "The code below is borrowed from sklearn documentation. This is the validation curve to visualize and identify possible overfitting.\n",
    "http://scikit-learn.org/stable/auto_examples/model_selection/plot_validation_curve.html"
   ]
  },
  {
   "cell_type": "code",
   "execution_count": 636,
   "metadata": {},
   "outputs": [
    {
     "name": "stdout",
     "output_type": "stream",
     "text": [
      "Automatically created module for IPython interactive environment\n"
     ]
    },
    {
     "data": {
      "image/png": "[encoded data removed]",
      "text/plain": [
       "<matplotlib.figure.Figure at 0x19d3d9a50>"
      ]
     },
     "metadata": {},
     "output_type": "display_data"
    }
   ],
   "source": [
    "print(__doc__)\n",
    "\n",
    "import matplotlib.pyplot as plt\n",
    "import numpy as np\n",
    "\n",
    "from sklearn.datasets import load_digits\n",
    "from sklearn.model_selection import validation_curve\n",
    "\n",
    "digits = load_digits()\n",
    "X, y = digits.data, digits.target\n",
    "\n",
    "param_range = [4,8,16,32]\n",
    "train_scores, test_scores = validation_curve(\n",
    "    RandomForestClassifier(), X, y, param_name=\"max_features\", param_range=param_range,\n",
    "    cv=10, scoring=\"accuracy\", n_jobs=1)\n",
    "train_scores_mean = np.mean(train_scores, axis=1)\n",
    "train_scores_std = np.std(train_scores, axis=1)\n",
    "test_scores_mean = np.mean(test_scores, axis=1)\n",
    "test_scores_std = np.std(test_scores, axis=1)\n",
    "\n",
    "plt.title(\"Validation Curve with RandomForest\")\n",
    "plt.xlabel(\"Max Features\")\n",
    "plt.ylabel(\"Score\")\n",
    "plt.ylim(0.0, 1.1)\n",
    "lw = 2\n",
    "plt.semilogx(param_range, train_scores_mean, label=\"Training score\",\n",
    "             color=\"darkorange\", lw=lw)\n",
    "plt.fill_between(param_range, train_scores_mean - train_scores_std,\n",
    "                 train_scores_mean + train_scores_std, alpha=0.2,\n",
    "                 color=\"darkorange\", lw=lw)\n",
    "plt.semilogx(param_range, test_scores_mean, label=\"Cross-validation score\",\n",
    "             color=\"navy\", lw=lw)\n",
    "plt.fill_between(param_range, test_scores_mean - test_scores_std,\n",
    "                 test_scores_mean + test_scores_std, alpha=0.2,\n",
    "                 color=\"navy\", lw=lw)\n",
    "plt.legend(loc=\"best\")\n",
    "plt.show()"
   ]
  },
  {
   "cell_type": "code",
   "execution_count": 637,
   "metadata": {},
   "outputs": [
    {
     "name": "stdout",
     "output_type": "stream",
     "text": [
      "Automatically created module for IPython interactive environment\n"
     ]
    },
    {
     "data": {
      "image/png": "[encoded data removed]",
      "text/plain": [
       "<matplotlib.figure.Figure at 0x197a9c990>"
      ]
     },
     "metadata": {},
     "output_type": "display_data"
    }
   ],
   "source": [
    "# THe code below is borrowed from sklearn documentation:\n",
    "# http://scikit-learn.org/stable/auto_examples/model_selection/plot_validation_curve.html\n",
    "\n",
    "print(__doc__)\n",
    "\n",
    "import matplotlib.pyplot as plt\n",
    "import numpy as np\n",
    "\n",
    "from sklearn.datasets import load_digits\n",
    "from sklearn.model_selection import validation_curve\n",
    "\n",
    "digits = load_digits()\n",
    "X, y = digits.data, digits.target\n",
    "\n",
    "param_range = [1,10,100,500]\n",
    "train_scores, test_scores = validation_curve(\n",
    "    RandomForestClassifier(), X, y, param_name=\"min_samples_leaf\", param_range=param_range,\n",
    "    cv=10, scoring=\"accuracy\", n_jobs=1)\n",
    "train_scores_mean = np.mean(train_scores, axis=1)\n",
    "train_scores_std = np.std(train_scores, axis=1)\n",
    "test_scores_mean = np.mean(test_scores, axis=1)\n",
    "test_scores_std = np.std(test_scores, axis=1)\n",
    "\n",
    "plt.title(\"Validation Curve with RandomForest\")\n",
    "plt.xlabel(\"Min Samples Leaf\")\n",
    "plt.ylabel(\"Score\")\n",
    "plt.ylim(0.0, 1.1)\n",
    "lw = 2\n",
    "plt.semilogx(param_range, train_scores_mean, label=\"Training score\",\n",
    "             color=\"darkorange\", lw=lw)\n",
    "plt.fill_between(param_range, train_scores_mean - train_scores_std,\n",
    "                 train_scores_mean + train_scores_std, alpha=0.2,\n",
    "                 color=\"darkorange\", lw=lw)\n",
    "plt.semilogx(param_range, test_scores_mean, label=\"Cross-validation score\",\n",
    "             color=\"navy\", lw=lw)\n",
    "plt.fill_between(param_range, test_scores_mean - test_scores_std,\n",
    "                 test_scores_mean + test_scores_std, alpha=0.2,\n",
    "                 color=\"navy\", lw=lw)\n",
    "plt.legend(loc=\"best\")\n",
    "plt.show()"
   ]
  },
  {
   "cell_type": "markdown",
   "metadata": {},
   "source": [
    "<h2><font color = 'green'> Web scraping part. </font></h2>"
   ]
  },
  {
   "cell_type": "markdown",
   "metadata": {},
   "source": [
    "### The data has been scraped using 'newspaper' package\n",
    "I selected 15 news agencies and aggregators with a high level of credibility.\n",
    "The source of credibility ranking is mediabiasfactcheck.com \n",
    "Given that the news agencies / aggregators have high credibility rating I will use them as \n",
    "\"REAL\" news to later add to the \"FAKE\" news data set."
   ]
  },
  {
   "cell_type": "code",
   "execution_count": 638,
   "metadata": {
    "collapsed": true
   },
   "outputs": [],
   "source": [
    "import newspaper"
   ]
  },
  {
   "cell_type": "code",
   "execution_count": 639,
   "metadata": {
    "collapsed": true
   },
   "outputs": [],
   "source": [
    "url = ['http://hpenews.com', 'http://latimes.com', 'http://usatoday.com', \n",
    "       'http://politifact.com/', 'http://chicagotribune.com', 'http://huffingtonpost.com/', \n",
    "       'http://sctimes.com/', 'http://justfactsdaily.com/', 'http://bustle.com/', \n",
    "       'http://rabble.ca/', 'http://justfactsdaily.com/', 'http://timesofsandiego.com/', \n",
    "       'http://postbulletin.com/', 'http://natmonitor.com/','http://politico.com/',\n",
    "       'http://cnn.com', 'http://www.breitbart.com/']\n"
   ]
  },
  {
   "cell_type": "code",
   "execution_count": 439,
   "metadata": {
    "collapsed": true
   },
   "outputs": [],
   "source": [
    "webdata = pd.DataFrame(columns=['url', 'authors', 'title', 'text'])"
   ]
  },
  {
   "cell_type": "markdown",
   "metadata": {},
   "source": [
    "Below is the news web-scrapering loop. I saved it as a Markdown in order to not start it again. "
   ]
  },
  {
   "cell_type": "markdown",
   "metadata": {},
   "source": [
    "for i in url:\n",
    "    paper = newspaper.build(i)\n",
    "    for article in paper.articles[:500]:\n",
    "        time.sleep(1)\n",
    "        article.download()\n",
    "        article.parse()\n",
    "        url = article.url\n",
    "        authors = article.authors\n",
    "        title = article.title\n",
    "        text = article.text\n",
    "        webdata = webdata.append({'url':url, 'authors':authors, 'title':title, 'text':text}, ignore_index=True)"
   ]
  },
  {
   "cell_type": "code",
   "execution_count": 440,
   "metadata": {
    "collapsed": true
   },
   "outputs": [],
   "source": [
    "webdata = webdata[webdata['title'] != 'Error']"
   ]
  },
  {
   "cell_type": "code",
   "execution_count": 441,
   "metadata": {},
   "outputs": [
    {
     "data": {
      "text/plain": [
       "(0, 4)"
      ]
     },
     "execution_count": 441,
     "metadata": {},
     "output_type": "execute_result"
    }
   ],
   "source": [
    "webdata.shape"
   ]
  },
  {
   "cell_type": "code",
   "execution_count": 442,
   "metadata": {},
   "outputs": [
    {
     "data": {
      "text/html": [
       "<div>\n",
       "<style>\n",
       "    .dataframe thead tr:only-child th {\n",
       "        text-align: right;\n",
       "    }\n",
       "\n",
       "    .dataframe thead th {\n",
       "        text-align: left;\n",
       "    }\n",
       "\n",
       "    .dataframe tbody tr th {\n",
       "        vertical-align: top;\n",
       "    }\n",
       "</style>\n",
       "<table border=\"1\" class=\"dataframe\">\n",
       "  <thead>\n",
       "    <tr style=\"text-align: right;\">\n",
       "      <th></th>\n",
       "      <th>url</th>\n",
       "      <th>title</th>\n",
       "      <th>text</th>\n",
       "    </tr>\n",
       "  </thead>\n",
       "  <tbody>\n",
       "  </tbody>\n",
       "</table>\n",
       "</div>"
      ],
      "text/plain": [
       "Empty DataFrame\n",
       "Columns: [url, title, text]\n",
       "Index: []"
      ]
     },
     "execution_count": 442,
     "metadata": {},
     "output_type": "execute_result"
    }
   ],
   "source": [
    "webdata = webdata[['url', 'title','text']]\n",
    "webdata.head(2)"
   ]
  },
  {
   "cell_type": "markdown",
   "metadata": {},
   "source": [
    "I scraped several times on several resources. In order to avoid the repetition of the same news scraped below is the check for duplicates"
   ]
  },
  {
   "cell_type": "code",
   "execution_count": 614,
   "metadata": {},
   "outputs": [
    {
     "data": {
      "text/plain": [
       "(197, 3)"
      ]
     },
     "execution_count": 614,
     "metadata": {},
     "output_type": "execute_result"
    }
   ],
   "source": [
    "webdata[webdata.duplicated() == True].shape"
   ]
  },
  {
   "cell_type": "code",
   "execution_count": 615,
   "metadata": {},
   "outputs": [
    {
     "data": {
      "text/plain": [
       "(6176, 3)"
      ]
     },
     "execution_count": 615,
     "metadata": {},
     "output_type": "execute_result"
    }
   ],
   "source": [
    "webdata.drop_duplicates(keep='first',inplace=True)\n",
    "webdata.shape"
   ]
  },
  {
   "cell_type": "markdown",
   "metadata": {},
   "source": [
    "It seems smart to just save it as a csv file. As the computer started working unreliably."
   ]
  },
  {
   "cell_type": "code",
   "execution_count": null,
   "metadata": {
    "collapsed": true
   },
   "outputs": [],
   "source": [
    "webdata.to_csv('../capstone_data/scraped_news.csv', sep=',', encoding = 'UTF-8')"
   ]
  },
  {
   "cell_type": "markdown",
   "metadata": {},
   "source": [
    "### This resumes my capstone project. Thank you for the knowledge and skills you trained in us. There is a plethora of material to continue studying. Hope it finds practical application in real life. "
   ]
  },
  {
   "cell_type": "code",
   "execution_count": null,
   "metadata": {
    "collapsed": true
   },
   "outputs": [],
   "source": []
  }
 ],
 "metadata": {
  "kernelspec": {
   "display_name": "Python 2",
   "language": "python",
   "name": "python2"
  },
  "language_info": {
   "codemirror_mode": {
    "name": "ipython",
    "version": 2
   },
   "file_extension": ".py",
   "mimetype": "text/x-python",
   "name": "python",
   "nbconvert_exporter": "python",
   "pygments_lexer": "ipython2",
   "version": "2.7.13"
  }
 },
 "nbformat": 4,
 "nbformat_minor": 2
}
