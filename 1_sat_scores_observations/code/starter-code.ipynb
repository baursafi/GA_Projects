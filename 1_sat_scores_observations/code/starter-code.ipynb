{
 "cells": [
  {
   "cell_type": "markdown",
   "metadata": {},
   "source": [
    "# Project 1\n",
    "\n",
    "## Step 1: Open the `sat_scores.csv` file. Investigate the data, and answer the questions below.\n"
   ]
  },
  {
   "cell_type": "markdown",
   "metadata": {},
   "source": [
    "##### 1. What does the data describe?"
   ]
  },
  {
   "cell_type": "code",
   "execution_count": 2,
   "metadata": {},
   "outputs": [
    {
     "data": {
      "text/plain": [
       "'The data in the file describes average SAT scores for college-bound \\n    seniors in year 2001 state by state with detalization of rate of \\n    participation and average score in math and verbal abilities.'"
      ]
     },
     "execution_count": 2,
     "metadata": {},
     "output_type": "execute_result"
    }
   ],
   "source": [
    "## your answer here\n",
    "'''The data in the file describes average SAT scores for college-bound \n",
    "    seniors in year 2001 state by state with detalization of rate of \n",
    "    participation and average score in math and verbal abilities.'''"
   ]
  },
  {
   "cell_type": "markdown",
   "metadata": {},
   "source": [
    "##### 2. Does the data look complete? Are there any obvious issues with the observations?"
   ]
  },
  {
   "cell_type": "code",
   "execution_count": 3,
   "metadata": {},
   "outputs": [
    {
     "data": {
      "text/plain": [
       "'The data presented in the file gives a generic view on scores of high school\\n    students but does not assist with greater detalization.\\n    It is obvious that for any decision making it would require more data.'"
      ]
     },
     "execution_count": 3,
     "metadata": {},
     "output_type": "execute_result"
    }
   ],
   "source": [
    "## your answer here\n",
    "'''The data presented in the file gives a generic view on scores of high school\n",
    "    students but does not assist with greater detalization.\n",
    "    It is obvious that for any decision making it would require more data.'''"
   ]
  },
  {
   "cell_type": "markdown",
   "metadata": {},
   "source": [
    "##### 3. Describe in words what each variable(column) is."
   ]
  },
  {
   "cell_type": "code",
   "execution_count": 4,
   "metadata": {},
   "outputs": [
    {
     "data": {
      "text/plain": [
       "'There are five columns of data:\\n    - US State coded to two letters,\\n    - Rate - unclear at this moment, but at this moment \\n        I suppose it is rate of high school seniors taking exam\\n    - mean SAT verbal exam score for each state\\n    - mean SAT math exam score for each state\\n    - SAT overall exam score for each state'"
      ]
     },
     "execution_count": 4,
     "metadata": {},
     "output_type": "execute_result"
    }
   ],
   "source": [
    "## your answer here\n",
    "'''There are five columns of data:\n",
    "    - US State coded to two letters,\n",
    "    - Rate - unclear at this moment, but at this moment \n",
    "        I suppose it is rate of high school seniors taking exam\n",
    "    - mean SAT verbal exam score for each state\n",
    "    - mean SAT math exam score for each state\n",
    "    - SAT overall exam score for each state''' "
   ]
  },
  {
   "cell_type": "markdown",
   "metadata": {},
   "source": [
    "## Step 2: Load the data."
   ]
  },
  {
   "cell_type": "markdown",
   "metadata": {},
   "source": [
    "##### 4. Load the data into a list of lists"
   ]
  },
  {
   "cell_type": "code",
   "execution_count": 6,
   "metadata": {},
   "outputs": [
    {
     "name": "stdout",
     "output_type": "stream",
     "text": [
      "Opening File. Data: \n",
      "\n",
      "[['State', 'Rate', 'Verbal', 'Math'], ['CT', '82', '509', '510'], ['NJ', '81', '499', '513'], ['MA', '79', '511', '515'], ['NY', '77', '495', '505'], ['NH', '72', '520', '516'], ['RI', '71', '501', '499'], ['PA', '71', '500', '499'], ['VT', '69', '511', '506'], ['ME', '69', '506', '500']]\n",
      "file closed\n"
     ]
    }
   ],
   "source": [
    "import csv\n",
    "data =[]\n",
    "print 'Opening File. Data: '\n",
    "print ''\n",
    "with open('../data/sat_scores.csv', 'rU') as f:\n",
    "    reader = csv.reader(f)\n",
    "    for row in reader:\n",
    "        data.append(row)\n",
    "f.close()\n",
    "print data[0:10]\n",
    "print 'file closed'"
   ]
  },
  {
   "cell_type": "markdown",
   "metadata": {},
   "source": [
    "##### 5. Print the data"
   ]
  },
  {
   "cell_type": "code",
   "execution_count": 71,
   "metadata": {},
   "outputs": [
    {
     "data": {
      "text/plain": [
       "['State', 'Rate', 'Verbal', 'Math']"
      ]
     },
     "execution_count": 71,
     "metadata": {},
     "output_type": "execute_result"
    }
   ],
   "source": [
    "data[0:len(data)][0]"
   ]
  },
  {
   "cell_type": "markdown",
   "metadata": {
    "collapsed": true
   },
   "source": [
    "##### 6. Extract a list of the labels from the data, and remove them from the data."
   ]
  },
  {
   "cell_type": "code",
   "execution_count": 7,
   "metadata": {},
   "outputs": [
    {
     "name": "stdout",
     "output_type": "stream",
     "text": [
      "['State', 'Rate', 'Verbal', 'Math']\n",
      "[['CT', '82', '509', '510'], ['NJ', '81', '499', '513'], ['MA', '79', '511', '515'], ['NY', '77', '495', '505'], ['NH', '72', '520', '516']]\n"
     ]
    }
   ],
   "source": [
    "'''SO DO NOT TRY TO RUN THIS CODE SEVERAL TIMES. Because it would be moving the top line of the data to the header\n",
    "    and cutting the data by one line. I is understood that this part would be a part of a longer code'''\n",
    "header = data[0]\n",
    "print header\n",
    "data.remove(header)\n",
    "print data[0:5]\n",
    "if len(data)<52:\n",
    "    print\"Run this code again from the top of page\" \n",
    "#In case you re-run this code and len(data) is below 52, then go to top and re-run the code for the whole page'''"
   ]
  },
  {
   "cell_type": "markdown",
   "metadata": {},
   "source": [
    "##### 7. Create a list of State names extracted from the data. (Hint: use the list of labels to index on the State column)"
   ]
  },
  {
   "cell_type": "code",
   "execution_count": 8,
   "metadata": {},
   "outputs": [
    {
     "name": "stdout",
     "output_type": "stream",
     "text": [
      "['CT', 'NJ', 'MA', 'NY', 'NH', 'RI', 'PA', 'VT', 'ME', 'VA']\n",
      "['82', '81', '79', '77', '72', '71', '71', '69', '69', '68']\n",
      "['509', '499', '511', '495', '520', '501', '500', '511', '506', '510']\n",
      "['510', '513', '515', '505', '516', '499', '499', '506', '500', '501']\n"
     ]
    },
    {
     "data": {
      "text/plain": [
       "4"
      ]
     },
     "execution_count": 8,
     "metadata": {},
     "output_type": "execute_result"
    }
   ],
   "source": [
    "#I think I did not get the idea of what the hint was about. So I just decided, I would extract every fourth item\n",
    "#in the list of lists.\n",
    "states = []\n",
    "rates = []\n",
    "sat_verb = []\n",
    "sat_math = []\n",
    "item = 0\n",
    "for item in range(len(data)-1):\n",
    "    states += data[item][0::4]\n",
    "    rates += data[item][1::4]\n",
    "    sat_verb +=data[item][2::4]\n",
    "    sat_math +=data[item][3::4]\n",
    "\n",
    "print states[:10]\n",
    "print rates[:10]\n",
    "print sat_verb[:10]\n",
    "print sat_math[:10]\n",
    "len(row)"
   ]
  },
  {
   "cell_type": "markdown",
   "metadata": {},
   "source": [
    "\n",
    "##### 8. Print the types of each column"
   ]
  },
  {
   "cell_type": "code",
   "execution_count": 9,
   "metadata": {
    "scrolled": true
   },
   "outputs": [
    {
     "name": "stdout",
     "output_type": "stream",
     "text": [
      "<type 'str'>\n",
      "<type 'str'>\n",
      "<type 'str'>\n"
     ]
    }
   ],
   "source": [
    "print type(rates[0])\n",
    "print type (sat_verb[0]) \n",
    "print type (sat_math[0])\n",
    "\n"
   ]
  },
  {
   "cell_type": "markdown",
   "metadata": {},
   "source": [
    "##### 9. Do any types need to be reassigned? If so, go ahead and do it."
   ]
  },
  {
   "cell_type": "code",
   "execution_count": 10,
   "metadata": {},
   "outputs": [
    {
     "name": "stdout",
     "output_type": "stream",
     "text": [
      "[82.0, 81.0, 79.0, 77.0, 72.0, 71.0, 71.0, 69.0, 69.0, 68.0]\n",
      "[509.0, 499.0, 511.0, 495.0, 520.0, 501.0, 500.0, 511.0, 506.0, 510.0]\n",
      "[510.0, 513.0, 515.0, 505.0, 516.0, 499.0, 499.0, 506.0, 500.0, 501.0]\n"
     ]
    }
   ],
   "source": [
    "for i in range(len(data)-1):\n",
    "    rates[i] = float(rates[i])\n",
    "    sat_verb[i] = float(sat_verb[i])\n",
    "    sat_math[i] = float(sat_math[i])\n",
    "print rates[:10]\n",
    "print sat_verb[:10]\n",
    "print sat_math[:10]"
   ]
  },
  {
   "cell_type": "markdown",
   "metadata": {},
   "source": [
    "##### 10. Create a dictionary for each column mapping the State to its respective value for that column. "
   ]
  },
  {
   "cell_type": "code",
   "execution_count": 11,
   "metadata": {},
   "outputs": [
    {
     "name": "stdout",
     "output_type": "stream",
     "text": [
      "{'WA': 53.0, 'DE': 67.0, 'DC': 56.0, 'WI': 6.0, 'WV': 18.0, 'HI': 52.0, 'FL': 54.0, 'WY': 11.0, 'NH': 72.0, 'NJ': 81.0, 'NM': 13.0, 'TX': 53.0, 'LA': 7.0, 'NC': 65.0, 'ND': 4.0, 'NE': 8.0, 'TN': 13.0, 'NY': 77.0, 'PA': 71.0, 'RI': 71.0, 'NV': 33.0, 'VA': 68.0, 'CO': 31.0, 'AK': 51.0, 'AL': 9.0, 'AR': 6.0, 'VT': 69.0, 'IL': 12.0, 'GA': 63.0, 'IN': 60.0, 'IA': 5.0, 'OK': 8.0, 'AZ': 34.0, 'CA': 51.0, 'ID': 17.0, 'CT': 82.0, 'ME': 69.0, 'MD': 65.0, 'MA': 79.0, 'OH': 26.0, 'UT': 5.0, 'MO': 8.0, 'MN': 9.0, 'MI': 11.0, 'KS': 9.0, 'MT': 23.0, 'MS': 4.0, 'SC': 57.0, 'KY': 12.0, 'OR': 55.0, 'SD': 4.0}\n",
      "{'WA': 527.0, 'DE': 501.0, 'DC': 482.0, 'WI': 584.0, 'WV': 527.0, 'HI': 485.0, 'FL': 498.0, 'WY': 547.0, 'NH': 520.0, 'NJ': 499.0, 'NM': 551.0, 'TX': 493.0, 'LA': 564.0, 'NC': 493.0, 'ND': 592.0, 'NE': 562.0, 'TN': 562.0, 'NY': 495.0, 'PA': 500.0, 'RI': 501.0, 'NV': 509.0, 'VA': 510.0, 'CO': 539.0, 'AK': 514.0, 'AL': 559.0, 'AR': 562.0, 'VT': 511.0, 'IL': 576.0, 'GA': 491.0, 'IN': 499.0, 'IA': 593.0, 'OK': 567.0, 'AZ': 523.0, 'CA': 498.0, 'ID': 543.0, 'CT': 509.0, 'ME': 506.0, 'MD': 508.0, 'MA': 511.0, 'OH': 534.0, 'UT': 575.0, 'MO': 577.0, 'MN': 580.0, 'MI': 561.0, 'KS': 577.0, 'MT': 539.0, 'MS': 566.0, 'SC': 486.0, 'KY': 550.0, 'OR': 526.0, 'SD': 577.0}\n",
      "{'WA': 527.0, 'DE': 499.0, 'DC': 474.0, 'WI': 596.0, 'WV': 512.0, 'HI': 515.0, 'FL': 499.0, 'WY': 545.0, 'NH': 516.0, 'NJ': 513.0, 'NM': 542.0, 'TX': 499.0, 'LA': 562.0, 'NC': 499.0, 'ND': 599.0, 'NE': 568.0, 'TN': 553.0, 'NY': 505.0, 'PA': 499.0, 'RI': 499.0, 'NV': 515.0, 'VA': 501.0, 'CO': 542.0, 'AK': 510.0, 'AL': 554.0, 'AR': 550.0, 'VT': 506.0, 'IL': 589.0, 'GA': 489.0, 'IN': 501.0, 'IA': 603.0, 'OK': 561.0, 'AZ': 525.0, 'CA': 517.0, 'ID': 542.0, 'CT': 510.0, 'ME': 500.0, 'MD': 510.0, 'MA': 515.0, 'OH': 439.0, 'UT': 570.0, 'MO': 577.0, 'MN': 589.0, 'MI': 572.0, 'KS': 580.0, 'MT': 539.0, 'MS': 551.0, 'SC': 488.0, 'KY': 550.0, 'OR': 526.0, 'SD': 582.0}\n"
     ]
    }
   ],
   "source": [
    "rates_dict = dict(zip(states, rates))\n",
    "sat_verb_dict = dict(zip(states, sat_verb))\n",
    "sat_math_dict = dict(zip(states, sat_math))\n",
    "print rates_dict\n",
    "print sat_verb_dict\n",
    "print sat_math_dict"
   ]
  },
  {
   "cell_type": "markdown",
   "metadata": {},
   "source": [
    "##### 11. Create a dictionary with the values for each of the numeric columns"
   ]
  },
  {
   "cell_type": "code",
   "execution_count": null,
   "metadata": {
    "collapsed": true
   },
   "outputs": [],
   "source": []
  },
  {
   "cell_type": "markdown",
   "metadata": {},
   "source": [
    "## Step 3: Describe the data"
   ]
  },
  {
   "cell_type": "markdown",
   "metadata": {},
   "source": [
    "##### 12. Print the min and max of each column"
   ]
  },
  {
   "cell_type": "code",
   "execution_count": 12,
   "metadata": {},
   "outputs": [
    {
     "name": "stdout",
     "output_type": "stream",
     "text": [
      "Minimum rate of college-bound high school students is in  ND 4.0\n",
      "Maximum rate of college-bound high school students is in  CT 82.0\n",
      "Minimum Verbal Score among students is in  DC 482.0\n",
      "Maximum Verbal Score among students is in  IA 593.0\n",
      "Minimum Math Score among students is in  OH 439.0\n",
      "Maximum Math Score among students is in  IA 603.0\n"
     ]
    }
   ],
   "source": [
    "print 'Minimum rate of college-bound high school students is in ', min(rates_dict, key=rates_dict.get),  rates_dict[min(rates_dict, key=rates_dict.get)]\n",
    "print 'Maximum rate of college-bound high school students is in ', max(rates_dict, key=rates_dict.get),  rates_dict[max(rates_dict, key=rates_dict.get)]\n",
    "print 'Minimum Verbal Score among students is in ', min(sat_verb_dict, key=sat_verb_dict.get),  sat_verb_dict[min(sat_verb_dict, key=sat_verb_dict.get)]\n",
    "print 'Maximum Verbal Score among students is in ', max(sat_verb_dict, key=sat_verb_dict.get),  sat_verb_dict[max(sat_verb_dict, key=sat_verb_dict.get)]\n",
    "print 'Minimum Math Score among students is in ', min(sat_math_dict, key=sat_math_dict.get),  sat_math_dict[min(sat_math_dict, key=sat_math_dict.get)]\n",
    "print 'Maximum Math Score among students is in ', max(sat_math_dict, key=sat_math_dict.get),  sat_math_dict[max(sat_math_dict, key=sat_math_dict.get)]"
   ]
  },
  {
   "cell_type": "markdown",
   "metadata": {},
   "source": [
    "##### 13. Write a function using only list comprehensions, no loops, to compute Standard Deviation. Print the Standard Deviation of each numeric column."
   ]
  },
  {
   "cell_type": "code",
   "execution_count": 36,
   "metadata": {},
   "outputs": [
    {
     "name": "stdout",
     "output_type": "stream",
     "text": [
      "Standard deviation of rates of CBHS-students in US is  27.2792386761\n",
      "Standard deviation of verbal SAT test of CBHS-students in US is  33.0319826842\n",
      "Standard deviation of math SAT test of CBHS-students in US is  35.9298731731\n"
     ]
    }
   ],
   "source": [
    "# Here is a function and it's calculations, just to assure that \n",
    "# I wrote them rigth below is the calculations done with help of numpy package.\n",
    "\n",
    "def std_list(datalist):\n",
    "    return (sum([(sum(datalist)/len(datalist) - datalist[i])**2 for i in range(len(datalist))])/len(datalist))**.5\n",
    "\n",
    "print 'Standard deviation of rates of CBHS-students in US is ', std_list(rates)\n",
    "print 'Standard deviation of verbal SAT test of CBHS-students in US is ', std_list(sat_verb)\n",
    "print 'Standard deviation of math SAT test of CBHS-students in US is ', std_list(sat_math)"
   ]
  },
  {
   "cell_type": "code",
   "execution_count": 81,
   "metadata": {},
   "outputs": [
    {
     "name": "stdout",
     "output_type": "stream",
     "text": [
      "Standard deviation of rates of CBHS-students in US is  27.2792386761\n",
      "Standard deviation of verbal SAT test of CBHS-students in US is  33.0319826842\n",
      "Standard deviation of math SAT test of CBHS-students in US is  35.9298731731\n"
     ]
    }
   ],
   "source": [
    "import numpy as np\n",
    "print 'Standard deviation of rates of CBHS-students in US is ', np.std(rates_dict.values())\n",
    "print 'Standard deviation of verbal SAT test of CBHS-students in US is ', np.std(sat_verb_dict.values())\n",
    "print 'Standard deviation of math SAT test of CBHS-students in US is ', np.std(sat_math_dict.values())"
   ]
  },
  {
   "cell_type": "markdown",
   "metadata": {},
   "source": [
    "## Step 4: Visualize the data"
   ]
  },
  {
   "cell_type": "markdown",
   "metadata": {
    "collapsed": true
   },
   "source": [
    "##### 14. Using MatPlotLib and PyPlot, plot the distribution of the Rate using histograms."
   ]
  },
  {
   "cell_type": "code",
   "execution_count": 86,
   "metadata": {},
   "outputs": [
    {
     "data": {
      "image/png": "[encoded data removed]",
      "text/plain": [
       "<matplotlib.figure.Figure at 0x116d50d10>"
      ]
     },
     "metadata": {},
     "output_type": "display_data"
    }
   ],
   "source": [
    "import matplotlib.pyplot as plt\n",
    "\n",
    "_ = plt.hist(rates, bins = 10)\n",
    "_ = plt.xlabel('Rates of Participation')\n",
    "_ = plt.ylabel('frequency')\n",
    "_ = plt.legend('Distribution of Rates of Test Participation')\n",
    "plt.show()"
   ]
  },
  {
   "cell_type": "markdown",
   "metadata": {},
   "source": [
    "##### 15. Plot the Math(s) distribution"
   ]
  },
  {
   "cell_type": "code",
   "execution_count": 91,
   "metadata": {},
   "outputs": [
    {
     "data": {
      "image/png": "[encoded data removed]",
      "text/plain": [
       "<matplotlib.figure.Figure at 0x1172df890>"
      ]
     },
     "metadata": {},
     "output_type": "display_data"
    }
   ],
   "source": [
    "import matplotlib.pyplot as plt\n",
    "\n",
    "_ = plt.hist(sat_math, bins = 10)\n",
    "_ = plt.xlabel('SAT Math Scores')\n",
    "_ = plt.ylabel('frequency')\n",
    "_ = plt.legend('Distribution of SAT Math scores USA')\n",
    "plt.show()"
   ]
  },
  {
   "cell_type": "markdown",
   "metadata": {},
   "source": [
    "##### 16. Plot the Verbal distribution"
   ]
  },
  {
   "cell_type": "code",
   "execution_count": 92,
   "metadata": {},
   "outputs": [
    {
     "data": {
      "image/png": "[encoded data removed]",
      "text/plain": [
       "<matplotlib.figure.Figure at 0x1171d83d0>"
      ]
     },
     "metadata": {},
     "output_type": "display_data"
    }
   ],
   "source": [
    "import matplotlib.pyplot as plt\n",
    "\n",
    "_ = plt.hist(sat_verb, bins = 10)\n",
    "_ = plt.xlabel('SAT Verbal Scores')\n",
    "_ = plt.ylabel('frequency')\n",
    "_ = plt.legend('Distribution of SAT Verba scores USA')\n",
    "plt.show()"
   ]
  },
  {
   "cell_type": "markdown",
   "metadata": {},
   "source": [
    "##### 17. What is the typical assumption for data distribution?"
   ]
  },
  {
   "cell_type": "code",
   "execution_count": null,
   "metadata": {
    "collapsed": true
   },
   "outputs": [],
   "source": [
    "# - That it would be normal"
   ]
  },
  {
   "cell_type": "markdown",
   "metadata": {},
   "source": [
    "##### 18. Does that distribution hold true for our data?"
   ]
  },
  {
   "cell_type": "code",
   "execution_count": null,
   "metadata": {
    "collapsed": true
   },
   "outputs": [],
   "source": [
    "# But it is not normal. It's rather a conjunction of two \n",
    "#normal distributions of those people who study and those who don't."
   ]
  },
  {
   "cell_type": "markdown",
   "metadata": {},
   "source": [
    "##### 19. Plot some scatterplots. **BONUS**: Use a PyPlot `figure` to present multiple plots at once."
   ]
  },
  {
   "cell_type": "code",
   "execution_count": 93,
   "metadata": {
    "scrolled": true
   },
   "outputs": [
    {
     "data": {
      "image/png": "[encoded data removed]",
      "text/plain": [
       "<matplotlib.figure.Figure at 0x1171d8590>"
      ]
     },
     "metadata": {},
     "output_type": "display_data"
    }
   ],
   "source": [
    "import matplotlib.pyplot as plt\n",
    "\n",
    "\n",
    "_ = plt.plot(sat_verb, sat_math, marker = '.',linestyle ='None')\n",
    "_ = plt.xlabel('SAT verbal test scores')\n",
    "_ = plt.ylabel('SAT math test scores')\n",
    "\n",
    "plt.show()"
   ]
  },
  {
   "cell_type": "markdown",
   "metadata": {},
   "source": [
    "##### 20. Are there any interesting relationships to note?"
   ]
  },
  {
   "cell_type": "code",
   "execution_count": 37,
   "metadata": {},
   "outputs": [
    {
     "data": {
      "image/png": "[encoded data removed]",
      "text/plain": [
       "<matplotlib.figure.Figure at 0x110cfbfd0>"
      ]
     },
     "metadata": {},
     "output_type": "display_data"
    }
   ],
   "source": [
    "import matplotlib.pyplot as plt\n",
    "\n",
    "\n",
    "_ = plt.plot(sat_verb, sat_math, marker = '.',linestyle ='None')\n",
    "_ = plt.xlabel('SAT verbal test scores')\n",
    "_ = plt.ylabel('SAT math test scores')\n",
    "\n",
    "plt.show()"
   ]
  },
  {
   "cell_type": "markdown",
   "metadata": {},
   "source": [
    "##### 21. Create box plots for each variable. "
   ]
  },
  {
   "cell_type": "code",
   "execution_count": 42,
   "metadata": {},
   "outputs": [
    {
     "data": {
      "image/png": "[encoded data removed]",
      "text/plain": [
       "<matplotlib.figure.Figure at 0x110cf1690>"
      ]
     },
     "metadata": {},
     "output_type": "display_data"
    }
   ],
   "source": [
    "_ = plt.boxplot(rates, 0,'gD')\n",
    "plt.show()"
   ]
  },
  {
   "cell_type": "code",
   "execution_count": 45,
   "metadata": {
    "scrolled": true
   },
   "outputs": [
    {
     "data": {
      "image/png": "[encoded data removed]",
      "text/plain": [
       "<matplotlib.figure.Figure at 0x11751be10>"
      ]
     },
     "metadata": {},
     "output_type": "display_data"
    }
   ],
   "source": [
    "_ = plt.boxplot(sat_verb, 1)\n",
    "plt.show()"
   ]
  },
  {
   "cell_type": "code",
   "execution_count": 71,
   "metadata": {},
   "outputs": [
    {
     "data": {
      "image/png": "[encoded data removed]",
      "text/plain": [
       "<matplotlib.figure.Figure at 0x1174ded10>"
      ]
     },
     "metadata": {},
     "output_type": "display_data"
    }
   ],
   "source": [
    "_ = plt.boxplot(sat_math,0)\n",
    "plt.show()"
   ]
  },
  {
   "cell_type": "markdown",
   "metadata": {},
   "source": [
    "##### BONUS: Using Tableau, create a heat map for each variable using a map of the US. "
   ]
  },
  {
   "cell_type": "code",
   "execution_count": 6,
   "metadata": {
    "collapsed": true
   },
   "outputs": [],
   "source": [
    "# Here I am trying to open an image that I exported from Tableau\n",
    "#../data/Overview.png"
   ]
  },
  {
   "cell_type": "code",
   "execution_count": 1,
   "metadata": {},
   "outputs": [
    {
     "ename": "SyntaxError",
     "evalue": "invalid syntax (<ipython-input-1-6279f9c020c9>, line 1)",
     "output_type": "error",
     "traceback": [
      "\u001b[0;36m  File \u001b[0;32m\"<ipython-input-1-6279f9c020c9>\"\u001b[0;36m, line \u001b[0;32m1\u001b[0m\n\u001b[0;31m    <img src=\"../data/Overview.png\">\u001b[0m\n\u001b[0m    ^\u001b[0m\n\u001b[0;31mSyntaxError\u001b[0m\u001b[0;31m:\u001b[0m invalid syntax\n"
     ]
    }
   ],
   "source": [
    "<img src=\"../data/Overview.png\">"
   ]
  },
  {
   "cell_type": "code",
   "execution_count": null,
   "metadata": {
    "collapsed": true
   },
   "outputs": [],
   "source": []
  }
 ],
 "metadata": {
  "anaconda-cloud": {},
  "kernelspec": {
   "display_name": "Python 2",
   "language": "python",
   "name": "python2"
  },
  "language_info": {
   "codemirror_mode": {
    "name": "ipython",
    "version": 2
   },
   "file_extension": ".py",
   "mimetype": "text/x-python",
   "name": "python",
   "nbconvert_exporter": "python",
   "pygments_lexer": "ipython2",
   "version": "2.7.13"
  }
 },
 "nbformat": 4,
 "nbformat_minor": 1
}
